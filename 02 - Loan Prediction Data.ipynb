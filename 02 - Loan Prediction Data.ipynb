{
 "cells": [
  {
   "cell_type": "markdown",
   "metadata": {},
   "source": [
    "<h1 align=\"center\"> Lending Club Loan Analysis </h1> <br>\n",
    "\n",
    "## Company Information:\n",
    "Lending Club is a  peer to peer lending company based in the United States, in which investors provide funds for potential borrowers and investors earn a profit depending on the risk they take (the borrowers credit score). Lending Club provides the \"bridge\" between investors and borrowers. For more basic information about the company please check out the wikipedia article about the company. <br>\n",
    "<a src=\"https://en.wikipedia.org/wiki/Lending_Club\"> Lending Club Information </a>\n",
    "\n",
    "## How Lending Club Works?\n",
    "<img src=\"http://echeck.org/wp-content/uploads/2016/12/Showing-how-the-lending-club-works-and-makes-money-1.png\" height=\"20\"><br><br>\n",
    "\n",
    "## Outline: <br><br>\n",
    "I. Introduction <br>\n",
    "a) [General Information](#general_information)<br>\n",
    "b) [Similar Distributions](#similar_distributions)<br><br>\n",
    "\n",
    "II. <b>Good Loans vs Bad Loans</b><br>\n",
    "a) [Types of Loans](#types_of_loans)<br>\n",
    "b) [Loans issued by Region](#by_region)<br>\n",
    "c) [A Deeper Look into Bad Loans](#deeper_bad_loans)<br><br>\n",
    "\n",
    "III. <b>The Business Perspective</b><br>\n",
    "a) [Understanding the Operative side of Business](#operative_side)<br>\n",
    "b) [Analysis by Income Category](#income_category) <br><br>\n",
    "\n",
    "IV. <b>Assesing Risks</b><br>\n",
    "a) [Understanding the Risky Side of Business](#risky_side)<br>\n",
    "b) [The importance of Credit Scores](#credit_scores)<br>\n",
    "c) [What determines a bad loan](#determines_bad_loan)<br>\n",
    "d) [Defaulted Loans](#defaulted_loans)\n",
    "e) [Risks by Purposes](#loan_condition)\n",
    "\n",
    "## References:\n",
    "1) <a src=\"https://www.kaggle.com/arthurtok/global-religion-1945-2010-plotly-pandas-visuals\"> Global Religion 1945-2010: Plotly & Pandas visuals</a> by Anisotropic <br>\n",
    "2) <a src=\"https://www.kaggle.com/vigilanf/loan-metrics-by-state\"> Loan Metrics By State </a> by Frank Vigilante<br>\n",
    "3) Hands on Machine Learning by Aurélien Géron <br>\n",
    "4) <a src=\"https://www.youtube.com/watch?v=oYbVFhK_olY&list=PLSPWNkAMSvv5DKeSVDbEbUKSsK4Z-GgiP\"> Deep Learning with Neural Networks and TensorFlow </a> by Sentdex"
   ]
  },
  {
   "cell_type": "code",
   "execution_count": 1,
   "metadata": {},
   "outputs": [
    {
     "data": {
      "text/html": [
       "<style>.container { width:100% !important; }</style>"
      ],
      "text/plain": [
       "<IPython.core.display.HTML object>"
      ]
     },
     "metadata": {},
     "output_type": "display_data"
    }
   ],
   "source": [
    "from IPython.core.display import display, HTML\n",
    "display(HTML(\"<style>.container { width:100% !important; }</style>\"))\n"
   ]
  },
  {
   "cell_type": "code",
   "execution_count": 2,
   "metadata": {},
   "outputs": [],
   "source": [
    "# Import our libraries we are going to use for our data analysis.\n",
    "import tensorflow as tf\n",
    "import pandas as pd"
   ]
  },
  {
   "cell_type": "code",
   "execution_count": 3,
   "metadata": {},
   "outputs": [],
   "source": [
    "pd.options.display.max_rows = 999\n",
    "import seaborn as sns\n",
    "import numpy as np\n",
    "import matplotlib.pyplot as plt"
   ]
  },
  {
   "cell_type": "code",
   "execution_count": 4,
   "metadata": {},
   "outputs": [
    {
     "data": {
      "text/html": [
       "        <script type=\"text/javascript\">\n",
       "        window.PlotlyConfig = {MathJaxConfig: 'local'};\n",
       "        if (window.MathJax) {MathJax.Hub.Config({SVG: {font: \"STIX-Web\"}});}\n",
       "        if (typeof require !== 'undefined') {\n",
       "        require.undef(\"plotly\");\n",
       "        requirejs.config({\n",
       "            paths: {\n",
       "                'plotly': ['https://cdn.plot.ly/plotly-latest.min']\n",
       "            }\n",
       "        });\n",
       "        require(['plotly'], function(Plotly) {\n",
       "            window._Plotly = Plotly;\n",
       "        });\n",
       "        }\n",
       "        </script>\n",
       "        "
      ]
     },
     "metadata": {},
     "output_type": "display_data"
    }
   ],
   "source": [
    "# Plotly visualizations\n",
    "from plotly import tools\n",
    "import chart_studio.plotly as py\n",
    "import plotly.figure_factory as ff\n",
    "import plotly.graph_objs as go\n",
    "from plotly.offline import download_plotlyjs, init_notebook_mode, plot, iplot\n",
    "init_notebook_mode(connected=True)\n",
    "# plotly.tools.set_credentials_file(username='AlexanderBach', api_key='o4fx6i1MtEIJQxfWYvU1')\n",
    "\n",
    "\n",
    "# For oversampling Library (Dealing with Imbalanced Datasets)\n",
    "from imblearn.over_sampling import SMOTE\n",
    "from collections import Counter\n",
    "\n",
    "# Other Libraries\n",
    "import time"
   ]
  },
  {
   "cell_type": "code",
   "execution_count": 5,
   "metadata": {},
   "outputs": [],
   "source": [
    "%matplotlib inline\n",
    "\n",
    "df = pd.read_csv('data02/loan.csv', low_memory=False)"
   ]
  },
  {
   "cell_type": "code",
   "execution_count": 6,
   "metadata": {},
   "outputs": [],
   "source": [
    "# Copy of the dataframe\n",
    "original_df = df.copy()"
   ]
  },
  {
   "cell_type": "code",
   "execution_count": 7,
   "metadata": {},
   "outputs": [
    {
     "data": {
      "application/javascript": [
       "IPython.OutputArea.auto_scroll_threshold = 9999;\n"
      ],
      "text/plain": [
       "<IPython.core.display.Javascript object>"
      ]
     },
     "metadata": {},
     "output_type": "display_data"
    }
   ],
   "source": [
    "%%javascript\n",
    "IPython.OutputArea.auto_scroll_threshold = 9999;"
   ]
  },
  {
   "cell_type": "code",
   "execution_count": 8,
   "metadata": {},
   "outputs": [],
   "source": [
    "#df.head(10).T"
   ]
  },
  {
   "cell_type": "code",
   "execution_count": 9,
   "metadata": {},
   "outputs": [
    {
     "data": {
      "text/plain": [
       "array([[<matplotlib.axes._subplots.AxesSubplot object at 0x1d9bee1e10>]],\n",
       "      dtype=object)"
      ]
     },
     "execution_count": 9,
     "metadata": {},
     "output_type": "execute_result"
    },
    {
     "data": {
      "image/png": "[encoded data removed]",
      "text/plain": [
       "<Figure size 432x288 with 1 Axes>"
      ]
     },
     "metadata": {
      "needs_background": "light"
     },
     "output_type": "display_data"
    }
   ],
   "source": [
    "df[[\"installment\"]].hist(bins=10)"
   ]
  },
  {
   "cell_type": "code",
   "execution_count": 10,
   "metadata": {},
   "outputs": [
    {
     "name": "stdout",
     "output_type": "stream",
     "text": [
      "<class 'pandas.core.frame.DataFrame'>\n",
      "RangeIndex: 2260668 entries, 0 to 2260667\n",
      "Columns: 145 entries, id to settlement_term\n",
      "dtypes: float64(105), int64(4), object(36)\n",
      "memory usage: 2.4+ GB\n"
     ]
    }
   ],
   "source": [
    "df.info()"
   ]
  },
  {
   "cell_type": "code",
   "execution_count": 11,
   "metadata": {},
   "outputs": [],
   "source": [
    "import pandas_profiling"
   ]
  },
  {
   "cell_type": "code",
   "execution_count": 12,
   "metadata": {},
   "outputs": [],
   "source": [
    "#pandas_profiling.ProfileReport(df[[\"loan_amnt\",\"bc_open_to_buy\",\"annual_inc\",\"last_pymnt_amnt\"]])"
   ]
  },
  {
   "cell_type": "code",
   "execution_count": 13,
   "metadata": {},
   "outputs": [],
   "source": [
    "# Replace the name of some columns\n",
    "df = df.rename(columns={\"loan_amnt\": \"loan_amount\", \"funded_amnt\": \"funded_amount\", \"funded_amnt_inv\": \"investor_funds\",\n",
    "                       \"int_rate\": \"interest_rate\", \"annual_inc\": \"annual_income\"})\n",
    "\n",
    "# Drop irrelevant columns\n",
    "df.drop(['id', 'member_id', 'emp_title', 'url', 'desc', 'zip_code', 'title'], axis=1, inplace=True)"
   ]
  },
  {
   "cell_type": "markdown",
   "metadata": {},
   "source": [
    "## Similar Distributions:\n",
    "<a id=\"similar_distributions\"></a>\n",
    "We will start by exploring the distribution of the loan amounts and see when did the loan amount issued increased significantly. <br>\n",
    "<h4> What we need to know: </h4> <br>\n",
    "<ul>\n",
    "<li> Understand what amount was <b>mostly issued</b> to borrowers. </li>\n",
    "<li> Which <b>year</b> issued the most loans. </li>\n",
    "<li> The distribution of loan amounts is a <b>multinomial distribution </b>.</li>\n",
    "</ul>\n",
    "<h4> Summary: </h4><br>\n",
    "<ul>\n",
    "<li> Most of the <b>loans issued</b> were in the range of 10,000 to 20,000 USD. </li>\n",
    "<li> The <b>year of 2015</b> was the year were most loans were issued.</li> \n",
    "<li> Loans were issued in an <b>incremental manner</b>. (Possible due to a recovery in the U.S economy) </li>\n",
    "<li> The loans <b>applied</b> by potential borrowers, the amount <b>issued</b> to the borrowers and the amount <b>funded</b> by investors are similarly distributed, <b>meaning</b> that it is most likely that qualified borrowers are going to get the loan they had applied for. </li>\n",
    "\n",
    "</ul>\n"
   ]
  },
  {
   "cell_type": "code",
   "execution_count": 14,
   "metadata": {},
   "outputs": [
    {
     "data": {
      "text/plain": [
       "Text(0.5, 1.0, 'Total committed by Investors')"
      ]
     },
     "execution_count": 14,
     "metadata": {},
     "output_type": "execute_result"
    },
    {
     "data": {
      "image/png": "[encoded data removed]",
      "text/plain": [
       "<Figure size 1152x360 with 3 Axes>"
      ]
     },
     "metadata": {},
     "output_type": "display_data"
    }
   ],
   "source": [
    "fig, ax = plt.subplots(1, 3, figsize=(16,5))\n",
    "\n",
    "loan_amount = df[\"loan_amount\"].values\n",
    "funded_amount = df[\"funded_amount\"].values\n",
    "investor_funds = df[\"investor_funds\"].values\n",
    "\n",
    "sns.distplot(loan_amount, ax=ax[0], color=\"#F7522F\")\n",
    "ax[0].set_title(\"Loan Applied by the Borrower\", fontsize=14)\n",
    "sns.distplot(funded_amount, ax=ax[1], color=\"#2F8FF7\")\n",
    "ax[1].set_title(\"Amount Funded by the Lender\", fontsize=14)\n",
    "sns.distplot(investor_funds, ax=ax[2], color=\"#2EAD46\")\n",
    "ax[2].set_title(\"Total committed by Investors\", fontsize=14)"
   ]
  },
  {
   "cell_type": "code",
   "execution_count": 15,
   "metadata": {},
   "outputs": [],
   "source": [
    "# Lets' transform the issue dates by year.\n",
    "df['issue_d'].head()\n",
    "dt_series = pd.to_datetime(df['issue_d'])\n",
    "df['year'] = dt_series.dt.year"
   ]
  },
  {
   "cell_type": "code",
   "execution_count": 16,
   "metadata": {},
   "outputs": [
    {
     "data": {
      "text/plain": [
       "Text(0, 0.5, 'Average loan amount issued')"
      ]
     },
     "execution_count": 16,
     "metadata": {},
     "output_type": "execute_result"
    },
    {
     "data": {
      "image/png": "[encoded data removed]",
      "text/plain": [
       "<Figure size 864x576 with 1 Axes>"
      ]
     },
     "metadata": {},
     "output_type": "display_data"
    }
   ],
   "source": [
    "# The year of 2015 was the year were the highest amount of loans were issued \n",
    "# This is an indication that the economy is quiet recovering itself.\n",
    "plt.figure(figsize=(12,8))\n",
    "sns.barplot('year', 'loan_amount', data=df, palette='tab10')\n",
    "plt.title('Issuance of Loans', fontsize=16)\n",
    "plt.xlabel('Year', fontsize=14)\n",
    "plt.ylabel('Average loan amount issued', fontsize=14)"
   ]
  },
  {
   "cell_type": "markdown",
   "metadata": {},
   "source": [
    "<h1 align=\"center\"> Good Loans vs Bad Loans: </h1>\n",
    "<h2>Types of Loans: </h2>\n",
    "<a id=\"types_of_loans\"></a>\n",
    "<img src=\"http://flooring-budget.com/wp-content/uploads/2018/12/type-of-loans-1.png\">\n",
    "<br><br>\n",
    "In this section, we will see what is the amount of bad loans Lending Club has declared so far, of course we have to understand that there are still loans that are at a risk of defaulting in the future. \n",
    "\n",
    "<h4> What we need to know: </h4>\n",
    "<ul>\n",
    "<li> The amount of bad loans could <b>increment</b> as the days pass by, since we still have a great amount of current loans. </li>\n",
    "<li> <b>Average annual income</b> is an important key metric for finding possible opportunities of investments in a specific region. </li>\n",
    "\n",
    "</ul>\n",
    "\n",
    "<h4> Summary: </h4>\n",
    "<ul>\n",
    "<li> Currently, <b>bad loans</b> consist 7.60% of total loans but remember that we still have <b>current loans</b> which have the risk of becoming bad loans. (So this percentage is subjected to possible changes.) </li>\n",
    "<li> The <b> NorthEast </b> region seems to be the most attractive in term of funding loans to borrowers. </li>\n",
    "<li> The <b> SouthWest </b> and <b> West</b> regions have experienced a slight increase in the \"median income\" in the past years. </li> \n",
    "<li> <b>Average interest</b> rates have declined since 2012 but this might explain the <b>increase in the volume</b> of loans.  </li>\n",
    "<li> <b>Employment Length</b> tends to be greater in the regions of the <b>SouthWest</b> and <b>West</b></li>\n",
    "<li> Clients located in the regions of <b>NorthEast</b> and <b>MidWest</b> have not experienced a drastic increase in debt-to-income(dti) as compared to the other regions. </li>\n",
    "</ul>"
   ]
  },
  {
   "cell_type": "code",
   "execution_count": 17,
   "metadata": {},
   "outputs": [],
   "source": [
    "del original_df"
   ]
  },
  {
   "cell_type": "code",
   "execution_count": 18,
   "metadata": {},
   "outputs": [
    {
     "data": {
      "text/plain": [
       "Fully Paid                                             1041952\n",
       "Current                                                 919695\n",
       "Charged Off                                             261655\n",
       "Late (31-120 days)                                       21897\n",
       "In Grace Period                                           8952\n",
       "Late (16-30 days)                                         3737\n",
       "Does not meet the credit policy. Status:Fully Paid        1988\n",
       "Does not meet the credit policy. Status:Charged Off        761\n",
       "Default                                                     31\n",
       "Name: loan_status, dtype: int64"
      ]
     },
     "execution_count": 18,
     "metadata": {},
     "output_type": "execute_result"
    }
   ],
   "source": [
    "df[\"loan_status\"].value_counts()"
   ]
  },
  {
   "cell_type": "code",
   "execution_count": 19,
   "metadata": {},
   "outputs": [],
   "source": [
    "# Determining the loans that are bad from loan_status column\n",
    "\n",
    "bad_loan = [\"Charged Off\", \"Default\", \"Does not meet the credit policy. Status:Charged Off\", \"In Grace Period\", \n",
    "            \"Late (16-30 days)\", \"Late (31-120 days)\"]\n",
    "\n",
    "\n",
    "df['loan_condition'] = np.nan\n",
    "\n",
    "def loan_condition(status):\n",
    "    if status in bad_loan:\n",
    "        return 'Bad Loan'\n",
    "    else:\n",
    "        return 'Good Loan'\n",
    "    \n",
    "    \n",
    "df['loan_condition'] = df['loan_status'].apply(loan_condition)"
   ]
  },
  {
   "cell_type": "code",
   "execution_count": 20,
   "metadata": {},
   "outputs": [
    {
     "data": {
      "text/plain": [
       "[Text(0, 0.5, '(%)')]"
      ]
     },
     "execution_count": 20,
     "metadata": {},
     "output_type": "execute_result"
    },
    {
     "data": {
      "image/png": "[encoded data removed]",
      "text/plain": [
       "<Figure size 1152x576 with 2 Axes>"
      ]
     },
     "metadata": {},
     "output_type": "display_data"
    }
   ],
   "source": [
    "f, ax = plt.subplots(1,2, figsize=(16,8))\n",
    "\n",
    "colors = [\"#3791D7\", \"#D72626\"]\n",
    "labels =\"Good Loans\", \"Bad Loans\"\n",
    "\n",
    "plt.suptitle('Information on Loan Conditions', fontsize=20)\n",
    "\n",
    "df[\"loan_condition\"].value_counts().plot.pie(explode=[0,0.25], autopct='%1.2f%%', ax=ax[0], shadow=True, colors=colors, \n",
    "                                             labels=labels, fontsize=12, startangle=70)\n",
    "\n",
    "# ax[0].set_title('State of Loan', fontsize=16)\n",
    "ax[0].set_ylabel('% of Condition of Loans', fontsize=14)\n",
    "\n",
    "# sns.countplot('loan_condition', data=df, ax=ax[1], palette=colors)\n",
    "# ax[1].set_title('Condition of Loans', fontsize=20)\n",
    "# ax[1].set_xticklabels(['Good', 'Bad'], rotation='horizontal')\n",
    "palette = [\"#3791D7\", \"#E01E1B\"]\n",
    "\n",
    "sns.barplot(x=\"year\", y=\"loan_amount\", hue=\"loan_condition\", data=df, palette=palette, estimator=lambda x: len(x) / len(df) * 100)\n",
    "ax[1].set(ylabel=\"(%)\")"
   ]
  },
  {
   "cell_type": "markdown",
   "metadata": {},
   "source": [
    "<h2> Loans Issued by Region</h2>\n",
    "<a id=\"by_region\"></a>\n",
    "In this section we want to analyze loans issued by region in order to see region patters that will allow us to understand which region gives Lending Club.<br><br>\n",
    "\n",
    "## Summary: <br>\n",
    "<ul>\n",
    "<li> <b> SouthEast</b> , <b>West </b> and <b>NorthEast</b> regions had the highest amount lof loans issued. </li>\n",
    "<li> <b>West </b> and <b>SouthWest </b> had a rapid increase in debt-to-income starting in 2012. </li>\n",
    "<li><b>West </b> and <b>SouthWest </b>  had a rapid decrease in interest rates (This might explain the increase in debt to income). </li>\n",
    "</ul>"
   ]
  },
  {
   "cell_type": "code",
   "execution_count": 21,
   "metadata": {},
   "outputs": [],
   "source": [
    "df['addr_state'].unique()\n",
    "\n",
    "# Make a list with each of the regions by state.\n",
    "\n",
    "west = ['CA', 'OR', 'UT','WA', 'CO', 'NV', 'AK', 'MT', 'HI', 'WY', 'ID']\n",
    "south_west = ['AZ', 'TX', 'NM', 'OK']\n",
    "south_east = ['GA', 'NC', 'VA', 'FL', 'KY', 'SC', 'LA', 'AL', 'WV', 'DC', 'AR', 'DE', 'MS', 'TN' ]\n",
    "mid_west = ['IL', 'MO', 'MN', 'OH', 'WI', 'KS', 'MI', 'SD', 'IA', 'NE', 'IN', 'ND']\n",
    "north_east = ['CT', 'NY', 'PA', 'NJ', 'RI','MA', 'MD', 'VT', 'NH', 'ME']\n",
    "\n",
    "\n",
    "\n",
    "df['region'] = np.nan\n",
    "\n",
    "def finding_regions(state):\n",
    "    if state in west:\n",
    "        return 'West'\n",
    "    elif state in south_west:\n",
    "        return 'SouthWest'\n",
    "    elif state in south_east:\n",
    "        return 'SouthEast'\n",
    "    elif state in mid_west:\n",
    "        return 'MidWest'\n",
    "    elif state in north_east:\n",
    "        return 'NorthEast'\n",
    "    \n",
    "\n",
    "\n",
    "df['region'] = df['addr_state'].apply(finding_regions)"
   ]
  },
  {
   "cell_type": "code",
   "execution_count": 22,
   "metadata": {},
   "outputs": [],
   "source": [
    "# This code will take the current date and transform it into a year-month format\n",
    "df['complete_date'] = pd.to_datetime(df['issue_d'])\n",
    "\n",
    "group_dates = df.groupby(['complete_date', 'region'], as_index=False).sum()\n",
    "\n",
    "group_dates['issue_d'] = [month.to_period('M') for \n",
    "                          month in group_dates['complete_date']]\n",
    "\n",
    "group_dates = group_dates.groupby(['issue_d', 'region'], as_index=False).sum()\n",
    "group_dates = group_dates.groupby(['issue_d', 'region'], as_index=False).sum()\n",
    "group_dates['loan_amount'] = group_dates['loan_amount']/1000\n",
    "\n",
    "\n",
    "df_dates = pd.DataFrame(data=group_dates[['issue_d','region','loan_amount']])"
   ]
  },
  {
   "cell_type": "code",
   "execution_count": 23,
   "metadata": {},
   "outputs": [
    {
     "data": {
      "text/plain": [
       "Text(0.5, 1.0, 'Loans issued by Region')"
      ]
     },
     "execution_count": 23,
     "metadata": {},
     "output_type": "execute_result"
    },
    {
     "data": {
      "image/png": "[encoded data removed]",
      "text/plain": [
       "<Figure size 1080x432 with 1 Axes>"
      ]
     },
     "metadata": {},
     "output_type": "display_data"
    }
   ],
   "source": [
    "plt.style.use('dark_background')\n",
    "cmap = plt.cm.Set3\n",
    "\n",
    "by_issued_amount = df_dates.groupby(['issue_d', 'region']).loan_amount.sum()\n",
    "by_issued_amount.unstack().plot(stacked=True, colormap=cmap, grid=False, legend=True, figsize=(15,6))\n",
    "\n",
    "plt.title('Loans issued by Region', fontsize=16)"
   ]
  },
  {
   "cell_type": "code",
   "execution_count": 24,
   "metadata": {},
   "outputs": [],
   "source": [
    "employment_length = ['10+ years', '< 1 year', '1 year', '3 years', '8 years', '9 years',\n",
    "                    '4 years', '5 years', '6 years', '2 years', '7 years', 'n/a']\n",
    "\n",
    "# Create a new column and convert emp_length to integers.\n",
    "\n",
    "lst = [df]\n",
    "df['emp_length_int'] = np.nan\n",
    "\n",
    "for col in lst:\n",
    "    col.loc[col['emp_length'] == '10+ years', \"emp_length_int\"] = 10\n",
    "    col.loc[col['emp_length'] == '9 years', \"emp_length_int\"] = 9\n",
    "    col.loc[col['emp_length'] == '8 years', \"emp_length_int\"] = 8\n",
    "    col.loc[col['emp_length'] == '7 years', \"emp_length_int\"] = 7\n",
    "    col.loc[col['emp_length'] == '6 years', \"emp_length_int\"] = 6\n",
    "    col.loc[col['emp_length'] == '5 years', \"emp_length_int\"] = 5\n",
    "    col.loc[col['emp_length'] == '4 years', \"emp_length_int\"] = 4\n",
    "    col.loc[col['emp_length'] == '3 years', \"emp_length_int\"] = 3\n",
    "    col.loc[col['emp_length'] == '2 years', \"emp_length_int\"] = 2\n",
    "    col.loc[col['emp_length'] == '1 year', \"emp_length_int\"] = 1\n",
    "    col.loc[col['emp_length'] == '< 1 year', \"emp_length_int\"] = 0.5\n",
    "    col.loc[col['emp_length'] == 'n/a', \"emp_length_int\"] = 0"
   ]
  },
  {
   "cell_type": "code",
   "execution_count": 25,
   "metadata": {},
   "outputs": [
    {
     "data": {
      "text/plain": [
       "<matplotlib.legend.Legend at 0x1c3c97aad0>"
      ]
     },
     "execution_count": 25,
     "metadata": {},
     "output_type": "execute_result"
    },
    {
     "data": {
      "image/png": "[encoded data removed]",
      "text/plain": [
       "<Figure size 1152x864 with 4 Axes>"
      ]
     },
     "metadata": {},
     "output_type": "display_data"
    }
   ],
   "source": [
    "# Loan issued by Region and by Credit Score grade\n",
    "# Change the colormap for tomorrow!\n",
    "\n",
    "sns.set_style('whitegrid')\n",
    "\n",
    "f, ((ax1, ax2), (ax3, ax4)) = plt.subplots(2, 2)\n",
    "cmap = plt.cm.inferno\n",
    "\n",
    "by_interest_rate = df.groupby(['year', 'region']).interest_rate.mean()\n",
    "by_interest_rate.unstack().plot(kind='area', stacked=True, colormap=cmap, grid=False, legend=False, ax=ax1, figsize=(16,12))\n",
    "ax1.set_title('Average Interest Rate by Region', fontsize=14)\n",
    "\n",
    "\n",
    "by_employment_length = df.groupby(['year', 'region']).emp_length_int.mean()\n",
    "by_employment_length.unstack().plot(kind='area', stacked=True, colormap=cmap, grid=False, legend=False, ax=ax2, figsize=(16,12))\n",
    "ax2.set_title('Average Employment Length by Region', fontsize=14)\n",
    "# plt.xlabel('Year of Issuance', fontsize=14)\n",
    "\n",
    "by_dti = df.groupby(['year', 'region']).dti.mean()\n",
    "by_dti.unstack().plot(kind='area', stacked=True, colormap=cmap, grid=False, legend=False, ax=ax3, figsize=(16,12))\n",
    "ax3.set_title('Average Debt-to-Income by Region', fontsize=14)\n",
    "\n",
    "by_income = df.groupby(['year', 'region']).annual_income.mean()\n",
    "by_income.unstack().plot(kind='area', stacked=True, colormap=cmap, grid=False, ax=ax4, figsize=(16,12))\n",
    "ax4.set_title('Average Annual Income by Region', fontsize=14)\n",
    "ax4.legend(bbox_to_anchor=(-1.0, -0.5, 1.8, 0.1), loc=10,prop={'size':12},\n",
    "           ncol=5, mode=\"expand\", borderaxespad=0.)"
   ]
  },
  {
   "cell_type": "markdown",
   "metadata": {},
   "source": [
    "## A Deeper Look into Bad Loans:\n",
    "<a id=\"deeper_bad_loans\"></a>\n",
    "\n",
    "<h4> What we need to know: </h4>\n",
    "<ul> \n",
    "<li>The number of loans that were classified as bad loans for each region by its <b>loan status</b>. (This will be shown in a dataframe below.)</li>\n",
    "<li> This won't give us the exact reasons why a loan is categorized as a bad loan (other variables that might have influence the condition of the loan) but it will give us a <b> deeper insight on the level of risk </b> in a particular region. </li>\n",
    "</ul>\n",
    "\n",
    "<h4> Summary: </h4>\n",
    "<ul>\n",
    "<li>The regions of the <b> West </b> and <b> SouthEast </b> had a higher percentage in most of the b \"bad\" loan statuses.</li>\n",
    "<li> The <b>NorthEast</b> region had a higher percentage in <b>Grace Period</b> and <b>Does not meet Credit Policy</b> loan status. However, both of these are not considered as bad as <b>default</b> for instance. </li>\n",
    "<li> Based on this small and brief summary we can conclude that the <b>West</b> and <b>SouthEast</b> regions have the most undesirable loan status, but just by a slightly higher percentage compared to the <b>NorthEast</b> region. </li>\n",
    "<li> Again, this does not tell us what causes a loan to be a <b> bad loan </b>, but it gives us some idea about <b>the level of risk</b> within the regions across the United States. </li>\n",
    "</ul>"
   ]
  },
  {
   "cell_type": "code",
   "execution_count": 26,
   "metadata": {},
   "outputs": [
    {
     "data": {
      "text/html": [
       "<div>\n",
       "<style scoped>\n",
       "    .dataframe tbody tr th:only-of-type {\n",
       "        vertical-align: middle;\n",
       "    }\n",
       "\n",
       "    .dataframe tbody tr th {\n",
       "        vertical-align: top;\n",
       "    }\n",
       "\n",
       "    .dataframe thead th {\n",
       "        text-align: right;\n",
       "    }\n",
       "</style>\n",
       "<table border=\"1\" class=\"dataframe\">\n",
       "  <thead>\n",
       "    <tr style=\"text-align: right;\">\n",
       "      <th>loan_status</th>\n",
       "      <th>Charged Off</th>\n",
       "      <th>Default</th>\n",
       "      <th>Does not meet the credit policy. Status:Charged Off</th>\n",
       "      <th>In Grace Period</th>\n",
       "      <th>Late (16-30 days)</th>\n",
       "      <th>Late (31-120 days)</th>\n",
       "      <th>Total</th>\n",
       "    </tr>\n",
       "    <tr>\n",
       "      <th>region</th>\n",
       "      <th></th>\n",
       "      <th></th>\n",
       "      <th></th>\n",
       "      <th></th>\n",
       "      <th></th>\n",
       "      <th></th>\n",
       "      <th></th>\n",
       "    </tr>\n",
       "  </thead>\n",
       "  <tbody>\n",
       "    <tr>\n",
       "      <td>MidWest</td>\n",
       "      <td>45202</td>\n",
       "      <td>9</td>\n",
       "      <td>142</td>\n",
       "      <td>1449</td>\n",
       "      <td>550</td>\n",
       "      <td>3609</td>\n",
       "      <td>50961</td>\n",
       "    </tr>\n",
       "    <tr>\n",
       "      <td>NorthEast</td>\n",
       "      <td>60827</td>\n",
       "      <td>7</td>\n",
       "      <td>190</td>\n",
       "      <td>2356</td>\n",
       "      <td>957</td>\n",
       "      <td>5356</td>\n",
       "      <td>69693</td>\n",
       "    </tr>\n",
       "    <tr>\n",
       "      <td>SouthEast</td>\n",
       "      <td>65460</td>\n",
       "      <td>5</td>\n",
       "      <td>184</td>\n",
       "      <td>2359</td>\n",
       "      <td>974</td>\n",
       "      <td>5596</td>\n",
       "      <td>74578</td>\n",
       "    </tr>\n",
       "    <tr>\n",
       "      <td>SouthWest</td>\n",
       "      <td>31833</td>\n",
       "      <td>4</td>\n",
       "      <td>79</td>\n",
       "      <td>1009</td>\n",
       "      <td>463</td>\n",
       "      <td>2794</td>\n",
       "      <td>36182</td>\n",
       "    </tr>\n",
       "    <tr>\n",
       "      <td>West</td>\n",
       "      <td>58333</td>\n",
       "      <td>6</td>\n",
       "      <td>166</td>\n",
       "      <td>1779</td>\n",
       "      <td>793</td>\n",
       "      <td>4542</td>\n",
       "      <td>65619</td>\n",
       "    </tr>\n",
       "  </tbody>\n",
       "</table>\n",
       "</div>"
      ],
      "text/plain": [
       "loan_status  Charged Off  Default  \\\n",
       "region                              \n",
       "MidWest            45202        9   \n",
       "NorthEast          60827        7   \n",
       "SouthEast          65460        5   \n",
       "SouthWest          31833        4   \n",
       "West               58333        6   \n",
       "\n",
       "loan_status  Does not meet the credit policy. Status:Charged Off  \\\n",
       "region                                                             \n",
       "MidWest                                                    142     \n",
       "NorthEast                                                  190     \n",
       "SouthEast                                                  184     \n",
       "SouthWest                                                   79     \n",
       "West                                                       166     \n",
       "\n",
       "loan_status  In Grace Period  Late (16-30 days)  Late (31-120 days)  Total  \n",
       "region                                                                      \n",
       "MidWest                 1449                550                3609  50961  \n",
       "NorthEast               2356                957                5356  69693  \n",
       "SouthEast               2359                974                5596  74578  \n",
       "SouthWest               1009                463                2794  36182  \n",
       "West                    1779                793                4542  65619  "
      ]
     },
     "execution_count": 26,
     "metadata": {},
     "output_type": "execute_result"
    }
   ],
   "source": [
    "# We have 67429 loans categorized as bad loans\n",
    "badloans_df = df.loc[df[\"loan_condition\"] == \"Bad Loan\"]\n",
    "\n",
    "# loan_status cross\n",
    "loan_status_cross = pd.crosstab(badloans_df['region'], badloans_df['loan_status']).apply(lambda x: x/x.sum() * 100)\n",
    "number_of_loanstatus = pd.crosstab(badloans_df['region'], badloans_df['loan_status'])\n",
    "\n",
    "\n",
    "# Round our values\n",
    "loan_status_cross['Charged Off'] = loan_status_cross['Charged Off'].apply(lambda x: round(x, 2))\n",
    "loan_status_cross['Default'] = loan_status_cross['Default'].apply(lambda x: round(x, 2))\n",
    "loan_status_cross['Does not meet the credit policy. Status:Charged Off'] = loan_status_cross['Does not meet the credit policy. Status:Charged Off'].apply(lambda x: round(x, 2))\n",
    "loan_status_cross['In Grace Period'] = loan_status_cross['In Grace Period'].apply(lambda x: round(x, 2))\n",
    "loan_status_cross['Late (16-30 days)'] = loan_status_cross['Late (16-30 days)'].apply(lambda x: round(x, 2))\n",
    "loan_status_cross['Late (31-120 days)'] = loan_status_cross['Late (31-120 days)'].apply(lambda x: round(x, 2))\n",
    "\n",
    "\n",
    "number_of_loanstatus['Total'] = number_of_loanstatus.sum(axis=1) \n",
    "# number_of_badloans\n",
    "number_of_loanstatus"
   ]
  },
  {
   "cell_type": "code",
   "execution_count": 27,
   "metadata": {},
   "outputs": [
    {
     "data": {
      "application/vnd.plotly.v1+json": {
       "config": {
        "linkText": "Export to plot.ly",
        "plotlyServerURL": "https://plot.ly",
        "showLink": false
       },
       "data": [
        {
         "marker": {
          "color": "rgb(192, 148, 246)"
         },
         "name": "Charged Off",
         "text": "%",
         "type": "bar",
         "x": [
          "MidWest",
          "NorthEast",
          "SouthEast",
          "SouthWest",
          "West"
         ],
         "y": [
          17.28,
          23.25,
          25.02,
          12.17,
          22.29
         ]
        },
        {
         "marker": {
          "color": "rgb(176, 26, 26)"
         },
         "name": "Defaults",
         "text": "%",
         "type": "bar",
         "x": [
          "MidWest",
          "NorthEast",
          "SouthEast",
          "SouthWest",
          "West"
         ],
         "y": [
          29.03,
          22.58,
          16.13,
          12.9,
          19.35
         ]
        },
        {
         "marker": {
          "color": "rgb(229, 121, 36)"
         },
         "name": "Does not meet Credit Policy",
         "text": "%",
         "type": "bar",
         "x": [
          "MidWest",
          "NorthEast",
          "SouthEast",
          "SouthWest",
          "West"
         ],
         "y": [
          18.66,
          24.97,
          24.18,
          10.38,
          21.81
         ]
        },
        {
         "marker": {
          "color": "rgb(147, 147, 147)"
         },
         "name": "Grace Period",
         "text": "%",
         "type": "bar",
         "x": [
          "MidWest",
          "NorthEast",
          "SouthEast",
          "SouthWest",
          "West"
         ],
         "y": [
          16.19,
          26.32,
          26.35,
          11.27,
          19.87
         ]
        },
        {
         "marker": {
          "color": "rgb(246, 157, 135)"
         },
         "name": "Late Payment (16-30 days)",
         "text": "%",
         "type": "bar",
         "x": [
          "MidWest",
          "NorthEast",
          "SouthEast",
          "SouthWest",
          "West"
         ],
         "y": [
          14.72,
          25.61,
          26.06,
          12.39,
          21.22
         ]
        },
        {
         "marker": {
          "color": "rgb(238, 76, 73)"
         },
         "name": "Late Payment (31-120 days)",
         "text": "%",
         "type": "bar",
         "x": [
          "MidWest",
          "NorthEast",
          "SouthEast",
          "SouthWest",
          "West"
         ],
         "y": [
          16.48,
          24.46,
          25.56,
          12.76,
          20.74
         ]
        }
       ],
       "layout": {
        "barmode": "stack",
        "template": {
         "data": {
          "bar": [
           {
            "error_x": {
             "color": "#2a3f5f"
            },
            "error_y": {
             "color": "#2a3f5f"
            },
            "marker": {
             "line": {
              "color": "#E5ECF6",
              "width": 0.5
             }
            },
            "type": "bar"
           }
          ],
          "barpolar": [
           {
            "marker": {
             "line": {
              "color": "#E5ECF6",
              "width": 0.5
             }
            },
            "type": "barpolar"
           }
          ],
          "carpet": [
           {
            "aaxis": {
             "endlinecolor": "#2a3f5f",
             "gridcolor": "white",
             "linecolor": "white",
             "minorgridcolor": "white",
             "startlinecolor": "#2a3f5f"
            },
            "baxis": {
             "endlinecolor": "#2a3f5f",
             "gridcolor": "white",
             "linecolor": "white",
             "minorgridcolor": "white",
             "startlinecolor": "#2a3f5f"
            },
            "type": "carpet"
           }
          ],
          "choropleth": [
           {
            "colorbar": {
             "outlinewidth": 0,
             "ticks": ""
            },
            "type": "choropleth"
           }
          ],
          "contour": [
           {
            "colorbar": {
             "outlinewidth": 0,
             "ticks": ""
            },
            "colorscale": [
             [
              0,
              "#0d0887"
             ],
             [
              0.1111111111111111,
              "#46039f"
             ],
             [
              0.2222222222222222,
              "#7201a8"
             ],
             [
              0.3333333333333333,
              "#9c179e"
             ],
             [
              0.4444444444444444,
              "#bd3786"
             ],
             [
              0.5555555555555556,
              "#d8576b"
             ],
             [
              0.6666666666666666,
              "#ed7953"
             ],
             [
              0.7777777777777778,
              "#fb9f3a"
             ],
             [
              0.8888888888888888,
              "#fdca26"
             ],
             [
              1,
              "#f0f921"
             ]
            ],
            "type": "contour"
           }
          ],
          "contourcarpet": [
           {
            "colorbar": {
             "outlinewidth": 0,
             "ticks": ""
            },
            "type": "contourcarpet"
           }
          ],
          "heatmap": [
           {
            "colorbar": {
             "outlinewidth": 0,
             "ticks": ""
            },
            "colorscale": [
             [
              0,
              "#0d0887"
             ],
             [
              0.1111111111111111,
              "#46039f"
             ],
             [
              0.2222222222222222,
              "#7201a8"
             ],
             [
              0.3333333333333333,
              "#9c179e"
             ],
             [
              0.4444444444444444,
              "#bd3786"
             ],
             [
              0.5555555555555556,
              "#d8576b"
             ],
             [
              0.6666666666666666,
              "#ed7953"
             ],
             [
              0.7777777777777778,
              "#fb9f3a"
             ],
             [
              0.8888888888888888,
              "#fdca26"
             ],
             [
              1,
              "#f0f921"
             ]
            ],
            "type": "heatmap"
           }
          ],
          "heatmapgl": [
           {
            "colorbar": {
             "outlinewidth": 0,
             "ticks": ""
            },
            "colorscale": [
             [
              0,
              "#0d0887"
             ],
             [
              0.1111111111111111,
              "#46039f"
             ],
             [
              0.2222222222222222,
              "#7201a8"
             ],
             [
              0.3333333333333333,
              "#9c179e"
             ],
             [
              0.4444444444444444,
              "#bd3786"
             ],
             [
              0.5555555555555556,
              "#d8576b"
             ],
             [
              0.6666666666666666,
              "#ed7953"
             ],
             [
              0.7777777777777778,
              "#fb9f3a"
             ],
             [
              0.8888888888888888,
              "#fdca26"
             ],
             [
              1,
              "#f0f921"
             ]
            ],
            "type": "heatmapgl"
           }
          ],
          "histogram": [
           {
            "marker": {
             "colorbar": {
              "outlinewidth": 0,
              "ticks": ""
             }
            },
            "type": "histogram"
           }
          ],
          "histogram2d": [
           {
            "colorbar": {
             "outlinewidth": 0,
             "ticks": ""
            },
            "colorscale": [
             [
              0,
              "#0d0887"
             ],
             [
              0.1111111111111111,
              "#46039f"
             ],
             [
              0.2222222222222222,
              "#7201a8"
             ],
             [
              0.3333333333333333,
              "#9c179e"
             ],
             [
              0.4444444444444444,
              "#bd3786"
             ],
             [
              0.5555555555555556,
              "#d8576b"
             ],
             [
              0.6666666666666666,
              "#ed7953"
             ],
             [
              0.7777777777777778,
              "#fb9f3a"
             ],
             [
              0.8888888888888888,
              "#fdca26"
             ],
             [
              1,
              "#f0f921"
             ]
            ],
            "type": "histogram2d"
           }
          ],
          "histogram2dcontour": [
           {
            "colorbar": {
             "outlinewidth": 0,
             "ticks": ""
            },
            "colorscale": [
             [
              0,
              "#0d0887"
             ],
             [
              0.1111111111111111,
              "#46039f"
             ],
             [
              0.2222222222222222,
              "#7201a8"
             ],
             [
              0.3333333333333333,
              "#9c179e"
             ],
             [
              0.4444444444444444,
              "#bd3786"
             ],
             [
              0.5555555555555556,
              "#d8576b"
             ],
             [
              0.6666666666666666,
              "#ed7953"
             ],
             [
              0.7777777777777778,
              "#fb9f3a"
             ],
             [
              0.8888888888888888,
              "#fdca26"
             ],
             [
              1,
              "#f0f921"
             ]
            ],
            "type": "histogram2dcontour"
           }
          ],
          "mesh3d": [
           {
            "colorbar": {
             "outlinewidth": 0,
             "ticks": ""
            },
            "type": "mesh3d"
           }
          ],
          "parcoords": [
           {
            "line": {
             "colorbar": {
              "outlinewidth": 0,
              "ticks": ""
             }
            },
            "type": "parcoords"
           }
          ],
          "scatter": [
           {
            "marker": {
             "colorbar": {
              "outlinewidth": 0,
              "ticks": ""
             }
            },
            "type": "scatter"
           }
          ],
          "scatter3d": [
           {
            "line": {
             "colorbar": {
              "outlinewidth": 0,
              "ticks": ""
             }
            },
            "marker": {
             "colorbar": {
              "outlinewidth": 0,
              "ticks": ""
             }
            },
            "type": "scatter3d"
           }
          ],
          "scattercarpet": [
           {
            "marker": {
             "colorbar": {
              "outlinewidth": 0,
              "ticks": ""
             }
            },
            "type": "scattercarpet"
           }
          ],
          "scattergeo": [
           {
            "marker": {
             "colorbar": {
              "outlinewidth": 0,
              "ticks": ""
             }
            },
            "type": "scattergeo"
           }
          ],
          "scattergl": [
           {
            "marker": {
             "colorbar": {
              "outlinewidth": 0,
              "ticks": ""
             }
            },
            "type": "scattergl"
           }
          ],
          "scattermapbox": [
           {
            "marker": {
             "colorbar": {
              "outlinewidth": 0,
              "ticks": ""
             }
            },
            "type": "scattermapbox"
           }
          ],
          "scatterpolar": [
           {
            "marker": {
             "colorbar": {
              "outlinewidth": 0,
              "ticks": ""
             }
            },
            "type": "scatterpolar"
           }
          ],
          "scatterpolargl": [
           {
            "marker": {
             "colorbar": {
              "outlinewidth": 0,
              "ticks": ""
             }
            },
            "type": "scatterpolargl"
           }
          ],
          "scatterternary": [
           {
            "marker": {
             "colorbar": {
              "outlinewidth": 0,
              "ticks": ""
             }
            },
            "type": "scatterternary"
           }
          ],
          "surface": [
           {
            "colorbar": {
             "outlinewidth": 0,
             "ticks": ""
            },
            "colorscale": [
             [
              0,
              "#0d0887"
             ],
             [
              0.1111111111111111,
              "#46039f"
             ],
             [
              0.2222222222222222,
              "#7201a8"
             ],
             [
              0.3333333333333333,
              "#9c179e"
             ],
             [
              0.4444444444444444,
              "#bd3786"
             ],
             [
              0.5555555555555556,
              "#d8576b"
             ],
             [
              0.6666666666666666,
              "#ed7953"
             ],
             [
              0.7777777777777778,
              "#fb9f3a"
             ],
             [
              0.8888888888888888,
              "#fdca26"
             ],
             [
              1,
              "#f0f921"
             ]
            ],
            "type": "surface"
           }
          ],
          "table": [
           {
            "cells": {
             "fill": {
              "color": "#EBF0F8"
             },
             "line": {
              "color": "white"
             }
            },
            "header": {
             "fill": {
              "color": "#C8D4E3"
             },
             "line": {
              "color": "white"
             }
            },
            "type": "table"
           }
          ]
         },
         "layout": {
          "annotationdefaults": {
           "arrowcolor": "#2a3f5f",
           "arrowhead": 0,
           "arrowwidth": 1
          },
          "colorscale": {
           "diverging": [
            [
             0,
             "#8e0152"
            ],
            [
             0.1,
             "#c51b7d"
            ],
            [
             0.2,
             "#de77ae"
            ],
            [
             0.3,
             "#f1b6da"
            ],
            [
             0.4,
             "#fde0ef"
            ],
            [
             0.5,
             "#f7f7f7"
            ],
            [
             0.6,
             "#e6f5d0"
            ],
            [
             0.7,
             "#b8e186"
            ],
            [
             0.8,
             "#7fbc41"
            ],
            [
             0.9,
             "#4d9221"
            ],
            [
             1,
             "#276419"
            ]
           ],
           "sequential": [
            [
             0,
             "#0d0887"
            ],
            [
             0.1111111111111111,
             "#46039f"
            ],
            [
             0.2222222222222222,
             "#7201a8"
            ],
            [
             0.3333333333333333,
             "#9c179e"
            ],
            [
             0.4444444444444444,
             "#bd3786"
            ],
            [
             0.5555555555555556,
             "#d8576b"
            ],
            [
             0.6666666666666666,
             "#ed7953"
            ],
            [
             0.7777777777777778,
             "#fb9f3a"
            ],
            [
             0.8888888888888888,
             "#fdca26"
            ],
            [
             1,
             "#f0f921"
            ]
           ],
           "sequentialminus": [
            [
             0,
             "#0d0887"
            ],
            [
             0.1111111111111111,
             "#46039f"
            ],
            [
             0.2222222222222222,
             "#7201a8"
            ],
            [
             0.3333333333333333,
             "#9c179e"
            ],
            [
             0.4444444444444444,
             "#bd3786"
            ],
            [
             0.5555555555555556,
             "#d8576b"
            ],
            [
             0.6666666666666666,
             "#ed7953"
            ],
            [
             0.7777777777777778,
             "#fb9f3a"
            ],
            [
             0.8888888888888888,
             "#fdca26"
            ],
            [
             1,
             "#f0f921"
            ]
           ]
          },
          "colorway": [
           "#636efa",
           "#EF553B",
           "#00cc96",
           "#ab63fa",
           "#FFA15A",
           "#19d3f3",
           "#FF6692",
           "#B6E880",
           "#FF97FF",
           "#FECB52"
          ],
          "font": {
           "color": "#2a3f5f"
          },
          "geo": {
           "bgcolor": "white",
           "lakecolor": "white",
           "landcolor": "#E5ECF6",
           "showlakes": true,
           "showland": true,
           "subunitcolor": "white"
          },
          "hoverlabel": {
           "align": "left"
          },
          "hovermode": "closest",
          "mapbox": {
           "style": "light"
          },
          "paper_bgcolor": "white",
          "plot_bgcolor": "#E5ECF6",
          "polar": {
           "angularaxis": {
            "gridcolor": "white",
            "linecolor": "white",
            "ticks": ""
           },
           "bgcolor": "#E5ECF6",
           "radialaxis": {
            "gridcolor": "white",
            "linecolor": "white",
            "ticks": ""
           }
          },
          "scene": {
           "xaxis": {
            "backgroundcolor": "#E5ECF6",
            "gridcolor": "white",
            "gridwidth": 2,
            "linecolor": "white",
            "showbackground": true,
            "ticks": "",
            "zerolinecolor": "white"
           },
           "yaxis": {
            "backgroundcolor": "#E5ECF6",
            "gridcolor": "white",
            "gridwidth": 2,
            "linecolor": "white",
            "showbackground": true,
            "ticks": "",
            "zerolinecolor": "white"
           },
           "zaxis": {
            "backgroundcolor": "#E5ECF6",
            "gridcolor": "white",
            "gridwidth": 2,
            "linecolor": "white",
            "showbackground": true,
            "ticks": "",
            "zerolinecolor": "white"
           }
          },
          "shapedefaults": {
           "line": {
            "color": "#2a3f5f"
           }
          },
          "ternary": {
           "aaxis": {
            "gridcolor": "white",
            "linecolor": "white",
            "ticks": ""
           },
           "baxis": {
            "gridcolor": "white",
            "linecolor": "white",
            "ticks": ""
           },
           "bgcolor": "#E5ECF6",
           "caxis": {
            "gridcolor": "white",
            "linecolor": "white",
            "ticks": ""
           }
          },
          "title": {
           "x": 0.05
          },
          "xaxis": {
           "automargin": true,
           "gridcolor": "white",
           "linecolor": "white",
           "ticks": "",
           "zerolinecolor": "white",
           "zerolinewidth": 2
          },
          "yaxis": {
           "automargin": true,
           "gridcolor": "white",
           "linecolor": "white",
           "ticks": "",
           "zerolinecolor": "white",
           "zerolinewidth": 2
          }
         }
        },
        "title": {
         "text": "% of Bad Loan Status by Region"
        },
        "xaxis": {
         "title": {
          "text": "US Regions"
         }
        }
       }
      },
      "text/html": [
       "<div>\n",
       "        \n",
       "        \n",
       "            <div id=\"789a898d-54a8-4144-9748-e7f998e278e3\" class=\"plotly-graph-div\" style=\"height:525px; width:100%;\"></div>\n",
       "            <script type=\"text/javascript\">\n",
       "                require([\"plotly\"], function(Plotly) {\n",
       "                    window.PLOTLYENV=window.PLOTLYENV || {};\n",
       "                    \n",
       "                if (document.getElementById(\"789a898d-54a8-4144-9748-e7f998e278e3\")) {\n",
       "                    Plotly.newPlot(\n",
       "                        '789a898d-54a8-4144-9748-e7f998e278e3',\n",
       "                        [{\"marker\": {\"color\": \"rgb(192, 148, 246)\"}, \"name\": \"Charged Off\", \"text\": \"%\", \"type\": \"bar\", \"x\": [\"MidWest\", \"NorthEast\", \"SouthEast\", \"SouthWest\", \"West\"], \"y\": [17.28, 23.25, 25.02, 12.17, 22.29]}, {\"marker\": {\"color\": \"rgb(176, 26, 26)\"}, \"name\": \"Defaults\", \"text\": \"%\", \"type\": \"bar\", \"x\": [\"MidWest\", \"NorthEast\", \"SouthEast\", \"SouthWest\", \"West\"], \"y\": [29.03, 22.58, 16.13, 12.9, 19.35]}, {\"marker\": {\"color\": \"rgb(229, 121, 36)\"}, \"name\": \"Does not meet Credit Policy\", \"text\": \"%\", \"type\": \"bar\", \"x\": [\"MidWest\", \"NorthEast\", \"SouthEast\", \"SouthWest\", \"West\"], \"y\": [18.66, 24.97, 24.18, 10.38, 21.81]}, {\"marker\": {\"color\": \"rgb(147, 147, 147)\"}, \"name\": \"Grace Period\", \"text\": \"%\", \"type\": \"bar\", \"x\": [\"MidWest\", \"NorthEast\", \"SouthEast\", \"SouthWest\", \"West\"], \"y\": [16.19, 26.32, 26.35, 11.27, 19.87]}, {\"marker\": {\"color\": \"rgb(246, 157, 135)\"}, \"name\": \"Late Payment (16-30 days)\", \"text\": \"%\", \"type\": \"bar\", \"x\": [\"MidWest\", \"NorthEast\", \"SouthEast\", \"SouthWest\", \"West\"], \"y\": [14.72, 25.61, 26.06, 12.39, 21.22]}, {\"marker\": {\"color\": \"rgb(238, 76, 73)\"}, \"name\": \"Late Payment (31-120 days)\", \"text\": \"%\", \"type\": \"bar\", \"x\": [\"MidWest\", \"NorthEast\", \"SouthEast\", \"SouthWest\", \"West\"], \"y\": [16.48, 24.46, 25.56, 12.76, 20.74]}],\n",
       "                        {\"barmode\": \"stack\", \"template\": {\"data\": {\"bar\": [{\"error_x\": {\"color\": \"#2a3f5f\"}, \"error_y\": {\"color\": \"#2a3f5f\"}, \"marker\": {\"line\": {\"color\": \"#E5ECF6\", \"width\": 0.5}}, \"type\": \"bar\"}], \"barpolar\": [{\"marker\": {\"line\": {\"color\": \"#E5ECF6\", \"width\": 0.5}}, \"type\": \"barpolar\"}], \"carpet\": [{\"aaxis\": {\"endlinecolor\": \"#2a3f5f\", \"gridcolor\": \"white\", \"linecolor\": \"white\", \"minorgridcolor\": \"white\", \"startlinecolor\": \"#2a3f5f\"}, \"baxis\": {\"endlinecolor\": \"#2a3f5f\", \"gridcolor\": \"white\", \"linecolor\": \"white\", \"minorgridcolor\": \"white\", \"startlinecolor\": \"#2a3f5f\"}, \"type\": \"carpet\"}], \"choropleth\": [{\"colorbar\": {\"outlinewidth\": 0, \"ticks\": \"\"}, \"type\": \"choropleth\"}], \"contour\": [{\"colorbar\": {\"outlinewidth\": 0, \"ticks\": \"\"}, \"colorscale\": [[0.0, \"#0d0887\"], [0.1111111111111111, \"#46039f\"], [0.2222222222222222, \"#7201a8\"], [0.3333333333333333, \"#9c179e\"], [0.4444444444444444, \"#bd3786\"], [0.5555555555555556, \"#d8576b\"], [0.6666666666666666, \"#ed7953\"], [0.7777777777777778, \"#fb9f3a\"], [0.8888888888888888, \"#fdca26\"], [1.0, \"#f0f921\"]], \"type\": \"contour\"}], \"contourcarpet\": [{\"colorbar\": {\"outlinewidth\": 0, \"ticks\": \"\"}, \"type\": \"contourcarpet\"}], \"heatmap\": [{\"colorbar\": {\"outlinewidth\": 0, \"ticks\": \"\"}, \"colorscale\": [[0.0, \"#0d0887\"], [0.1111111111111111, \"#46039f\"], [0.2222222222222222, \"#7201a8\"], [0.3333333333333333, \"#9c179e\"], [0.4444444444444444, \"#bd3786\"], [0.5555555555555556, \"#d8576b\"], [0.6666666666666666, \"#ed7953\"], [0.7777777777777778, \"#fb9f3a\"], [0.8888888888888888, \"#fdca26\"], [1.0, \"#f0f921\"]], \"type\": \"heatmap\"}], \"heatmapgl\": [{\"colorbar\": {\"outlinewidth\": 0, \"ticks\": \"\"}, \"colorscale\": [[0.0, \"#0d0887\"], [0.1111111111111111, \"#46039f\"], [0.2222222222222222, \"#7201a8\"], [0.3333333333333333, \"#9c179e\"], [0.4444444444444444, \"#bd3786\"], [0.5555555555555556, \"#d8576b\"], [0.6666666666666666, \"#ed7953\"], [0.7777777777777778, \"#fb9f3a\"], [0.8888888888888888, \"#fdca26\"], [1.0, \"#f0f921\"]], \"type\": \"heatmapgl\"}], \"histogram\": [{\"marker\": {\"colorbar\": {\"outlinewidth\": 0, \"ticks\": \"\"}}, \"type\": \"histogram\"}], \"histogram2d\": [{\"colorbar\": {\"outlinewidth\": 0, \"ticks\": \"\"}, \"colorscale\": [[0.0, \"#0d0887\"], [0.1111111111111111, \"#46039f\"], [0.2222222222222222, \"#7201a8\"], [0.3333333333333333, \"#9c179e\"], [0.4444444444444444, \"#bd3786\"], [0.5555555555555556, \"#d8576b\"], [0.6666666666666666, \"#ed7953\"], [0.7777777777777778, \"#fb9f3a\"], [0.8888888888888888, \"#fdca26\"], [1.0, \"#f0f921\"]], \"type\": \"histogram2d\"}], \"histogram2dcontour\": [{\"colorbar\": {\"outlinewidth\": 0, \"ticks\": \"\"}, \"colorscale\": [[0.0, \"#0d0887\"], [0.1111111111111111, \"#46039f\"], [0.2222222222222222, \"#7201a8\"], [0.3333333333333333, \"#9c179e\"], [0.4444444444444444, \"#bd3786\"], [0.5555555555555556, \"#d8576b\"], [0.6666666666666666, \"#ed7953\"], [0.7777777777777778, \"#fb9f3a\"], [0.8888888888888888, \"#fdca26\"], [1.0, \"#f0f921\"]], \"type\": \"histogram2dcontour\"}], \"mesh3d\": [{\"colorbar\": {\"outlinewidth\": 0, \"ticks\": \"\"}, \"type\": \"mesh3d\"}], \"parcoords\": [{\"line\": {\"colorbar\": {\"outlinewidth\": 0, \"ticks\": \"\"}}, \"type\": \"parcoords\"}], \"scatter\": [{\"marker\": {\"colorbar\": {\"outlinewidth\": 0, \"ticks\": \"\"}}, \"type\": \"scatter\"}], \"scatter3d\": [{\"line\": {\"colorbar\": {\"outlinewidth\": 0, \"ticks\": \"\"}}, \"marker\": {\"colorbar\": {\"outlinewidth\": 0, \"ticks\": \"\"}}, \"type\": \"scatter3d\"}], \"scattercarpet\": [{\"marker\": {\"colorbar\": {\"outlinewidth\": 0, \"ticks\": \"\"}}, \"type\": \"scattercarpet\"}], \"scattergeo\": [{\"marker\": {\"colorbar\": {\"outlinewidth\": 0, \"ticks\": \"\"}}, \"type\": \"scattergeo\"}], \"scattergl\": [{\"marker\": {\"colorbar\": {\"outlinewidth\": 0, \"ticks\": \"\"}}, \"type\": \"scattergl\"}], \"scattermapbox\": [{\"marker\": {\"colorbar\": {\"outlinewidth\": 0, \"ticks\": \"\"}}, \"type\": \"scattermapbox\"}], \"scatterpolar\": [{\"marker\": {\"colorbar\": {\"outlinewidth\": 0, \"ticks\": \"\"}}, \"type\": \"scatterpolar\"}], \"scatterpolargl\": [{\"marker\": {\"colorbar\": {\"outlinewidth\": 0, \"ticks\": \"\"}}, \"type\": \"scatterpolargl\"}], \"scatterternary\": [{\"marker\": {\"colorbar\": {\"outlinewidth\": 0, \"ticks\": \"\"}}, \"type\": \"scatterternary\"}], \"surface\": [{\"colorbar\": {\"outlinewidth\": 0, \"ticks\": \"\"}, \"colorscale\": [[0.0, \"#0d0887\"], [0.1111111111111111, \"#46039f\"], [0.2222222222222222, \"#7201a8\"], [0.3333333333333333, \"#9c179e\"], [0.4444444444444444, \"#bd3786\"], [0.5555555555555556, \"#d8576b\"], [0.6666666666666666, \"#ed7953\"], [0.7777777777777778, \"#fb9f3a\"], [0.8888888888888888, \"#fdca26\"], [1.0, \"#f0f921\"]], \"type\": \"surface\"}], \"table\": [{\"cells\": {\"fill\": {\"color\": \"#EBF0F8\"}, \"line\": {\"color\": \"white\"}}, \"header\": {\"fill\": {\"color\": \"#C8D4E3\"}, \"line\": {\"color\": \"white\"}}, \"type\": \"table\"}]}, \"layout\": {\"annotationdefaults\": {\"arrowcolor\": \"#2a3f5f\", \"arrowhead\": 0, \"arrowwidth\": 1}, \"colorscale\": {\"diverging\": [[0, \"#8e0152\"], [0.1, \"#c51b7d\"], [0.2, \"#de77ae\"], [0.3, \"#f1b6da\"], [0.4, \"#fde0ef\"], [0.5, \"#f7f7f7\"], [0.6, \"#e6f5d0\"], [0.7, \"#b8e186\"], [0.8, \"#7fbc41\"], [0.9, \"#4d9221\"], [1, \"#276419\"]], \"sequential\": [[0.0, \"#0d0887\"], [0.1111111111111111, \"#46039f\"], [0.2222222222222222, \"#7201a8\"], [0.3333333333333333, \"#9c179e\"], [0.4444444444444444, \"#bd3786\"], [0.5555555555555556, \"#d8576b\"], [0.6666666666666666, \"#ed7953\"], [0.7777777777777778, \"#fb9f3a\"], [0.8888888888888888, \"#fdca26\"], [1.0, \"#f0f921\"]], \"sequentialminus\": [[0.0, \"#0d0887\"], [0.1111111111111111, \"#46039f\"], [0.2222222222222222, \"#7201a8\"], [0.3333333333333333, \"#9c179e\"], [0.4444444444444444, \"#bd3786\"], [0.5555555555555556, \"#d8576b\"], [0.6666666666666666, \"#ed7953\"], [0.7777777777777778, \"#fb9f3a\"], [0.8888888888888888, \"#fdca26\"], [1.0, \"#f0f921\"]]}, \"colorway\": [\"#636efa\", \"#EF553B\", \"#00cc96\", \"#ab63fa\", \"#FFA15A\", \"#19d3f3\", \"#FF6692\", \"#B6E880\", \"#FF97FF\", \"#FECB52\"], \"font\": {\"color\": \"#2a3f5f\"}, \"geo\": {\"bgcolor\": \"white\", \"lakecolor\": \"white\", \"landcolor\": \"#E5ECF6\", \"showlakes\": true, \"showland\": true, \"subunitcolor\": \"white\"}, \"hoverlabel\": {\"align\": \"left\"}, \"hovermode\": \"closest\", \"mapbox\": {\"style\": \"light\"}, \"paper_bgcolor\": \"white\", \"plot_bgcolor\": \"#E5ECF6\", \"polar\": {\"angularaxis\": {\"gridcolor\": \"white\", \"linecolor\": \"white\", \"ticks\": \"\"}, \"bgcolor\": \"#E5ECF6\", \"radialaxis\": {\"gridcolor\": \"white\", \"linecolor\": \"white\", \"ticks\": \"\"}}, \"scene\": {\"xaxis\": {\"backgroundcolor\": \"#E5ECF6\", \"gridcolor\": \"white\", \"gridwidth\": 2, \"linecolor\": \"white\", \"showbackground\": true, \"ticks\": \"\", \"zerolinecolor\": \"white\"}, \"yaxis\": {\"backgroundcolor\": \"#E5ECF6\", \"gridcolor\": \"white\", \"gridwidth\": 2, \"linecolor\": \"white\", \"showbackground\": true, \"ticks\": \"\", \"zerolinecolor\": \"white\"}, \"zaxis\": {\"backgroundcolor\": \"#E5ECF6\", \"gridcolor\": \"white\", \"gridwidth\": 2, \"linecolor\": \"white\", \"showbackground\": true, \"ticks\": \"\", \"zerolinecolor\": \"white\"}}, \"shapedefaults\": {\"line\": {\"color\": \"#2a3f5f\"}}, \"ternary\": {\"aaxis\": {\"gridcolor\": \"white\", \"linecolor\": \"white\", \"ticks\": \"\"}, \"baxis\": {\"gridcolor\": \"white\", \"linecolor\": \"white\", \"ticks\": \"\"}, \"bgcolor\": \"#E5ECF6\", \"caxis\": {\"gridcolor\": \"white\", \"linecolor\": \"white\", \"ticks\": \"\"}}, \"title\": {\"x\": 0.05}, \"xaxis\": {\"automargin\": true, \"gridcolor\": \"white\", \"linecolor\": \"white\", \"ticks\": \"\", \"zerolinecolor\": \"white\", \"zerolinewidth\": 2}, \"yaxis\": {\"automargin\": true, \"gridcolor\": \"white\", \"linecolor\": \"white\", \"ticks\": \"\", \"zerolinecolor\": \"white\", \"zerolinewidth\": 2}}}, \"title\": {\"text\": \"% of Bad Loan Status by Region\"}, \"xaxis\": {\"title\": {\"text\": \"US Regions\"}}},\n",
       "                        {\"responsive\": true}\n",
       "                    ).then(function(){\n",
       "                            \n",
       "var gd = document.getElementById('789a898d-54a8-4144-9748-e7f998e278e3');\n",
       "var x = new MutationObserver(function (mutations, observer) {{\n",
       "        var display = window.getComputedStyle(gd).display;\n",
       "        if (!display || display === 'none') {{\n",
       "            console.log([gd, 'removed!']);\n",
       "            Plotly.purge(gd);\n",
       "            observer.disconnect();\n",
       "        }}\n",
       "}});\n",
       "\n",
       "// Listen for the removal of the full notebook cells\n",
       "var notebookContainer = gd.closest('#notebook-container');\n",
       "if (notebookContainer) {{\n",
       "    x.observe(notebookContainer, {childList: true});\n",
       "}}\n",
       "\n",
       "// Listen for the clearing of the current output cell\n",
       "var outputEl = gd.closest('.output');\n",
       "if (outputEl) {{\n",
       "    x.observe(outputEl, {childList: true});\n",
       "}}\n",
       "\n",
       "                        })\n",
       "                };\n",
       "                });\n",
       "            </script>\n",
       "        </div>"
      ]
     },
     "metadata": {},
     "output_type": "display_data"
    }
   ],
   "source": [
    "charged_off = loan_status_cross['Charged Off'].values.tolist()\n",
    "default = loan_status_cross['Default'].values.tolist()\n",
    "not_meet_credit = loan_status_cross['Does not meet the credit policy. Status:Charged Off'].values.tolist()\n",
    "grace_period = loan_status_cross['In Grace Period'].values.tolist()\n",
    "short_pay = loan_status_cross['Late (16-30 days)'] .values.tolist()\n",
    "long_pay = loan_status_cross['Late (31-120 days)'].values.tolist()\n",
    "\n",
    "\n",
    "\n",
    "charged = go.Bar(\n",
    "    x=['MidWest', 'NorthEast', 'SouthEast', 'SouthWest', 'West'],\n",
    "    y= charged_off,\n",
    "    name='Charged Off',\n",
    "    marker=dict(\n",
    "        color='rgb(192, 148, 246)'\n",
    "    ),\n",
    "    text = '%'\n",
    ")\n",
    "\n",
    "defaults = go.Bar(\n",
    "    x=['MidWest', 'NorthEast', 'SouthEast', 'SouthWest', 'West'],\n",
    "    y=default,\n",
    "    name='Defaults',\n",
    "    marker=dict(\n",
    "        color='rgb(176, 26, 26)'\n",
    "    ),\n",
    "    text = '%'\n",
    ")\n",
    "\n",
    "credit_policy = go.Bar(\n",
    "    x=['MidWest', 'NorthEast', 'SouthEast', 'SouthWest', 'West'],\n",
    "    y= not_meet_credit,\n",
    "    name='Does not meet Credit Policy',\n",
    "    marker = dict(\n",
    "        color='rgb(229, 121, 36)'\n",
    "    ),\n",
    "    text = '%'\n",
    ")\n",
    "\n",
    "grace = go.Bar(\n",
    "    x=['MidWest', 'NorthEast', 'SouthEast', 'SouthWest', 'West'],\n",
    "    y= grace_period,\n",
    "    name='Grace Period',\n",
    "    marker = dict(\n",
    "        color='rgb(147, 147, 147)'\n",
    "    ),\n",
    "    text = '%'\n",
    ")\n",
    "\n",
    "short_pays = go.Bar(\n",
    "    x=['MidWest', 'NorthEast', 'SouthEast', 'SouthWest', 'West'],\n",
    "    y= short_pay,\n",
    "    name='Late Payment (16-30 days)', \n",
    "    marker = dict(\n",
    "        color='rgb(246, 157, 135)'\n",
    "    ),\n",
    "    text = '%'\n",
    ")\n",
    "\n",
    "long_pays = go.Bar(\n",
    "    x=['MidWest', 'NorthEast', 'SouthEast', 'SouthWest', 'West'],\n",
    "    y= long_pay,\n",
    "    name='Late Payment (31-120 days)',\n",
    "    marker = dict(\n",
    "        color = 'rgb(238, 76, 73)'\n",
    "        ),\n",
    "    text = '%'\n",
    ")\n",
    "\n",
    "\n",
    "\n",
    "\n",
    "data = [charged, defaults, credit_policy, grace, short_pays, long_pays]\n",
    "layout = go.Layout(\n",
    "    barmode='stack',\n",
    "    title = '% of Bad Loan Status by Region',\n",
    "    xaxis=dict(title='US Regions')\n",
    ")\n",
    "\n",
    "fig = go.Figure(data=data, layout=layout)\n",
    "iplot(fig, filename='stacked-bar')"
   ]
  },
  {
   "cell_type": "code",
   "execution_count": 28,
   "metadata": {},
   "outputs": [
    {
     "data": {
      "text/plain": [
       "13.09291294419326"
      ]
     },
     "execution_count": 28,
     "metadata": {},
     "output_type": "execute_result"
    }
   ],
   "source": [
    "# Average interest rates clients pay\n",
    "df['interest_rate'].mean()"
   ]
  },
  {
   "cell_type": "code",
   "execution_count": 29,
   "metadata": {},
   "outputs": [
    {
     "data": {
      "text/plain": [
       "77992.42868706738"
      ]
     },
     "execution_count": 29,
     "metadata": {},
     "output_type": "execute_result"
    }
   ],
   "source": [
    "# Average annual income of clients\n",
    "df['annual_income'].mean()"
   ]
  },
  {
   "cell_type": "markdown",
   "metadata": {},
   "source": [
    "<h1 align=\"center\"> The Business Perspective </h1>\n",
    "<h2 > Understanding the Operative Side of Business </h2>\n",
    "<a id=\"operative_side\"></a>\n",
    "Now we will have a closer look at the <b> operative side </b> of business by state. This will give us a clearer idea in which state we have a higher operating activity. This will allow us to ask further questions such as Why do we have a higher level of operating activity in this state? Could it be because of economic factors? or the risk level is low and returns are fairly decent? Let's explore!\n",
    "\n",
    "<h4> What we need to know: </h4>\n",
    "<ul>\n",
    "<li> We will focus on <b>three key metrics</b>: Loans issued by state (Total Sum), Average interest rates charged to customers and average annual income of all customers by state. </li>\n",
    "<li> The purpose of this analysis is to see states that give high returns at a descent risk. </li>\n",
    "\n",
    "</ul>\n",
    "\n",
    "<h4> Summary: </h4>\n",
    "<ul>\n",
    "<li> <b>California, Texas, New York and Florida</b> are the states in which the highest amount of loans were issued. </li>\n",
    "<li> Interesting enough, all four states have a approximate <b>interest rate of 13%</b> which is at the same level of the average interest rate for all states (13.24%) </li>\n",
    "<li> California, Texas and New York are <b>all above the average annual income</b> (with the exclusion of Florida), this might give possible indication why most loans are issued in these states. </li>\n",
    "</ul>"
   ]
  },
  {
   "cell_type": "code",
   "execution_count": 30,
   "metadata": {},
   "outputs": [
    {
     "data": {
      "text/html": [
       "<div>\n",
       "<style scoped>\n",
       "    .dataframe tbody tr th:only-of-type {\n",
       "        vertical-align: middle;\n",
       "    }\n",
       "\n",
       "    .dataframe tbody tr th {\n",
       "        vertical-align: top;\n",
       "    }\n",
       "\n",
       "    .dataframe thead th {\n",
       "        text-align: right;\n",
       "    }\n",
       "</style>\n",
       "<table border=\"1\" class=\"dataframe\">\n",
       "  <thead>\n",
       "    <tr style=\"text-align: right;\">\n",
       "      <th></th>\n",
       "      <th>state_codes</th>\n",
       "      <th>issued_loans</th>\n",
       "      <th>interest_rate</th>\n",
       "      <th>annual_income</th>\n",
       "    </tr>\n",
       "  </thead>\n",
       "  <tbody>\n",
       "    <tr>\n",
       "      <td>0</td>\n",
       "      <td>IA</td>\n",
       "      <td>114075</td>\n",
       "      <td>12.63</td>\n",
       "      <td>44756.21</td>\n",
       "    </tr>\n",
       "    <tr>\n",
       "      <td>1</td>\n",
       "      <td>IL</td>\n",
       "      <td>1410451950</td>\n",
       "      <td>12.96</td>\n",
       "      <td>79884.92</td>\n",
       "    </tr>\n",
       "    <tr>\n",
       "      <td>2</td>\n",
       "      <td>IN</td>\n",
       "      <td>550776675</td>\n",
       "      <td>13.18</td>\n",
       "      <td>70365.19</td>\n",
       "    </tr>\n",
       "    <tr>\n",
       "      <td>3</td>\n",
       "      <td>KS</td>\n",
       "      <td>283877825</td>\n",
       "      <td>13.00</td>\n",
       "      <td>71456.55</td>\n",
       "    </tr>\n",
       "    <tr>\n",
       "      <td>4</td>\n",
       "      <td>MI</td>\n",
       "      <td>841646100</td>\n",
       "      <td>13.16</td>\n",
       "      <td>71660.97</td>\n",
       "    </tr>\n",
       "  </tbody>\n",
       "</table>\n",
       "</div>"
      ],
      "text/plain": [
       "  state_codes  issued_loans  interest_rate  annual_income\n",
       "0          IA        114075          12.63       44756.21\n",
       "1          IL    1410451950          12.96       79884.92\n",
       "2          IN     550776675          13.18       70365.19\n",
       "3          KS     283877825          13.00       71456.55\n",
       "4          MI     841646100          13.16       71660.97"
      ]
     },
     "execution_count": 30,
     "metadata": {},
     "output_type": "execute_result"
    }
   ],
   "source": [
    "# Plotting by states\n",
    "\n",
    "# Grouping by our metrics\n",
    "# First Plotly Graph (We evaluate the operative side of the business)\n",
    "by_loan_amount = df.groupby(['region','addr_state'], as_index=False).loan_amount.sum()\n",
    "by_interest_rate = df.groupby(['region', 'addr_state'], as_index=False).interest_rate.mean()\n",
    "by_income = df.groupby(['region', 'addr_state'], as_index=False).annual_income.mean()\n",
    "\n",
    "\n",
    "\n",
    "# Take the values to a list for visualization purposes.\n",
    "states = by_loan_amount['addr_state'].values.tolist()\n",
    "average_loan_amounts = by_loan_amount['loan_amount'].values.tolist()\n",
    "average_interest_rates = by_interest_rate['interest_rate'].values.tolist()\n",
    "average_annual_income = by_income['annual_income'].values.tolist()\n",
    "\n",
    "\n",
    "from collections import OrderedDict\n",
    "\n",
    "# Figure Number 1 (Perspective for the Business Operations)\n",
    "metrics_data = OrderedDict([('state_codes', states),\n",
    "                            ('issued_loans', average_loan_amounts),\n",
    "                            ('interest_rate', average_interest_rates),\n",
    "                            ('annual_income', average_annual_income)])\n",
    "                     \n",
    "\n",
    "metrics_df = pd.DataFrame.from_dict(metrics_data)\n",
    "metrics_df = metrics_df.round(decimals=2)\n",
    "metrics_df.head()\n",
    "\n",
    "\n",
    "\n",
    "# Think of a way to add default rate\n",
    "# Consider adding a few more metrics for the future"
   ]
  },
  {
   "cell_type": "code",
   "execution_count": 31,
   "metadata": {},
   "outputs": [
    {
     "data": {
      "application/vnd.plotly.v1+json": {
       "config": {
        "linkText": "Export to plot.ly",
        "plotlyServerURL": "https://plot.ly",
        "showLink": false
       },
       "data": [
        {
         "autocolorscale": false,
         "colorbar": {
          "title": {
           "text": "$s USD"
          }
         },
         "colorscale": [
          [
           0,
           "rgb(210, 241, 198)"
          ],
          [
           0.2,
           "rgb(188, 236, 169)"
          ],
          [
           0.4,
           "rgb(171, 235, 145)"
          ],
          [
           0.6,
           "rgb(140, 227, 105)"
          ],
          [
           0.8,
           "rgb(105, 201, 67)"
          ],
          [
           1,
           "rgb(59, 159, 19)"
          ]
         ],
         "locationmode": "USA-states",
         "locations": [
          "IA",
          "IL",
          "IN",
          "KS",
          "MI",
          "MN",
          "MO",
          "ND",
          "NE",
          "OH",
          "SD",
          "WI",
          "CT",
          "MA",
          "MD",
          "ME",
          "NH",
          "NJ",
          "NY",
          "PA",
          "RI",
          "VT",
          "AL",
          "AR",
          "DC",
          "DE",
          "FL",
          "GA",
          "KY",
          "LA",
          "MS",
          "NC",
          "SC",
          "TN",
          "VA",
          "WV",
          "AZ",
          "NM",
          "OK",
          "TX",
          "AK",
          "CA",
          "CO",
          "HI",
          "ID",
          "MT",
          "NV",
          "OR",
          "UT",
          "WA",
          "WY"
         ],
         "marker": {
          "line": {
           "color": "rgb(255,255,255)",
           "width": 2
          }
         },
         "text": [
          "IA<br>Average loan interest rate: 12.63<br>Average annual income: 44756.21",
          "IL<br>Average loan interest rate: 12.96<br>Average annual income: 79884.92",
          "IN<br>Average loan interest rate: 13.18<br>Average annual income: 70365.19",
          "KS<br>Average loan interest rate: 13.0<br>Average annual income: 71456.55",
          "MI<br>Average loan interest rate: 13.16<br>Average annual income: 71660.97",
          "MN<br>Average loan interest rate: 12.97<br>Average annual income: 73239.38",
          "MO<br>Average loan interest rate: 13.05<br>Average annual income: 70177.88",
          "ND<br>Average loan interest rate: 13.25<br>Average annual income: 76433.85",
          "NE<br>Average loan interest rate: 13.18<br>Average annual income: 65789.44",
          "OH<br>Average loan interest rate: 13.14<br>Average annual income: 69322.61",
          "SD<br>Average loan interest rate: 13.22<br>Average annual income: 65890.03",
          "WI<br>Average loan interest rate: 12.85<br>Average annual income: 69053.08",
          "CT<br>Average loan interest rate: 13.05<br>Average annual income: 86531.03",
          "MA<br>Average loan interest rate: 12.68<br>Average annual income: 82788.66",
          "MD<br>Average loan interest rate: 13.24<br>Average annual income: 86919.01",
          "ME<br>Average loan interest rate: 12.82<br>Average annual income: 67713.61",
          "NH<br>Average loan interest rate: 12.7<br>Average annual income: 79110.57",
          "NJ<br>Average loan interest rate: 12.99<br>Average annual income: 89920.51",
          "NY<br>Average loan interest rate: 13.26<br>Average annual income: 81057.05",
          "PA<br>Average loan interest rate: 13.15<br>Average annual income: 73940.35",
          "RI<br>Average loan interest rate: 13.03<br>Average annual income: 74607.28",
          "VT<br>Average loan interest rate: 12.99<br>Average annual income: 66577.67",
          "AL<br>Average loan interest rate: 13.57<br>Average annual income: 70854.75",
          "AR<br>Average loan interest rate: 13.35<br>Average annual income: 67588.15",
          "DC<br>Average loan interest rate: 12.58<br>Average annual income: 94553.07",
          "DE<br>Average loan interest rate: 13.2<br>Average annual income: 76689.29",
          "FL<br>Average loan interest rate: 13.16<br>Average annual income: 73171.61",
          "GA<br>Average loan interest rate: 13.21<br>Average annual income: 77857.57",
          "KY<br>Average loan interest rate: 13.19<br>Average annual income: 69534.68",
          "LA<br>Average loan interest rate: 13.23<br>Average annual income: 75669.09",
          "MS<br>Average loan interest rate: 13.45<br>Average annual income: 71625.13",
          "NC<br>Average loan interest rate: 13.19<br>Average annual income: 73853.2",
          "SC<br>Average loan interest rate: 13.27<br>Average annual income: 73137.99",
          "TN<br>Average loan interest rate: 13.29<br>Average annual income: 70665.98",
          "VA<br>Average loan interest rate: 13.11<br>Average annual income: 86071.97",
          "WV<br>Average loan interest rate: 13.12<br>Average annual income: 69514.91",
          "AZ<br>Average loan interest rate: 12.96<br>Average annual income: 74186.97",
          "NM<br>Average loan interest rate: 13.16<br>Average annual income: 71566.73",
          "OK<br>Average loan interest rate: 13.26<br>Average annual income: 72413.97",
          "TX<br>Average loan interest rate: 13.0<br>Average annual income: 82728.81",
          "AK<br>Average loan interest rate: 13.33<br>Average annual income: 79823.04",
          "CA<br>Average loan interest rate: 12.98<br>Average annual income: 83847.98",
          "CO<br>Average loan interest rate: 12.89<br>Average annual income: 76948.31",
          "HI<br>Average loan interest rate: 13.79<br>Average annual income: 74696.93",
          "ID<br>Average loan interest rate: 13.3<br>Average annual income: 65500.36",
          "MT<br>Average loan interest rate: 12.96<br>Average annual income: 64079.48",
          "NV<br>Average loan interest rate: 13.21<br>Average annual income: 73480.53",
          "OR<br>Average loan interest rate: 12.95<br>Average annual income: 68737.99",
          "UT<br>Average loan interest rate: 13.1<br>Average annual income: 75169.24",
          "WA<br>Average loan interest rate: 13.16<br>Average annual income: 77462.93",
          "WY<br>Average loan interest rate: 13.21<br>Average annual income: 72941.19"
         ],
         "type": "choropleth",
         "z": [
          "114075",
          "1410451950",
          "550776675",
          "283877825",
          "841646100",
          "577447675",
          "524098650",
          "55622875",
          "110941450",
          "1077142925",
          "64670375",
          "431766050",
          "547556950",
          "811746725",
          "856883500",
          "73320525",
          "166469500",
          "1316207975",
          "2767160700",
          "1131987950",
          "142960100",
          "68206775",
          "400699250",
          "240650500",
          "84707250",
          "96450975",
          "2333034500",
          "1136790825",
          "313557625",
          "382046275",
          "186427150",
          "930436100",
          "418481900",
          "522342125",
          "1013015875",
          "125954800",
          "780966125",
          "178280525",
          "310665375",
          "2931133525",
          "90419900",
          "4808480100",
          "727724225",
          "169562100",
          "62088425",
          "88170825",
          "470165300",
          "379466875",
          "227578525",
          "721608300",
          "74153325"
         ]
        }
       ],
       "layout": {
        "geo": {
         "lakecolor": "rgb(255, 255, 255)",
         "projection": {
          "type": "albers usa"
         },
         "scope": "usa",
         "showlakes": true
        },
        "template": {
         "data": {
          "bar": [
           {
            "error_x": {
             "color": "#2a3f5f"
            },
            "error_y": {
             "color": "#2a3f5f"
            },
            "marker": {
             "line": {
              "color": "#E5ECF6",
              "width": 0.5
             }
            },
            "type": "bar"
           }
          ],
          "barpolar": [
           {
            "marker": {
             "line": {
              "color": "#E5ECF6",
              "width": 0.5
             }
            },
            "type": "barpolar"
           }
          ],
          "carpet": [
           {
            "aaxis": {
             "endlinecolor": "#2a3f5f",
             "gridcolor": "white",
             "linecolor": "white",
             "minorgridcolor": "white",
             "startlinecolor": "#2a3f5f"
            },
            "baxis": {
             "endlinecolor": "#2a3f5f",
             "gridcolor": "white",
             "linecolor": "white",
             "minorgridcolor": "white",
             "startlinecolor": "#2a3f5f"
            },
            "type": "carpet"
           }
          ],
          "choropleth": [
           {
            "colorbar": {
             "outlinewidth": 0,
             "ticks": ""
            },
            "type": "choropleth"
           }
          ],
          "contour": [
           {
            "colorbar": {
             "outlinewidth": 0,
             "ticks": ""
            },
            "colorscale": [
             [
              0,
              "#0d0887"
             ],
             [
              0.1111111111111111,
              "#46039f"
             ],
             [
              0.2222222222222222,
              "#7201a8"
             ],
             [
              0.3333333333333333,
              "#9c179e"
             ],
             [
              0.4444444444444444,
              "#bd3786"
             ],
             [
              0.5555555555555556,
              "#d8576b"
             ],
             [
              0.6666666666666666,
              "#ed7953"
             ],
             [
              0.7777777777777778,
              "#fb9f3a"
             ],
             [
              0.8888888888888888,
              "#fdca26"
             ],
             [
              1,
              "#f0f921"
             ]
            ],
            "type": "contour"
           }
          ],
          "contourcarpet": [
           {
            "colorbar": {
             "outlinewidth": 0,
             "ticks": ""
            },
            "type": "contourcarpet"
           }
          ],
          "heatmap": [
           {
            "colorbar": {
             "outlinewidth": 0,
             "ticks": ""
            },
            "colorscale": [
             [
              0,
              "#0d0887"
             ],
             [
              0.1111111111111111,
              "#46039f"
             ],
             [
              0.2222222222222222,
              "#7201a8"
             ],
             [
              0.3333333333333333,
              "#9c179e"
             ],
             [
              0.4444444444444444,
              "#bd3786"
             ],
             [
              0.5555555555555556,
              "#d8576b"
             ],
             [
              0.6666666666666666,
              "#ed7953"
             ],
             [
              0.7777777777777778,
              "#fb9f3a"
             ],
             [
              0.8888888888888888,
              "#fdca26"
             ],
             [
              1,
              "#f0f921"
             ]
            ],
            "type": "heatmap"
           }
          ],
          "heatmapgl": [
           {
            "colorbar": {
             "outlinewidth": 0,
             "ticks": ""
            },
            "colorscale": [
             [
              0,
              "#0d0887"
             ],
             [
              0.1111111111111111,
              "#46039f"
             ],
             [
              0.2222222222222222,
              "#7201a8"
             ],
             [
              0.3333333333333333,
              "#9c179e"
             ],
             [
              0.4444444444444444,
              "#bd3786"
             ],
             [
              0.5555555555555556,
              "#d8576b"
             ],
             [
              0.6666666666666666,
              "#ed7953"
             ],
             [
              0.7777777777777778,
              "#fb9f3a"
             ],
             [
              0.8888888888888888,
              "#fdca26"
             ],
             [
              1,
              "#f0f921"
             ]
            ],
            "type": "heatmapgl"
           }
          ],
          "histogram": [
           {
            "marker": {
             "colorbar": {
              "outlinewidth": 0,
              "ticks": ""
             }
            },
            "type": "histogram"
           }
          ],
          "histogram2d": [
           {
            "colorbar": {
             "outlinewidth": 0,
             "ticks": ""
            },
            "colorscale": [
             [
              0,
              "#0d0887"
             ],
             [
              0.1111111111111111,
              "#46039f"
             ],
             [
              0.2222222222222222,
              "#7201a8"
             ],
             [
              0.3333333333333333,
              "#9c179e"
             ],
             [
              0.4444444444444444,
              "#bd3786"
             ],
             [
              0.5555555555555556,
              "#d8576b"
             ],
             [
              0.6666666666666666,
              "#ed7953"
             ],
             [
              0.7777777777777778,
              "#fb9f3a"
             ],
             [
              0.8888888888888888,
              "#fdca26"
             ],
             [
              1,
              "#f0f921"
             ]
            ],
            "type": "histogram2d"
           }
          ],
          "histogram2dcontour": [
           {
            "colorbar": {
             "outlinewidth": 0,
             "ticks": ""
            },
            "colorscale": [
             [
              0,
              "#0d0887"
             ],
             [
              0.1111111111111111,
              "#46039f"
             ],
             [
              0.2222222222222222,
              "#7201a8"
             ],
             [
              0.3333333333333333,
              "#9c179e"
             ],
             [
              0.4444444444444444,
              "#bd3786"
             ],
             [
              0.5555555555555556,
              "#d8576b"
             ],
             [
              0.6666666666666666,
              "#ed7953"
             ],
             [
              0.7777777777777778,
              "#fb9f3a"
             ],
             [
              0.8888888888888888,
              "#fdca26"
             ],
             [
              1,
              "#f0f921"
             ]
            ],
            "type": "histogram2dcontour"
           }
          ],
          "mesh3d": [
           {
            "colorbar": {
             "outlinewidth": 0,
             "ticks": ""
            },
            "type": "mesh3d"
           }
          ],
          "parcoords": [
           {
            "line": {
             "colorbar": {
              "outlinewidth": 0,
              "ticks": ""
             }
            },
            "type": "parcoords"
           }
          ],
          "scatter": [
           {
            "marker": {
             "colorbar": {
              "outlinewidth": 0,
              "ticks": ""
             }
            },
            "type": "scatter"
           }
          ],
          "scatter3d": [
           {
            "line": {
             "colorbar": {
              "outlinewidth": 0,
              "ticks": ""
             }
            },
            "marker": {
             "colorbar": {
              "outlinewidth": 0,
              "ticks": ""
             }
            },
            "type": "scatter3d"
           }
          ],
          "scattercarpet": [
           {
            "marker": {
             "colorbar": {
              "outlinewidth": 0,
              "ticks": ""
             }
            },
            "type": "scattercarpet"
           }
          ],
          "scattergeo": [
           {
            "marker": {
             "colorbar": {
              "outlinewidth": 0,
              "ticks": ""
             }
            },
            "type": "scattergeo"
           }
          ],
          "scattergl": [
           {
            "marker": {
             "colorbar": {
              "outlinewidth": 0,
              "ticks": ""
             }
            },
            "type": "scattergl"
           }
          ],
          "scattermapbox": [
           {
            "marker": {
             "colorbar": {
              "outlinewidth": 0,
              "ticks": ""
             }
            },
            "type": "scattermapbox"
           }
          ],
          "scatterpolar": [
           {
            "marker": {
             "colorbar": {
              "outlinewidth": 0,
              "ticks": ""
             }
            },
            "type": "scatterpolar"
           }
          ],
          "scatterpolargl": [
           {
            "marker": {
             "colorbar": {
              "outlinewidth": 0,
              "ticks": ""
             }
            },
            "type": "scatterpolargl"
           }
          ],
          "scatterternary": [
           {
            "marker": {
             "colorbar": {
              "outlinewidth": 0,
              "ticks": ""
             }
            },
            "type": "scatterternary"
           }
          ],
          "surface": [
           {
            "colorbar": {
             "outlinewidth": 0,
             "ticks": ""
            },
            "colorscale": [
             [
              0,
              "#0d0887"
             ],
             [
              0.1111111111111111,
              "#46039f"
             ],
             [
              0.2222222222222222,
              "#7201a8"
             ],
             [
              0.3333333333333333,
              "#9c179e"
             ],
             [
              0.4444444444444444,
              "#bd3786"
             ],
             [
              0.5555555555555556,
              "#d8576b"
             ],
             [
              0.6666666666666666,
              "#ed7953"
             ],
             [
              0.7777777777777778,
              "#fb9f3a"
             ],
             [
              0.8888888888888888,
              "#fdca26"
             ],
             [
              1,
              "#f0f921"
             ]
            ],
            "type": "surface"
           }
          ],
          "table": [
           {
            "cells": {
             "fill": {
              "color": "#EBF0F8"
             },
             "line": {
              "color": "white"
             }
            },
            "header": {
             "fill": {
              "color": "#C8D4E3"
             },
             "line": {
              "color": "white"
             }
            },
            "type": "table"
           }
          ]
         },
         "layout": {
          "annotationdefaults": {
           "arrowcolor": "#2a3f5f",
           "arrowhead": 0,
           "arrowwidth": 1
          },
          "colorscale": {
           "diverging": [
            [
             0,
             "#8e0152"
            ],
            [
             0.1,
             "#c51b7d"
            ],
            [
             0.2,
             "#de77ae"
            ],
            [
             0.3,
             "#f1b6da"
            ],
            [
             0.4,
             "#fde0ef"
            ],
            [
             0.5,
             "#f7f7f7"
            ],
            [
             0.6,
             "#e6f5d0"
            ],
            [
             0.7,
             "#b8e186"
            ],
            [
             0.8,
             "#7fbc41"
            ],
            [
             0.9,
             "#4d9221"
            ],
            [
             1,
             "#276419"
            ]
           ],
           "sequential": [
            [
             0,
             "#0d0887"
            ],
            [
             0.1111111111111111,
             "#46039f"
            ],
            [
             0.2222222222222222,
             "#7201a8"
            ],
            [
             0.3333333333333333,
             "#9c179e"
            ],
            [
             0.4444444444444444,
             "#bd3786"
            ],
            [
             0.5555555555555556,
             "#d8576b"
            ],
            [
             0.6666666666666666,
             "#ed7953"
            ],
            [
             0.7777777777777778,
             "#fb9f3a"
            ],
            [
             0.8888888888888888,
             "#fdca26"
            ],
            [
             1,
             "#f0f921"
            ]
           ],
           "sequentialminus": [
            [
             0,
             "#0d0887"
            ],
            [
             0.1111111111111111,
             "#46039f"
            ],
            [
             0.2222222222222222,
             "#7201a8"
            ],
            [
             0.3333333333333333,
             "#9c179e"
            ],
            [
             0.4444444444444444,
             "#bd3786"
            ],
            [
             0.5555555555555556,
             "#d8576b"
            ],
            [
             0.6666666666666666,
             "#ed7953"
            ],
            [
             0.7777777777777778,
             "#fb9f3a"
            ],
            [
             0.8888888888888888,
             "#fdca26"
            ],
            [
             1,
             "#f0f921"
            ]
           ]
          },
          "colorway": [
           "#636efa",
           "#EF553B",
           "#00cc96",
           "#ab63fa",
           "#FFA15A",
           "#19d3f3",
           "#FF6692",
           "#B6E880",
           "#FF97FF",
           "#FECB52"
          ],
          "font": {
           "color": "#2a3f5f"
          },
          "geo": {
           "bgcolor": "white",
           "lakecolor": "white",
           "landcolor": "#E5ECF6",
           "showlakes": true,
           "showland": true,
           "subunitcolor": "white"
          },
          "hoverlabel": {
           "align": "left"
          },
          "hovermode": "closest",
          "mapbox": {
           "style": "light"
          },
          "paper_bgcolor": "white",
          "plot_bgcolor": "#E5ECF6",
          "polar": {
           "angularaxis": {
            "gridcolor": "white",
            "linecolor": "white",
            "ticks": ""
           },
           "bgcolor": "#E5ECF6",
           "radialaxis": {
            "gridcolor": "white",
            "linecolor": "white",
            "ticks": ""
           }
          },
          "scene": {
           "xaxis": {
            "backgroundcolor": "#E5ECF6",
            "gridcolor": "white",
            "gridwidth": 2,
            "linecolor": "white",
            "showbackground": true,
            "ticks": "",
            "zerolinecolor": "white"
           },
           "yaxis": {
            "backgroundcolor": "#E5ECF6",
            "gridcolor": "white",
            "gridwidth": 2,
            "linecolor": "white",
            "showbackground": true,
            "ticks": "",
            "zerolinecolor": "white"
           },
           "zaxis": {
            "backgroundcolor": "#E5ECF6",
            "gridcolor": "white",
            "gridwidth": 2,
            "linecolor": "white",
            "showbackground": true,
            "ticks": "",
            "zerolinecolor": "white"
           }
          },
          "shapedefaults": {
           "line": {
            "color": "#2a3f5f"
           }
          },
          "ternary": {
           "aaxis": {
            "gridcolor": "white",
            "linecolor": "white",
            "ticks": ""
           },
           "baxis": {
            "gridcolor": "white",
            "linecolor": "white",
            "ticks": ""
           },
           "bgcolor": "#E5ECF6",
           "caxis": {
            "gridcolor": "white",
            "linecolor": "white",
            "ticks": ""
           }
          },
          "title": {
           "x": 0.05
          },
          "xaxis": {
           "automargin": true,
           "gridcolor": "white",
           "linecolor": "white",
           "ticks": "",
           "zerolinecolor": "white",
           "zerolinewidth": 2
          },
          "yaxis": {
           "automargin": true,
           "gridcolor": "white",
           "linecolor": "white",
           "ticks": "",
           "zerolinecolor": "white",
           "zerolinewidth": 2
          }
         }
        },
        "title": {
         "text": "Lending Clubs Issued Loans <br> (A Perspective for the Business Operations)"
        }
       }
      },
      "text/html": [
       "<div>\n",
       "        \n",
       "        \n",
       "            <div id=\"8d84019d-f652-4fa9-87ed-af45d27eab1c\" class=\"plotly-graph-div\" style=\"height:525px; width:100%;\"></div>\n",
       "            <script type=\"text/javascript\">\n",
       "                require([\"plotly\"], function(Plotly) {\n",
       "                    window.PLOTLYENV=window.PLOTLYENV || {};\n",
       "                    \n",
       "                if (document.getElementById(\"8d84019d-f652-4fa9-87ed-af45d27eab1c\")) {\n",
       "                    Plotly.newPlot(\n",
       "                        '8d84019d-f652-4fa9-87ed-af45d27eab1c',\n",
       "                        [{\"autocolorscale\": false, \"colorbar\": {\"title\": {\"text\": \"$s USD\"}}, \"colorscale\": [[0.0, \"rgb(210, 241, 198)\"], [0.2, \"rgb(188, 236, 169)\"], [0.4, \"rgb(171, 235, 145)\"], [0.6, \"rgb(140, 227, 105)\"], [0.8, \"rgb(105, 201, 67)\"], [1.0, \"rgb(59, 159, 19)\"]], \"locationmode\": \"USA-states\", \"locations\": [\"IA\", \"IL\", \"IN\", \"KS\", \"MI\", \"MN\", \"MO\", \"ND\", \"NE\", \"OH\", \"SD\", \"WI\", \"CT\", \"MA\", \"MD\", \"ME\", \"NH\", \"NJ\", \"NY\", \"PA\", \"RI\", \"VT\", \"AL\", \"AR\", \"DC\", \"DE\", \"FL\", \"GA\", \"KY\", \"LA\", \"MS\", \"NC\", \"SC\", \"TN\", \"VA\", \"WV\", \"AZ\", \"NM\", \"OK\", \"TX\", \"AK\", \"CA\", \"CO\", \"HI\", \"ID\", \"MT\", \"NV\", \"OR\", \"UT\", \"WA\", \"WY\"], \"marker\": {\"line\": {\"color\": \"rgb(255,255,255)\", \"width\": 2}}, \"text\": [\"IA<br>Average loan interest rate: 12.63<br>Average annual income: 44756.21\", \"IL<br>Average loan interest rate: 12.96<br>Average annual income: 79884.92\", \"IN<br>Average loan interest rate: 13.18<br>Average annual income: 70365.19\", \"KS<br>Average loan interest rate: 13.0<br>Average annual income: 71456.55\", \"MI<br>Average loan interest rate: 13.16<br>Average annual income: 71660.97\", \"MN<br>Average loan interest rate: 12.97<br>Average annual income: 73239.38\", \"MO<br>Average loan interest rate: 13.05<br>Average annual income: 70177.88\", \"ND<br>Average loan interest rate: 13.25<br>Average annual income: 76433.85\", \"NE<br>Average loan interest rate: 13.18<br>Average annual income: 65789.44\", \"OH<br>Average loan interest rate: 13.14<br>Average annual income: 69322.61\", \"SD<br>Average loan interest rate: 13.22<br>Average annual income: 65890.03\", \"WI<br>Average loan interest rate: 12.85<br>Average annual income: 69053.08\", \"CT<br>Average loan interest rate: 13.05<br>Average annual income: 86531.03\", \"MA<br>Average loan interest rate: 12.68<br>Average annual income: 82788.66\", \"MD<br>Average loan interest rate: 13.24<br>Average annual income: 86919.01\", \"ME<br>Average loan interest rate: 12.82<br>Average annual income: 67713.61\", \"NH<br>Average loan interest rate: 12.7<br>Average annual income: 79110.57\", \"NJ<br>Average loan interest rate: 12.99<br>Average annual income: 89920.51\", \"NY<br>Average loan interest rate: 13.26<br>Average annual income: 81057.05\", \"PA<br>Average loan interest rate: 13.15<br>Average annual income: 73940.35\", \"RI<br>Average loan interest rate: 13.03<br>Average annual income: 74607.28\", \"VT<br>Average loan interest rate: 12.99<br>Average annual income: 66577.67\", \"AL<br>Average loan interest rate: 13.57<br>Average annual income: 70854.75\", \"AR<br>Average loan interest rate: 13.35<br>Average annual income: 67588.15\", \"DC<br>Average loan interest rate: 12.58<br>Average annual income: 94553.07\", \"DE<br>Average loan interest rate: 13.2<br>Average annual income: 76689.29\", \"FL<br>Average loan interest rate: 13.16<br>Average annual income: 73171.61\", \"GA<br>Average loan interest rate: 13.21<br>Average annual income: 77857.57\", \"KY<br>Average loan interest rate: 13.19<br>Average annual income: 69534.68\", \"LA<br>Average loan interest rate: 13.23<br>Average annual income: 75669.09\", \"MS<br>Average loan interest rate: 13.45<br>Average annual income: 71625.13\", \"NC<br>Average loan interest rate: 13.19<br>Average annual income: 73853.2\", \"SC<br>Average loan interest rate: 13.27<br>Average annual income: 73137.99\", \"TN<br>Average loan interest rate: 13.29<br>Average annual income: 70665.98\", \"VA<br>Average loan interest rate: 13.11<br>Average annual income: 86071.97\", \"WV<br>Average loan interest rate: 13.12<br>Average annual income: 69514.91\", \"AZ<br>Average loan interest rate: 12.96<br>Average annual income: 74186.97\", \"NM<br>Average loan interest rate: 13.16<br>Average annual income: 71566.73\", \"OK<br>Average loan interest rate: 13.26<br>Average annual income: 72413.97\", \"TX<br>Average loan interest rate: 13.0<br>Average annual income: 82728.81\", \"AK<br>Average loan interest rate: 13.33<br>Average annual income: 79823.04\", \"CA<br>Average loan interest rate: 12.98<br>Average annual income: 83847.98\", \"CO<br>Average loan interest rate: 12.89<br>Average annual income: 76948.31\", \"HI<br>Average loan interest rate: 13.79<br>Average annual income: 74696.93\", \"ID<br>Average loan interest rate: 13.3<br>Average annual income: 65500.36\", \"MT<br>Average loan interest rate: 12.96<br>Average annual income: 64079.48\", \"NV<br>Average loan interest rate: 13.21<br>Average annual income: 73480.53\", \"OR<br>Average loan interest rate: 12.95<br>Average annual income: 68737.99\", \"UT<br>Average loan interest rate: 13.1<br>Average annual income: 75169.24\", \"WA<br>Average loan interest rate: 13.16<br>Average annual income: 77462.93\", \"WY<br>Average loan interest rate: 13.21<br>Average annual income: 72941.19\"], \"type\": \"choropleth\", \"z\": [\"114075\", \"1410451950\", \"550776675\", \"283877825\", \"841646100\", \"577447675\", \"524098650\", \"55622875\", \"110941450\", \"1077142925\", \"64670375\", \"431766050\", \"547556950\", \"811746725\", \"856883500\", \"73320525\", \"166469500\", \"1316207975\", \"2767160700\", \"1131987950\", \"142960100\", \"68206775\", \"400699250\", \"240650500\", \"84707250\", \"96450975\", \"2333034500\", \"1136790825\", \"313557625\", \"382046275\", \"186427150\", \"930436100\", \"418481900\", \"522342125\", \"1013015875\", \"125954800\", \"780966125\", \"178280525\", \"310665375\", \"2931133525\", \"90419900\", \"4808480100\", \"727724225\", \"169562100\", \"62088425\", \"88170825\", \"470165300\", \"379466875\", \"227578525\", \"721608300\", \"74153325\"]}],\n",
       "                        {\"geo\": {\"lakecolor\": \"rgb(255, 255, 255)\", \"projection\": {\"type\": \"albers usa\"}, \"scope\": \"usa\", \"showlakes\": true}, \"template\": {\"data\": {\"bar\": [{\"error_x\": {\"color\": \"#2a3f5f\"}, \"error_y\": {\"color\": \"#2a3f5f\"}, \"marker\": {\"line\": {\"color\": \"#E5ECF6\", \"width\": 0.5}}, \"type\": \"bar\"}], \"barpolar\": [{\"marker\": {\"line\": {\"color\": \"#E5ECF6\", \"width\": 0.5}}, \"type\": \"barpolar\"}], \"carpet\": [{\"aaxis\": {\"endlinecolor\": \"#2a3f5f\", \"gridcolor\": \"white\", \"linecolor\": \"white\", \"minorgridcolor\": \"white\", \"startlinecolor\": \"#2a3f5f\"}, \"baxis\": {\"endlinecolor\": \"#2a3f5f\", \"gridcolor\": \"white\", \"linecolor\": \"white\", \"minorgridcolor\": \"white\", \"startlinecolor\": \"#2a3f5f\"}, \"type\": \"carpet\"}], \"choropleth\": [{\"colorbar\": {\"outlinewidth\": 0, \"ticks\": \"\"}, \"type\": \"choropleth\"}], \"contour\": [{\"colorbar\": {\"outlinewidth\": 0, \"ticks\": \"\"}, \"colorscale\": [[0.0, \"#0d0887\"], [0.1111111111111111, \"#46039f\"], [0.2222222222222222, \"#7201a8\"], [0.3333333333333333, \"#9c179e\"], [0.4444444444444444, \"#bd3786\"], [0.5555555555555556, \"#d8576b\"], [0.6666666666666666, \"#ed7953\"], [0.7777777777777778, \"#fb9f3a\"], [0.8888888888888888, \"#fdca26\"], [1.0, \"#f0f921\"]], \"type\": \"contour\"}], \"contourcarpet\": [{\"colorbar\": {\"outlinewidth\": 0, \"ticks\": \"\"}, \"type\": \"contourcarpet\"}], \"heatmap\": [{\"colorbar\": {\"outlinewidth\": 0, \"ticks\": \"\"}, \"colorscale\": [[0.0, \"#0d0887\"], [0.1111111111111111, \"#46039f\"], [0.2222222222222222, \"#7201a8\"], [0.3333333333333333, \"#9c179e\"], [0.4444444444444444, \"#bd3786\"], [0.5555555555555556, \"#d8576b\"], [0.6666666666666666, \"#ed7953\"], [0.7777777777777778, \"#fb9f3a\"], [0.8888888888888888, \"#fdca26\"], [1.0, \"#f0f921\"]], \"type\": \"heatmap\"}], \"heatmapgl\": [{\"colorbar\": {\"outlinewidth\": 0, \"ticks\": \"\"}, \"colorscale\": [[0.0, \"#0d0887\"], [0.1111111111111111, \"#46039f\"], [0.2222222222222222, \"#7201a8\"], [0.3333333333333333, \"#9c179e\"], [0.4444444444444444, \"#bd3786\"], [0.5555555555555556, \"#d8576b\"], [0.6666666666666666, \"#ed7953\"], [0.7777777777777778, \"#fb9f3a\"], [0.8888888888888888, \"#fdca26\"], [1.0, \"#f0f921\"]], \"type\": \"heatmapgl\"}], \"histogram\": [{\"marker\": {\"colorbar\": {\"outlinewidth\": 0, \"ticks\": \"\"}}, \"type\": \"histogram\"}], \"histogram2d\": [{\"colorbar\": {\"outlinewidth\": 0, \"ticks\": \"\"}, \"colorscale\": [[0.0, \"#0d0887\"], [0.1111111111111111, \"#46039f\"], [0.2222222222222222, \"#7201a8\"], [0.3333333333333333, \"#9c179e\"], [0.4444444444444444, \"#bd3786\"], [0.5555555555555556, \"#d8576b\"], [0.6666666666666666, \"#ed7953\"], [0.7777777777777778, \"#fb9f3a\"], [0.8888888888888888, \"#fdca26\"], [1.0, \"#f0f921\"]], \"type\": \"histogram2d\"}], \"histogram2dcontour\": [{\"colorbar\": {\"outlinewidth\": 0, \"ticks\": \"\"}, \"colorscale\": [[0.0, \"#0d0887\"], [0.1111111111111111, \"#46039f\"], [0.2222222222222222, \"#7201a8\"], [0.3333333333333333, \"#9c179e\"], [0.4444444444444444, \"#bd3786\"], [0.5555555555555556, \"#d8576b\"], [0.6666666666666666, \"#ed7953\"], [0.7777777777777778, \"#fb9f3a\"], [0.8888888888888888, \"#fdca26\"], [1.0, \"#f0f921\"]], \"type\": \"histogram2dcontour\"}], \"mesh3d\": [{\"colorbar\": {\"outlinewidth\": 0, \"ticks\": \"\"}, \"type\": \"mesh3d\"}], \"parcoords\": [{\"line\": {\"colorbar\": {\"outlinewidth\": 0, \"ticks\": \"\"}}, \"type\": \"parcoords\"}], \"scatter\": [{\"marker\": {\"colorbar\": {\"outlinewidth\": 0, \"ticks\": \"\"}}, \"type\": \"scatter\"}], \"scatter3d\": [{\"line\": {\"colorbar\": {\"outlinewidth\": 0, \"ticks\": \"\"}}, \"marker\": {\"colorbar\": {\"outlinewidth\": 0, \"ticks\": \"\"}}, \"type\": \"scatter3d\"}], \"scattercarpet\": [{\"marker\": {\"colorbar\": {\"outlinewidth\": 0, \"ticks\": \"\"}}, \"type\": \"scattercarpet\"}], \"scattergeo\": [{\"marker\": {\"colorbar\": {\"outlinewidth\": 0, \"ticks\": \"\"}}, \"type\": \"scattergeo\"}], \"scattergl\": [{\"marker\": {\"colorbar\": {\"outlinewidth\": 0, \"ticks\": \"\"}}, \"type\": \"scattergl\"}], \"scattermapbox\": [{\"marker\": {\"colorbar\": {\"outlinewidth\": 0, \"ticks\": \"\"}}, \"type\": \"scattermapbox\"}], \"scatterpolar\": [{\"marker\": {\"colorbar\": {\"outlinewidth\": 0, \"ticks\": \"\"}}, \"type\": \"scatterpolar\"}], \"scatterpolargl\": [{\"marker\": {\"colorbar\": {\"outlinewidth\": 0, \"ticks\": \"\"}}, \"type\": \"scatterpolargl\"}], \"scatterternary\": [{\"marker\": {\"colorbar\": {\"outlinewidth\": 0, \"ticks\": \"\"}}, \"type\": \"scatterternary\"}], \"surface\": [{\"colorbar\": {\"outlinewidth\": 0, \"ticks\": \"\"}, \"colorscale\": [[0.0, \"#0d0887\"], [0.1111111111111111, \"#46039f\"], [0.2222222222222222, \"#7201a8\"], [0.3333333333333333, \"#9c179e\"], [0.4444444444444444, \"#bd3786\"], [0.5555555555555556, \"#d8576b\"], [0.6666666666666666, \"#ed7953\"], [0.7777777777777778, \"#fb9f3a\"], [0.8888888888888888, \"#fdca26\"], [1.0, \"#f0f921\"]], \"type\": \"surface\"}], \"table\": [{\"cells\": {\"fill\": {\"color\": \"#EBF0F8\"}, \"line\": {\"color\": \"white\"}}, \"header\": {\"fill\": {\"color\": \"#C8D4E3\"}, \"line\": {\"color\": \"white\"}}, \"type\": \"table\"}]}, \"layout\": {\"annotationdefaults\": {\"arrowcolor\": \"#2a3f5f\", \"arrowhead\": 0, \"arrowwidth\": 1}, \"colorscale\": {\"diverging\": [[0, \"#8e0152\"], [0.1, \"#c51b7d\"], [0.2, \"#de77ae\"], [0.3, \"#f1b6da\"], [0.4, \"#fde0ef\"], [0.5, \"#f7f7f7\"], [0.6, \"#e6f5d0\"], [0.7, \"#b8e186\"], [0.8, \"#7fbc41\"], [0.9, \"#4d9221\"], [1, \"#276419\"]], \"sequential\": [[0.0, \"#0d0887\"], [0.1111111111111111, \"#46039f\"], [0.2222222222222222, \"#7201a8\"], [0.3333333333333333, \"#9c179e\"], [0.4444444444444444, \"#bd3786\"], [0.5555555555555556, \"#d8576b\"], [0.6666666666666666, \"#ed7953\"], [0.7777777777777778, \"#fb9f3a\"], [0.8888888888888888, \"#fdca26\"], [1.0, \"#f0f921\"]], \"sequentialminus\": [[0.0, \"#0d0887\"], [0.1111111111111111, \"#46039f\"], [0.2222222222222222, \"#7201a8\"], [0.3333333333333333, \"#9c179e\"], [0.4444444444444444, \"#bd3786\"], [0.5555555555555556, \"#d8576b\"], [0.6666666666666666, \"#ed7953\"], [0.7777777777777778, \"#fb9f3a\"], [0.8888888888888888, \"#fdca26\"], [1.0, \"#f0f921\"]]}, \"colorway\": [\"#636efa\", \"#EF553B\", \"#00cc96\", \"#ab63fa\", \"#FFA15A\", \"#19d3f3\", \"#FF6692\", \"#B6E880\", \"#FF97FF\", \"#FECB52\"], \"font\": {\"color\": \"#2a3f5f\"}, \"geo\": {\"bgcolor\": \"white\", \"lakecolor\": \"white\", \"landcolor\": \"#E5ECF6\", \"showlakes\": true, \"showland\": true, \"subunitcolor\": \"white\"}, \"hoverlabel\": {\"align\": \"left\"}, \"hovermode\": \"closest\", \"mapbox\": {\"style\": \"light\"}, \"paper_bgcolor\": \"white\", \"plot_bgcolor\": \"#E5ECF6\", \"polar\": {\"angularaxis\": {\"gridcolor\": \"white\", \"linecolor\": \"white\", \"ticks\": \"\"}, \"bgcolor\": \"#E5ECF6\", \"radialaxis\": {\"gridcolor\": \"white\", \"linecolor\": \"white\", \"ticks\": \"\"}}, \"scene\": {\"xaxis\": {\"backgroundcolor\": \"#E5ECF6\", \"gridcolor\": \"white\", \"gridwidth\": 2, \"linecolor\": \"white\", \"showbackground\": true, \"ticks\": \"\", \"zerolinecolor\": \"white\"}, \"yaxis\": {\"backgroundcolor\": \"#E5ECF6\", \"gridcolor\": \"white\", \"gridwidth\": 2, \"linecolor\": \"white\", \"showbackground\": true, \"ticks\": \"\", \"zerolinecolor\": \"white\"}, \"zaxis\": {\"backgroundcolor\": \"#E5ECF6\", \"gridcolor\": \"white\", \"gridwidth\": 2, \"linecolor\": \"white\", \"showbackground\": true, \"ticks\": \"\", \"zerolinecolor\": \"white\"}}, \"shapedefaults\": {\"line\": {\"color\": \"#2a3f5f\"}}, \"ternary\": {\"aaxis\": {\"gridcolor\": \"white\", \"linecolor\": \"white\", \"ticks\": \"\"}, \"baxis\": {\"gridcolor\": \"white\", \"linecolor\": \"white\", \"ticks\": \"\"}, \"bgcolor\": \"#E5ECF6\", \"caxis\": {\"gridcolor\": \"white\", \"linecolor\": \"white\", \"ticks\": \"\"}}, \"title\": {\"x\": 0.05}, \"xaxis\": {\"automargin\": true, \"gridcolor\": \"white\", \"linecolor\": \"white\", \"ticks\": \"\", \"zerolinecolor\": \"white\", \"zerolinewidth\": 2}, \"yaxis\": {\"automargin\": true, \"gridcolor\": \"white\", \"linecolor\": \"white\", \"ticks\": \"\", \"zerolinecolor\": \"white\", \"zerolinewidth\": 2}}}, \"title\": {\"text\": \"Lending Clubs Issued Loans <br> (A Perspective for the Business Operations)\"}},\n",
       "                        {\"responsive\": true}\n",
       "                    ).then(function(){\n",
       "                            \n",
       "var gd = document.getElementById('8d84019d-f652-4fa9-87ed-af45d27eab1c');\n",
       "var x = new MutationObserver(function (mutations, observer) {{\n",
       "        var display = window.getComputedStyle(gd).display;\n",
       "        if (!display || display === 'none') {{\n",
       "            console.log([gd, 'removed!']);\n",
       "            Plotly.purge(gd);\n",
       "            observer.disconnect();\n",
       "        }}\n",
       "}});\n",
       "\n",
       "// Listen for the removal of the full notebook cells\n",
       "var notebookContainer = gd.closest('#notebook-container');\n",
       "if (notebookContainer) {{\n",
       "    x.observe(notebookContainer, {childList: true});\n",
       "}}\n",
       "\n",
       "// Listen for the clearing of the current output cell\n",
       "var outputEl = gd.closest('.output');\n",
       "if (outputEl) {{\n",
       "    x.observe(outputEl, {childList: true});\n",
       "}}\n",
       "\n",
       "                        })\n",
       "                };\n",
       "                });\n",
       "            </script>\n",
       "        </div>"
      ]
     },
     "metadata": {},
     "output_type": "display_data"
    }
   ],
   "source": [
    "for col in metrics_df.columns:\n",
    "    metrics_df[col] = metrics_df[col].astype(str)\n",
    "    \n",
    "scl = [[0.0, 'rgb(210, 241, 198)'],[0.2, 'rgb(188, 236, 169)'],[0.4, 'rgb(171, 235, 145)'],\\\n",
    "            [0.6, 'rgb(140, 227, 105)'],[0.8, 'rgb(105, 201, 67)'],[1.0, 'rgb(59, 159, 19)']]\n",
    "\n",
    "metrics_df['text'] = metrics_df['state_codes'] + '<br>' +\\\n",
    "'Average loan interest rate: ' + metrics_df['interest_rate'] + '<br>'+\\\n",
    "'Average annual income: ' + metrics_df['annual_income'] \n",
    "\n",
    "\n",
    "data = [ dict(\n",
    "        type='choropleth',\n",
    "        colorscale = scl,\n",
    "        autocolorscale = False,\n",
    "        locations = metrics_df['state_codes'],\n",
    "        z = metrics_df['issued_loans'], \n",
    "        locationmode = 'USA-states',\n",
    "        text = metrics_df['text'],\n",
    "        marker = dict(\n",
    "            line = dict (\n",
    "                color = 'rgb(255,255,255)',\n",
    "                width = 2\n",
    "            ) ),\n",
    "        colorbar = dict(\n",
    "            title = \"$s USD\")\n",
    "        ) ]\n",
    "\n",
    "\n",
    "layout = dict(\n",
    "    title = 'Lending Clubs Issued Loans <br> (A Perspective for the Business Operations)',\n",
    "    geo = dict(\n",
    "        scope = 'usa',\n",
    "        projection=dict(type='albers usa'),\n",
    "        showlakes = True,\n",
    "        lakecolor = 'rgb(255, 255, 255)')\n",
    ")\n",
    "\n",
    "fig = dict(data=data, layout=layout)\n",
    "iplot(fig, filename='d3-cloropleth-map')"
   ]
  },
  {
   "cell_type": "markdown",
   "metadata": {},
   "source": [
    "## Analysis by Income Category:\n",
    "<a id=\"income_category\"></a>\n",
    "In this section we will create different <b> income categories </b> in order to detect important patters and go more into depth in our analysis.\n",
    "\n",
    "**What we need to know:** <br>\n",
    "<ul>\n",
    "<li><b>Low income category:</b> Borrowers that have an annual income lower or equal to 100,000 usd.</li>\n",
    "<li> <b> Medium income category:</b> Borrowers that have an annual income higher than 100,000 usd but lower or equal to 200,000 usd. </li>\n",
    "<li><b> High income category: </b> Borrowers that have an annual income higher tha 200,000 usd. </li>\n",
    "</ul>\n",
    "\n",
    "**Summary:**\n",
    "<ul>\n",
    "<li>Borrowers that made part of the <b>high income category</b> took higher loan amounts than people from <b>low</b> and <b>medium income categories.</b> Of course, people with higher annual incomes are more likely to pay loans with a higher amount. (First row to the left of the subplots) </li>\n",
    "<li> Loans that were borrowed by the <b>Low income category</b> had a slightly higher change of becoming a bad loan. (First row to the right of the subplots) </li>\n",
    "<li>Borrowers with <b>High</b> and <b> Medium</b> annual incomes had a longer employment length than people with lower incomes.(Second row to the left of the subplots) </li>\n",
    "<li> Borrowers with a lower income had on average <b>higher interest rates</b> while people with a higher annual income had <b>lower interest rates</b> on their loans. (Second row to the right of the subplots)</li> \n",
    "\n",
    "</ul>"
   ]
  },
  {
   "cell_type": "code",
   "execution_count": 32,
   "metadata": {},
   "outputs": [],
   "source": [
    "# Let's create categories for annual_income since most of the bad loans are located below 100k\n",
    "\n",
    "df['income_category'] = np.nan\n",
    "lst = [df]\n",
    "\n",
    "for col in lst:\n",
    "    col.loc[col['annual_income'] <= 100000, 'income_category'] = 'Low'\n",
    "    col.loc[(col['annual_income'] > 100000) & (col['annual_income'] <= 200000), 'income_category'] = 'Medium'\n",
    "    col.loc[col['annual_income'] > 200000, 'income_category'] = 'High'"
   ]
  },
  {
   "cell_type": "code",
   "execution_count": 33,
   "metadata": {},
   "outputs": [],
   "source": [
    "# Let's transform the column loan_condition into integrers.\n",
    "\n",
    "lst = [df]\n",
    "df['loan_condition_int'] = np.nan\n",
    "\n",
    "for col in lst:\n",
    "    col.loc[df['loan_condition'] == 'Good Loan', 'loan_condition_int'] = 0 # Negative (Bad Loan)\n",
    "    col.loc[df['loan_condition'] == 'Bad Loan', 'loan_condition_int'] = 1 # Positive (Good Loan)\n",
    "    \n",
    "# Convert from float to int the column (This is our label)  \n",
    "df['loan_condition_int'] = df['loan_condition_int'].astype(int)"
   ]
  },
  {
   "cell_type": "code",
   "execution_count": 34,
   "metadata": {},
   "outputs": [
    {
     "data": {
      "text/plain": [
       "<matplotlib.axes._subplots.AxesSubplot at 0x1c5b74c490>"
      ]
     },
     "execution_count": 34,
     "metadata": {},
     "output_type": "execute_result"
    },
    {
     "data": {
      "image/png": "[encoded data removed]",
      "text/plain": [
       "<Figure size 1008x432 with 4 Axes>"
      ]
     },
     "metadata": {},
     "output_type": "display_data"
    }
   ],
   "source": [
    "fig, ((ax1, ax2), (ax3, ax4))= plt.subplots(nrows=2, ncols=2, figsize=(14,6))\n",
    "\n",
    "# Change the Palette types tomorrow!\n",
    "\n",
    "sns.violinplot(x=\"income_category\", y=\"loan_amount\", data=df, palette=\"Set2\", ax=ax1 )\n",
    "sns.violinplot(x=\"income_category\", y=\"loan_condition_int\", data=df, palette=\"Set2\", ax=ax2)\n",
    "sns.boxplot(x=\"income_category\", y=\"emp_length_int\", data=df, palette=\"Set2\", ax=ax3)\n",
    "sns.boxplot(x=\"income_category\", y=\"interest_rate\", data=df, palette=\"Set2\", ax=ax4)"
   ]
  },
  {
   "cell_type": "markdown",
   "metadata": {},
   "source": [
    "<h1 align=\"center\"> Assesing Risks </h1>\n",
    "<h2> Understanding the Risky side of Business </h2>\n",
    "<a id=\"risky_side\"></a>\n",
    "\n",
    "Although the <b> operative side of business </b> is important, we have to also analyze the level of risk in each state. Credit scores are important metrics to analyze the level of risk of an individual customer. However, there are also other important metrics to somehow estimate the level of risk of other states. <br><br>\n",
    "\n",
    "<h4> What we need to know: </h4>\n",
    "<ul>\n",
    "<li> <b>Debt-to-income</b> is an important metric since it says approximately the level of debt of each individual consumer with respect to its total income. </li>\n",
    "<li> The <b>average length of employment</b> tells us a better story about the labor market in each state which is helpful to assess the levelof risk. </li>\n",
    "</ul>\n",
    "\n",
    "<h4> Summary: </h4>\n",
    "<ul>\n",
    "<li> <b>IOWA</b> has the highest level of default ratio neverthless, the amount of loans issued in that state is <b>too low</b>. (Number of Bad loans is equal to 3) </li>\n",
    "<li> California and Texas seem to have the lowest risk and the highest possible return for investors. However, I will look more deeply into these states and create other metrics analyze the level of risk for each state. </li>\n",
    "\n",
    "</ul>\n"
   ]
  },
  {
   "cell_type": "code",
   "execution_count": 35,
   "metadata": {},
   "outputs": [
    {
     "data": {
      "text/html": [
       "<div>\n",
       "<style scoped>\n",
       "    .dataframe tbody tr th:only-of-type {\n",
       "        vertical-align: middle;\n",
       "    }\n",
       "\n",
       "    .dataframe tbody tr th {\n",
       "        vertical-align: top;\n",
       "    }\n",
       "\n",
       "    .dataframe thead th {\n",
       "        text-align: right;\n",
       "    }\n",
       "</style>\n",
       "<table border=\"1\" class=\"dataframe\">\n",
       "  <thead>\n",
       "    <tr style=\"text-align: right;\">\n",
       "      <th></th>\n",
       "      <th>state_codes</th>\n",
       "      <th>default_ratio</th>\n",
       "      <th>badloans_amount</th>\n",
       "      <th>percentage_of_badloans</th>\n",
       "      <th>average_dti</th>\n",
       "      <th>average_emp_length</th>\n",
       "    </tr>\n",
       "  </thead>\n",
       "  <tbody>\n",
       "    <tr>\n",
       "      <td>0</td>\n",
       "      <td>AK</td>\n",
       "      <td>0.153</td>\n",
       "      <td>696</td>\n",
       "      <td>0.234</td>\n",
       "      <td>13.656</td>\n",
       "      <td>6.136</td>\n",
       "    </tr>\n",
       "    <tr>\n",
       "      <td>1</td>\n",
       "      <td>AL</td>\n",
       "      <td>0.188</td>\n",
       "      <td>4308</td>\n",
       "      <td>1.450</td>\n",
       "      <td>18.739</td>\n",
       "      <td>6.463</td>\n",
       "    </tr>\n",
       "    <tr>\n",
       "      <td>2</td>\n",
       "      <td>AR</td>\n",
       "      <td>0.183</td>\n",
       "      <td>2642</td>\n",
       "      <td>0.889</td>\n",
       "      <td>20.327</td>\n",
       "      <td>6.254</td>\n",
       "    </tr>\n",
       "    <tr>\n",
       "      <td>3</td>\n",
       "      <td>AZ</td>\n",
       "      <td>0.150</td>\n",
       "      <td>7028</td>\n",
       "      <td>2.366</td>\n",
       "      <td>20.414</td>\n",
       "      <td>5.680</td>\n",
       "    </tr>\n",
       "    <tr>\n",
       "      <td>4</td>\n",
       "      <td>CA</td>\n",
       "      <td>0.155</td>\n",
       "      <td>42319</td>\n",
       "      <td>14.247</td>\n",
       "      <td>19.240</td>\n",
       "      <td>5.947</td>\n",
       "    </tr>\n",
       "  </tbody>\n",
       "</table>\n",
       "</div>"
      ],
      "text/plain": [
       "  state_codes  default_ratio  badloans_amount  percentage_of_badloans  \\\n",
       "0          AK          0.153              696                   0.234   \n",
       "1          AL          0.188             4308                   1.450   \n",
       "2          AR          0.183             2642                   0.889   \n",
       "3          AZ          0.150             7028                   2.366   \n",
       "4          CA          0.155            42319                  14.247   \n",
       "\n",
       "   average_dti  average_emp_length  \n",
       "0       13.656               6.136  \n",
       "1       18.739               6.463  \n",
       "2       20.327               6.254  \n",
       "3       20.414               5.680  \n",
       "4       19.240               5.947  "
      ]
     },
     "execution_count": 35,
     "metadata": {},
     "output_type": "execute_result"
    }
   ],
   "source": [
    "by_condition = df.groupby('addr_state')['loan_condition'].value_counts()/ df.groupby('addr_state')['loan_condition'].count()\n",
    "by_emp_length = df.groupby(['region', 'addr_state'], as_index=False).emp_length_int.mean().sort_values(by=\"addr_state\")\n",
    "\n",
    "loan_condition_bystate = pd.crosstab(df['addr_state'], df['loan_condition'] )\n",
    "\n",
    "cross_condition = pd.crosstab(df[\"addr_state\"], df[\"loan_condition\"])\n",
    "# Percentage of condition of loan\n",
    "percentage_loan_contributor = pd.crosstab(df['addr_state'], df['loan_condition']).apply(lambda x: x/x.sum() * 100)\n",
    "condition_ratio = cross_condition[\"Bad Loan\"]/cross_condition[\"Good Loan\"]\n",
    "by_dti = df.groupby(['region', 'addr_state'], as_index=False).dti.mean()\n",
    "state_codes = sorted(states)\n",
    "\n",
    "\n",
    "# Take to a list\n",
    "default_ratio = condition_ratio.values.tolist()\n",
    "average_dti = by_dti['dti'].values.tolist()\n",
    "average_emp_length = by_emp_length[\"emp_length_int\"].values.tolist()\n",
    "number_of_badloans = loan_condition_bystate['Bad Loan'].values.tolist()\n",
    "percentage_ofall_badloans = percentage_loan_contributor['Bad Loan'].values.tolist()\n",
    "\n",
    "\n",
    "# Figure Number 2\n",
    "risk_data = OrderedDict([('state_codes', state_codes),\n",
    "                         ('default_ratio', default_ratio),\n",
    "                         ('badloans_amount', number_of_badloans),\n",
    "                         ('percentage_of_badloans', percentage_ofall_badloans),\n",
    "                         ('average_dti', average_dti),\n",
    "                         ('average_emp_length', average_emp_length)])\n",
    "\n",
    "\n",
    "# Figure 2 Dataframe \n",
    "risk_df = pd.DataFrame.from_dict(risk_data)\n",
    "risk_df = risk_df.round(decimals=3)\n",
    "risk_df.head()"
   ]
  },
  {
   "cell_type": "code",
   "execution_count": 36,
   "metadata": {},
   "outputs": [
    {
     "data": {
      "application/vnd.plotly.v1+json": {
       "config": {
        "linkText": "Export to plot.ly",
        "plotlyServerURL": "https://plot.ly",
        "showLink": false
       },
       "data": [
        {
         "autocolorscale": false,
         "colorbar": {
          "title": {
           "text": "%"
          }
         },
         "colorscale": [
          [
           0,
           "rgb(202, 202, 202)"
          ],
          [
           0.2,
           "rgb(253, 205, 200)"
          ],
          [
           0.4,
           "rgb(252, 169, 161)"
          ],
          [
           0.6,
           "rgb(247, 121, 108  )"
          ],
          [
           0.8,
           "rgb(232, 70, 54)"
          ],
          [
           1,
           "rgb(212, 31, 13)"
          ]
         ],
         "locationmode": "USA-states",
         "locations": [
          "AK",
          "AL",
          "AR",
          "AZ",
          "CA",
          "CO",
          "CT",
          "DC",
          "DE",
          "FL",
          "GA",
          "HI",
          "IA",
          "ID",
          "IL",
          "IN",
          "KS",
          "KY",
          "LA",
          "MA",
          "MD",
          "ME",
          "MI",
          "MN",
          "MO",
          "MS",
          "MT",
          "NC",
          "ND",
          "NE",
          "NH",
          "NJ",
          "NM",
          "NV",
          "NY",
          "OH",
          "OK",
          "OR",
          "PA",
          "RI",
          "SC",
          "SD",
          "TN",
          "TX",
          "UT",
          "VA",
          "VT",
          "WA",
          "WI",
          "WV",
          "WY"
         ],
         "marker": {
          "line": {
           "color": "rgb(255,255,255)",
           "width": 2
          }
         },
         "text": [
          "AK<br>Number of Bad Loans: 696<br>Percentage of all Bad Loans: 0.234%<br>Average Debt-to-Income Ratio: 13.656<br>Average Length of Employment: 6.136",
          "AL<br>Number of Bad Loans: 4308<br>Percentage of all Bad Loans: 1.45%<br>Average Debt-to-Income Ratio: 18.739<br>Average Length of Employment: 6.463",
          "AR<br>Number of Bad Loans: 2642<br>Percentage of all Bad Loans: 0.889%<br>Average Debt-to-Income Ratio: 20.327<br>Average Length of Employment: 6.254",
          "AZ<br>Number of Bad Loans: 7028<br>Percentage of all Bad Loans: 2.366%<br>Average Debt-to-Income Ratio: 20.414<br>Average Length of Employment: 5.68",
          "CA<br>Number of Bad Loans: 42319<br>Percentage of all Bad Loans: 14.247%<br>Average Debt-to-Income Ratio: 19.24<br>Average Length of Employment: 5.947",
          "CO<br>Number of Bad Loans: 5075<br>Percentage of all Bad Loans: 1.709%<br>Average Debt-to-Income Ratio: 19.205<br>Average Length of Employment: 5.389",
          "CT<br>Number of Bad Loans: 3917<br>Percentage of all Bad Loans: 1.319%<br>Average Debt-to-Income Ratio: 20.083<br>Average Length of Employment: 6.185",
          "DC<br>Number of Bad Loans: 524<br>Percentage of all Bad Loans: 0.176%<br>Average Debt-to-Income Ratio: 21.424<br>Average Length of Employment: 4.841",
          "DE<br>Number of Bad Loans: 833<br>Percentage of all Bad Loans: 0.28%<br>Average Debt-to-Income Ratio: 20.614<br>Average Length of Employment: 6.29",
          "FL<br>Number of Bad Loans: 22842<br>Percentage of all Bad Loans: 7.69%<br>Average Debt-to-Income Ratio: 20.25<br>Average Length of Employment: 5.765",
          "GA<br>Number of Bad Loans: 8923<br>Percentage of all Bad Loans: 3.004%<br>Average Debt-to-Income Ratio: 21.567<br>Average Length of Employment: 6.002",
          "HI<br>Number of Bad Loans: 1506<br>Percentage of all Bad Loans: 0.507%<br>Average Debt-to-Income Ratio: 19.925<br>Average Length of Employment: 6.506",
          "IA<br>Number of Bad Loans: 3<br>Percentage of all Bad Loans: 0.001%<br>Average Debt-to-Income Ratio: 17.728<br>Average Length of Employment: 3.464",
          "ID<br>Number of Bad Loans: 372<br>Percentage of all Bad Loans: 0.125%<br>Average Debt-to-Income Ratio: 17.263<br>Average Length of Employment: 5.591",
          "IL<br>Number of Bad Loans: 10325<br>Percentage of all Bad Loans: 3.476%<br>Average Debt-to-Income Ratio: 18.301<br>Average Length of Employment: 6.062",
          "IN<br>Number of Bad Loans: 5063<br>Percentage of all Bad Loans: 1.705%<br>Average Debt-to-Income Ratio: 21.043<br>Average Length of Employment: 6.177",
          "KS<br>Number of Bad Loans: 2055<br>Percentage of all Bad Loans: 0.692%<br>Average Debt-to-Income Ratio: 19.43<br>Average Length of Employment: 6.168",
          "KY<br>Number of Bad Loans: 2940<br>Percentage of all Bad Loans: 0.99%<br>Average Debt-to-Income Ratio: 17.349<br>Average Length of Employment: 6.298",
          "LA<br>Number of Bad Loans: 3966<br>Percentage of all Bad Loans: 1.335%<br>Average Debt-to-Income Ratio: 16.837<br>Average Length of Employment: 6.024",
          "MA<br>Number of Bad Loans: 6559<br>Percentage of all Bad Loans: 2.208%<br>Average Debt-to-Income Ratio: 19.717<br>Average Length of Employment: 5.873",
          "MD<br>Number of Bad Loans: 7538<br>Percentage of all Bad Loans: 2.538%<br>Average Debt-to-Income Ratio: 17.825<br>Average Length of Employment: 6.175",
          "ME<br>Number of Bad Loans: 342<br>Percentage of all Bad Loans: 0.115%<br>Average Debt-to-Income Ratio: 20.857<br>Average Length of Employment: 6.091",
          "MI<br>Number of Bad Loans: 7857<br>Percentage of all Bad Loans: 2.645%<br>Average Debt-to-Income Ratio: 20.635<br>Average Length of Employment: 6.311",
          "MN<br>Number of Bad Loans: 5195<br>Percentage of all Bad Loans: 1.749%<br>Average Debt-to-Income Ratio: 21.045<br>Average Length of Employment: 5.897",
          "MO<br>Number of Bad Loans: 4999<br>Percentage of all Bad Loans: 1.683%<br>Average Debt-to-Income Ratio: 15.727<br>Average Length of Employment: 6.119",
          "MS<br>Number of Bad Loans: 1971<br>Percentage of all Bad Loans: 0.664%<br>Average Debt-to-Income Ratio: 19.532<br>Average Length of Employment: 6.442",
          "MT<br>Number of Bad Loans: 705<br>Percentage of all Bad Loans: 0.237%<br>Average Debt-to-Income Ratio: 18.934<br>Average Length of Employment: 5.931",
          "NC<br>Number of Bad Loans: 8642<br>Percentage of all Bad Loans: 2.909%<br>Average Debt-to-Income Ratio: 19.261<br>Average Length of Employment: 5.985",
          "ND<br>Number of Bad Loans: 382<br>Percentage of all Bad Loans: 0.129%<br>Average Debt-to-Income Ratio: 20.262<br>Average Length of Employment: 5.139",
          "NE<br>Number of Bad Loans: 1008<br>Percentage of all Bad Loans: 0.339%<br>Average Debt-to-Income Ratio: 19.95<br>Average Length of Employment: 5.774",
          "NH<br>Number of Bad Loans: 1066<br>Percentage of all Bad Loans: 0.359%<br>Average Debt-to-Income Ratio: 20.964<br>Average Length of Employment: 6.101",
          "NJ<br>Number of Bad Loans: 11317<br>Percentage of all Bad Loans: 3.81%<br>Average Debt-to-Income Ratio: 19.343<br>Average Length of Employment: 6.057",
          "NM<br>Number of Bad Loans: 1726<br>Percentage of all Bad Loans: 0.581%<br>Average Debt-to-Income Ratio: 20.031<br>Average Length of Employment: 6.145",
          "NV<br>Number of Bad Loans: 4796<br>Percentage of all Bad Loans: 1.615%<br>Average Debt-to-Income Ratio: 20.527<br>Average Length of Employment: 5.907",
          "NY<br>Number of Bad Loans: 26918<br>Percentage of all Bad Loans: 9.062%<br>Average Debt-to-Income Ratio: 19.055<br>Average Length of Employment: 6.001",
          "OH<br>Number of Bad Loans: 9779<br>Percentage of all Bad Loans: 3.292%<br>Average Debt-to-Income Ratio: 21.031<br>Average Length of Employment: 6.247",
          "OK<br>Number of Bad Loans: 3150<br>Percentage of all Bad Loans: 1.06%<br>Average Debt-to-Income Ratio: 19.12<br>Average Length of Employment: 5.985",
          "OR<br>Number of Bad Loans: 2634<br>Percentage of all Bad Loans: 0.887%<br>Average Debt-to-Income Ratio: 20.958<br>Average Length of Employment: 5.713",
          "PA<br>Number of Bad Loans: 10447<br>Percentage of all Bad Loans: 3.517%<br>Average Debt-to-Income Ratio: 20.621<br>Average Length of Employment: 6.111",
          "RI<br>Number of Bad Loans: 1164<br>Percentage of all Bad Loans: 0.392%<br>Average Debt-to-Income Ratio: 19.894<br>Average Length of Employment: 6.285",
          "SC<br>Number of Bad Loans: 2938<br>Percentage of all Bad Loans: 0.989%<br>Average Debt-to-Income Ratio: 19.293<br>Average Length of Employment: 6.063",
          "SD<br>Number of Bad Loans: 641<br>Percentage of all Bad Loans: 0.216%<br>Average Debt-to-Income Ratio: 17.234<br>Average Length of Employment: 5.914",
          "TN<br>Number of Bad Loans: 4831<br>Percentage of all Bad Loans: 1.626%<br>Average Debt-to-Income Ratio: 18.811<br>Average Length of Employment: 6.045",
          "TX<br>Number of Bad Loans: 24278<br>Percentage of all Bad Loans: 8.174%<br>Average Debt-to-Income Ratio: 19.569<br>Average Length of Employment: 5.742",
          "UT<br>Number of Bad Loans: 1864<br>Percentage of all Bad Loans: 0.628%<br>Average Debt-to-Income Ratio: 22.258<br>Average Length of Employment: 5.768",
          "VA<br>Number of Bad Loans: 8395<br>Percentage of all Bad Loans: 2.826%<br>Average Debt-to-Income Ratio: 20.563<br>Average Length of Employment: 6.009",
          "VT<br>Number of Bad Loans: 425<br>Percentage of all Bad Loans: 0.143%<br>Average Debt-to-Income Ratio: 19.105<br>Average Length of Employment: 6.264",
          "WA<br>Number of Bad Loans: 5108<br>Percentage of all Bad Loans: 1.72%<br>Average Debt-to-Income Ratio: 18.565<br>Average Length of Employment: 5.84",
          "WI<br>Number of Bad Loans: 3654<br>Percentage of all Bad Loans: 1.23%<br>Average Debt-to-Income Ratio: 20.158<br>Average Length of Employment: 6.182",
          "WV<br>Number of Bad Loans: 823<br>Percentage of all Bad Loans: 0.277%<br>Average Debt-to-Income Ratio: 18.741<br>Average Length of Employment: 6.439",
          "WY<br>Number of Bad Loans: 544<br>Percentage of all Bad Loans: 0.183%<br>Average Debt-to-Income Ratio: 21.204<br>Average Length of Employment: 6.039"
         ],
         "type": "choropleth",
         "z": [
          "0.153",
          "0.188",
          "0.183",
          "0.15",
          "0.155",
          "0.118",
          "0.123",
          "0.108",
          "0.148",
          "0.164",
          "0.137",
          "0.164",
          "0.273",
          "0.095",
          "0.128",
          "0.156",
          "0.12",
          "0.155",
          "0.182",
          "0.145",
          "0.162",
          "0.074",
          "0.154",
          "0.151",
          "0.161",
          "0.185",
          "0.126",
          "0.16",
          "0.119",
          "0.148",
          "0.106",
          "0.158",
          "0.168",
          "0.172",
          "0.169",
          "0.15",
          "0.18",
          "0.109",
          "0.157",
          "0.132",
          "0.117",
          "0.164",
          "0.158",
          "0.15",
          "0.142",
          "0.154",
          "0.094",
          "0.122",
          "0.139",
          "0.109",
          "0.129"
         ]
        }
       ],
       "layout": {
        "geo": {
         "lakecolor": "rgb(255, 255, 255)",
         "projection": {
          "type": "albers usa"
         },
         "scope": "usa",
         "showlakes": true
        },
        "template": {
         "data": {
          "bar": [
           {
            "error_x": {
             "color": "#2a3f5f"
            },
            "error_y": {
             "color": "#2a3f5f"
            },
            "marker": {
             "line": {
              "color": "#E5ECF6",
              "width": 0.5
             }
            },
            "type": "bar"
           }
          ],
          "barpolar": [
           {
            "marker": {
             "line": {
              "color": "#E5ECF6",
              "width": 0.5
             }
            },
            "type": "barpolar"
           }
          ],
          "carpet": [
           {
            "aaxis": {
             "endlinecolor": "#2a3f5f",
             "gridcolor": "white",
             "linecolor": "white",
             "minorgridcolor": "white",
             "startlinecolor": "#2a3f5f"
            },
            "baxis": {
             "endlinecolor": "#2a3f5f",
             "gridcolor": "white",
             "linecolor": "white",
             "minorgridcolor": "white",
             "startlinecolor": "#2a3f5f"
            },
            "type": "carpet"
           }
          ],
          "choropleth": [
           {
            "colorbar": {
             "outlinewidth": 0,
             "ticks": ""
            },
            "type": "choropleth"
           }
          ],
          "contour": [
           {
            "colorbar": {
             "outlinewidth": 0,
             "ticks": ""
            },
            "colorscale": [
             [
              0,
              "#0d0887"
             ],
             [
              0.1111111111111111,
              "#46039f"
             ],
             [
              0.2222222222222222,
              "#7201a8"
             ],
             [
              0.3333333333333333,
              "#9c179e"
             ],
             [
              0.4444444444444444,
              "#bd3786"
             ],
             [
              0.5555555555555556,
              "#d8576b"
             ],
             [
              0.6666666666666666,
              "#ed7953"
             ],
             [
              0.7777777777777778,
              "#fb9f3a"
             ],
             [
              0.8888888888888888,
              "#fdca26"
             ],
             [
              1,
              "#f0f921"
             ]
            ],
            "type": "contour"
           }
          ],
          "contourcarpet": [
           {
            "colorbar": {
             "outlinewidth": 0,
             "ticks": ""
            },
            "type": "contourcarpet"
           }
          ],
          "heatmap": [
           {
            "colorbar": {
             "outlinewidth": 0,
             "ticks": ""
            },
            "colorscale": [
             [
              0,
              "#0d0887"
             ],
             [
              0.1111111111111111,
              "#46039f"
             ],
             [
              0.2222222222222222,
              "#7201a8"
             ],
             [
              0.3333333333333333,
              "#9c179e"
             ],
             [
              0.4444444444444444,
              "#bd3786"
             ],
             [
              0.5555555555555556,
              "#d8576b"
             ],
             [
              0.6666666666666666,
              "#ed7953"
             ],
             [
              0.7777777777777778,
              "#fb9f3a"
             ],
             [
              0.8888888888888888,
              "#fdca26"
             ],
             [
              1,
              "#f0f921"
             ]
            ],
            "type": "heatmap"
           }
          ],
          "heatmapgl": [
           {
            "colorbar": {
             "outlinewidth": 0,
             "ticks": ""
            },
            "colorscale": [
             [
              0,
              "#0d0887"
             ],
             [
              0.1111111111111111,
              "#46039f"
             ],
             [
              0.2222222222222222,
              "#7201a8"
             ],
             [
              0.3333333333333333,
              "#9c179e"
             ],
             [
              0.4444444444444444,
              "#bd3786"
             ],
             [
              0.5555555555555556,
              "#d8576b"
             ],
             [
              0.6666666666666666,
              "#ed7953"
             ],
             [
              0.7777777777777778,
              "#fb9f3a"
             ],
             [
              0.8888888888888888,
              "#fdca26"
             ],
             [
              1,
              "#f0f921"
             ]
            ],
            "type": "heatmapgl"
           }
          ],
          "histogram": [
           {
            "marker": {
             "colorbar": {
              "outlinewidth": 0,
              "ticks": ""
             }
            },
            "type": "histogram"
           }
          ],
          "histogram2d": [
           {
            "colorbar": {
             "outlinewidth": 0,
             "ticks": ""
            },
            "colorscale": [
             [
              0,
              "#0d0887"
             ],
             [
              0.1111111111111111,
              "#46039f"
             ],
             [
              0.2222222222222222,
              "#7201a8"
             ],
             [
              0.3333333333333333,
              "#9c179e"
             ],
             [
              0.4444444444444444,
              "#bd3786"
             ],
             [
              0.5555555555555556,
              "#d8576b"
             ],
             [
              0.6666666666666666,
              "#ed7953"
             ],
             [
              0.7777777777777778,
              "#fb9f3a"
             ],
             [
              0.8888888888888888,
              "#fdca26"
             ],
             [
              1,
              "#f0f921"
             ]
            ],
            "type": "histogram2d"
           }
          ],
          "histogram2dcontour": [
           {
            "colorbar": {
             "outlinewidth": 0,
             "ticks": ""
            },
            "colorscale": [
             [
              0,
              "#0d0887"
             ],
             [
              0.1111111111111111,
              "#46039f"
             ],
             [
              0.2222222222222222,
              "#7201a8"
             ],
             [
              0.3333333333333333,
              "#9c179e"
             ],
             [
              0.4444444444444444,
              "#bd3786"
             ],
             [
              0.5555555555555556,
              "#d8576b"
             ],
             [
              0.6666666666666666,
              "#ed7953"
             ],
             [
              0.7777777777777778,
              "#fb9f3a"
             ],
             [
              0.8888888888888888,
              "#fdca26"
             ],
             [
              1,
              "#f0f921"
             ]
            ],
            "type": "histogram2dcontour"
           }
          ],
          "mesh3d": [
           {
            "colorbar": {
             "outlinewidth": 0,
             "ticks": ""
            },
            "type": "mesh3d"
           }
          ],
          "parcoords": [
           {
            "line": {
             "colorbar": {
              "outlinewidth": 0,
              "ticks": ""
             }
            },
            "type": "parcoords"
           }
          ],
          "scatter": [
           {
            "marker": {
             "colorbar": {
              "outlinewidth": 0,
              "ticks": ""
             }
            },
            "type": "scatter"
           }
          ],
          "scatter3d": [
           {
            "line": {
             "colorbar": {
              "outlinewidth": 0,
              "ticks": ""
             }
            },
            "marker": {
             "colorbar": {
              "outlinewidth": 0,
              "ticks": ""
             }
            },
            "type": "scatter3d"
           }
          ],
          "scattercarpet": [
           {
            "marker": {
             "colorbar": {
              "outlinewidth": 0,
              "ticks": ""
             }
            },
            "type": "scattercarpet"
           }
          ],
          "scattergeo": [
           {
            "marker": {
             "colorbar": {
              "outlinewidth": 0,
              "ticks": ""
             }
            },
            "type": "scattergeo"
           }
          ],
          "scattergl": [
           {
            "marker": {
             "colorbar": {
              "outlinewidth": 0,
              "ticks": ""
             }
            },
            "type": "scattergl"
           }
          ],
          "scattermapbox": [
           {
            "marker": {
             "colorbar": {
              "outlinewidth": 0,
              "ticks": ""
             }
            },
            "type": "scattermapbox"
           }
          ],
          "scatterpolar": [
           {
            "marker": {
             "colorbar": {
              "outlinewidth": 0,
              "ticks": ""
             }
            },
            "type": "scatterpolar"
           }
          ],
          "scatterpolargl": [
           {
            "marker": {
             "colorbar": {
              "outlinewidth": 0,
              "ticks": ""
             }
            },
            "type": "scatterpolargl"
           }
          ],
          "scatterternary": [
           {
            "marker": {
             "colorbar": {
              "outlinewidth": 0,
              "ticks": ""
             }
            },
            "type": "scatterternary"
           }
          ],
          "surface": [
           {
            "colorbar": {
             "outlinewidth": 0,
             "ticks": ""
            },
            "colorscale": [
             [
              0,
              "#0d0887"
             ],
             [
              0.1111111111111111,
              "#46039f"
             ],
             [
              0.2222222222222222,
              "#7201a8"
             ],
             [
              0.3333333333333333,
              "#9c179e"
             ],
             [
              0.4444444444444444,
              "#bd3786"
             ],
             [
              0.5555555555555556,
              "#d8576b"
             ],
             [
              0.6666666666666666,
              "#ed7953"
             ],
             [
              0.7777777777777778,
              "#fb9f3a"
             ],
             [
              0.8888888888888888,
              "#fdca26"
             ],
             [
              1,
              "#f0f921"
             ]
            ],
            "type": "surface"
           }
          ],
          "table": [
           {
            "cells": {
             "fill": {
              "color": "#EBF0F8"
             },
             "line": {
              "color": "white"
             }
            },
            "header": {
             "fill": {
              "color": "#C8D4E3"
             },
             "line": {
              "color": "white"
             }
            },
            "type": "table"
           }
          ]
         },
         "layout": {
          "annotationdefaults": {
           "arrowcolor": "#2a3f5f",
           "arrowhead": 0,
           "arrowwidth": 1
          },
          "colorscale": {
           "diverging": [
            [
             0,
             "#8e0152"
            ],
            [
             0.1,
             "#c51b7d"
            ],
            [
             0.2,
             "#de77ae"
            ],
            [
             0.3,
             "#f1b6da"
            ],
            [
             0.4,
             "#fde0ef"
            ],
            [
             0.5,
             "#f7f7f7"
            ],
            [
             0.6,
             "#e6f5d0"
            ],
            [
             0.7,
             "#b8e186"
            ],
            [
             0.8,
             "#7fbc41"
            ],
            [
             0.9,
             "#4d9221"
            ],
            [
             1,
             "#276419"
            ]
           ],
           "sequential": [
            [
             0,
             "#0d0887"
            ],
            [
             0.1111111111111111,
             "#46039f"
            ],
            [
             0.2222222222222222,
             "#7201a8"
            ],
            [
             0.3333333333333333,
             "#9c179e"
            ],
            [
             0.4444444444444444,
             "#bd3786"
            ],
            [
             0.5555555555555556,
             "#d8576b"
            ],
            [
             0.6666666666666666,
             "#ed7953"
            ],
            [
             0.7777777777777778,
             "#fb9f3a"
            ],
            [
             0.8888888888888888,
             "#fdca26"
            ],
            [
             1,
             "#f0f921"
            ]
           ],
           "sequentialminus": [
            [
             0,
             "#0d0887"
            ],
            [
             0.1111111111111111,
             "#46039f"
            ],
            [
             0.2222222222222222,
             "#7201a8"
            ],
            [
             0.3333333333333333,
             "#9c179e"
            ],
            [
             0.4444444444444444,
             "#bd3786"
            ],
            [
             0.5555555555555556,
             "#d8576b"
            ],
            [
             0.6666666666666666,
             "#ed7953"
            ],
            [
             0.7777777777777778,
             "#fb9f3a"
            ],
            [
             0.8888888888888888,
             "#fdca26"
            ],
            [
             1,
             "#f0f921"
            ]
           ]
          },
          "colorway": [
           "#636efa",
           "#EF553B",
           "#00cc96",
           "#ab63fa",
           "#FFA15A",
           "#19d3f3",
           "#FF6692",
           "#B6E880",
           "#FF97FF",
           "#FECB52"
          ],
          "font": {
           "color": "#2a3f5f"
          },
          "geo": {
           "bgcolor": "white",
           "lakecolor": "white",
           "landcolor": "#E5ECF6",
           "showlakes": true,
           "showland": true,
           "subunitcolor": "white"
          },
          "hoverlabel": {
           "align": "left"
          },
          "hovermode": "closest",
          "mapbox": {
           "style": "light"
          },
          "paper_bgcolor": "white",
          "plot_bgcolor": "#E5ECF6",
          "polar": {
           "angularaxis": {
            "gridcolor": "white",
            "linecolor": "white",
            "ticks": ""
           },
           "bgcolor": "#E5ECF6",
           "radialaxis": {
            "gridcolor": "white",
            "linecolor": "white",
            "ticks": ""
           }
          },
          "scene": {
           "xaxis": {
            "backgroundcolor": "#E5ECF6",
            "gridcolor": "white",
            "gridwidth": 2,
            "linecolor": "white",
            "showbackground": true,
            "ticks": "",
            "zerolinecolor": "white"
           },
           "yaxis": {
            "backgroundcolor": "#E5ECF6",
            "gridcolor": "white",
            "gridwidth": 2,
            "linecolor": "white",
            "showbackground": true,
            "ticks": "",
            "zerolinecolor": "white"
           },
           "zaxis": {
            "backgroundcolor": "#E5ECF6",
            "gridcolor": "white",
            "gridwidth": 2,
            "linecolor": "white",
            "showbackground": true,
            "ticks": "",
            "zerolinecolor": "white"
           }
          },
          "shapedefaults": {
           "line": {
            "color": "#2a3f5f"
           }
          },
          "ternary": {
           "aaxis": {
            "gridcolor": "white",
            "linecolor": "white",
            "ticks": ""
           },
           "baxis": {
            "gridcolor": "white",
            "linecolor": "white",
            "ticks": ""
           },
           "bgcolor": "#E5ECF6",
           "caxis": {
            "gridcolor": "white",
            "linecolor": "white",
            "ticks": ""
           }
          },
          "title": {
           "x": 0.05
          },
          "xaxis": {
           "automargin": true,
           "gridcolor": "white",
           "linecolor": "white",
           "ticks": "",
           "zerolinecolor": "white",
           "zerolinewidth": 2
          },
          "yaxis": {
           "automargin": true,
           "gridcolor": "white",
           "linecolor": "white",
           "ticks": "",
           "zerolinecolor": "white",
           "zerolinewidth": 2
          }
         }
        },
        "title": {
         "text": "Lending Clubs Default Rates <br> (Analyzing Risks)"
        }
       }
      },
      "text/html": [
       "<div>\n",
       "        \n",
       "        \n",
       "            <div id=\"1c56016b-1459-4a09-a079-530955db6bb4\" class=\"plotly-graph-div\" style=\"height:525px; width:100%;\"></div>\n",
       "            <script type=\"text/javascript\">\n",
       "                require([\"plotly\"], function(Plotly) {\n",
       "                    window.PLOTLYENV=window.PLOTLYENV || {};\n",
       "                    \n",
       "                if (document.getElementById(\"1c56016b-1459-4a09-a079-530955db6bb4\")) {\n",
       "                    Plotly.newPlot(\n",
       "                        '1c56016b-1459-4a09-a079-530955db6bb4',\n",
       "                        [{\"autocolorscale\": false, \"colorbar\": {\"title\": {\"text\": \"%\"}}, \"colorscale\": [[0.0, \"rgb(202, 202, 202)\"], [0.2, \"rgb(253, 205, 200)\"], [0.4, \"rgb(252, 169, 161)\"], [0.6, \"rgb(247, 121, 108  )\"], [0.8, \"rgb(232, 70, 54)\"], [1.0, \"rgb(212, 31, 13)\"]], \"locationmode\": \"USA-states\", \"locations\": [\"AK\", \"AL\", \"AR\", \"AZ\", \"CA\", \"CO\", \"CT\", \"DC\", \"DE\", \"FL\", \"GA\", \"HI\", \"IA\", \"ID\", \"IL\", \"IN\", \"KS\", \"KY\", \"LA\", \"MA\", \"MD\", \"ME\", \"MI\", \"MN\", \"MO\", \"MS\", \"MT\", \"NC\", \"ND\", \"NE\", \"NH\", \"NJ\", \"NM\", \"NV\", \"NY\", \"OH\", \"OK\", \"OR\", \"PA\", \"RI\", \"SC\", \"SD\", \"TN\", \"TX\", \"UT\", \"VA\", \"VT\", \"WA\", \"WI\", \"WV\", \"WY\"], \"marker\": {\"line\": {\"color\": \"rgb(255,255,255)\", \"width\": 2}}, \"text\": [\"AK<br>Number of Bad Loans: 696<br>Percentage of all Bad Loans: 0.234%<br>Average Debt-to-Income Ratio: 13.656<br>Average Length of Employment: 6.136\", \"AL<br>Number of Bad Loans: 4308<br>Percentage of all Bad Loans: 1.45%<br>Average Debt-to-Income Ratio: 18.739<br>Average Length of Employment: 6.463\", \"AR<br>Number of Bad Loans: 2642<br>Percentage of all Bad Loans: 0.889%<br>Average Debt-to-Income Ratio: 20.327<br>Average Length of Employment: 6.254\", \"AZ<br>Number of Bad Loans: 7028<br>Percentage of all Bad Loans: 2.366%<br>Average Debt-to-Income Ratio: 20.414<br>Average Length of Employment: 5.68\", \"CA<br>Number of Bad Loans: 42319<br>Percentage of all Bad Loans: 14.247%<br>Average Debt-to-Income Ratio: 19.24<br>Average Length of Employment: 5.947\", \"CO<br>Number of Bad Loans: 5075<br>Percentage of all Bad Loans: 1.709%<br>Average Debt-to-Income Ratio: 19.205<br>Average Length of Employment: 5.389\", \"CT<br>Number of Bad Loans: 3917<br>Percentage of all Bad Loans: 1.319%<br>Average Debt-to-Income Ratio: 20.083<br>Average Length of Employment: 6.185\", \"DC<br>Number of Bad Loans: 524<br>Percentage of all Bad Loans: 0.176%<br>Average Debt-to-Income Ratio: 21.424<br>Average Length of Employment: 4.841\", \"DE<br>Number of Bad Loans: 833<br>Percentage of all Bad Loans: 0.28%<br>Average Debt-to-Income Ratio: 20.614<br>Average Length of Employment: 6.29\", \"FL<br>Number of Bad Loans: 22842<br>Percentage of all Bad Loans: 7.69%<br>Average Debt-to-Income Ratio: 20.25<br>Average Length of Employment: 5.765\", \"GA<br>Number of Bad Loans: 8923<br>Percentage of all Bad Loans: 3.004%<br>Average Debt-to-Income Ratio: 21.567<br>Average Length of Employment: 6.002\", \"HI<br>Number of Bad Loans: 1506<br>Percentage of all Bad Loans: 0.507%<br>Average Debt-to-Income Ratio: 19.925<br>Average Length of Employment: 6.506\", \"IA<br>Number of Bad Loans: 3<br>Percentage of all Bad Loans: 0.001%<br>Average Debt-to-Income Ratio: 17.728<br>Average Length of Employment: 3.464\", \"ID<br>Number of Bad Loans: 372<br>Percentage of all Bad Loans: 0.125%<br>Average Debt-to-Income Ratio: 17.263<br>Average Length of Employment: 5.591\", \"IL<br>Number of Bad Loans: 10325<br>Percentage of all Bad Loans: 3.476%<br>Average Debt-to-Income Ratio: 18.301<br>Average Length of Employment: 6.062\", \"IN<br>Number of Bad Loans: 5063<br>Percentage of all Bad Loans: 1.705%<br>Average Debt-to-Income Ratio: 21.043<br>Average Length of Employment: 6.177\", \"KS<br>Number of Bad Loans: 2055<br>Percentage of all Bad Loans: 0.692%<br>Average Debt-to-Income Ratio: 19.43<br>Average Length of Employment: 6.168\", \"KY<br>Number of Bad Loans: 2940<br>Percentage of all Bad Loans: 0.99%<br>Average Debt-to-Income Ratio: 17.349<br>Average Length of Employment: 6.298\", \"LA<br>Number of Bad Loans: 3966<br>Percentage of all Bad Loans: 1.335%<br>Average Debt-to-Income Ratio: 16.837<br>Average Length of Employment: 6.024\", \"MA<br>Number of Bad Loans: 6559<br>Percentage of all Bad Loans: 2.208%<br>Average Debt-to-Income Ratio: 19.717<br>Average Length of Employment: 5.873\", \"MD<br>Number of Bad Loans: 7538<br>Percentage of all Bad Loans: 2.538%<br>Average Debt-to-Income Ratio: 17.825<br>Average Length of Employment: 6.175\", \"ME<br>Number of Bad Loans: 342<br>Percentage of all Bad Loans: 0.115%<br>Average Debt-to-Income Ratio: 20.857<br>Average Length of Employment: 6.091\", \"MI<br>Number of Bad Loans: 7857<br>Percentage of all Bad Loans: 2.645%<br>Average Debt-to-Income Ratio: 20.635<br>Average Length of Employment: 6.311\", \"MN<br>Number of Bad Loans: 5195<br>Percentage of all Bad Loans: 1.749%<br>Average Debt-to-Income Ratio: 21.045<br>Average Length of Employment: 5.897\", \"MO<br>Number of Bad Loans: 4999<br>Percentage of all Bad Loans: 1.683%<br>Average Debt-to-Income Ratio: 15.727<br>Average Length of Employment: 6.119\", \"MS<br>Number of Bad Loans: 1971<br>Percentage of all Bad Loans: 0.664%<br>Average Debt-to-Income Ratio: 19.532<br>Average Length of Employment: 6.442\", \"MT<br>Number of Bad Loans: 705<br>Percentage of all Bad Loans: 0.237%<br>Average Debt-to-Income Ratio: 18.934<br>Average Length of Employment: 5.931\", \"NC<br>Number of Bad Loans: 8642<br>Percentage of all Bad Loans: 2.909%<br>Average Debt-to-Income Ratio: 19.261<br>Average Length of Employment: 5.985\", \"ND<br>Number of Bad Loans: 382<br>Percentage of all Bad Loans: 0.129%<br>Average Debt-to-Income Ratio: 20.262<br>Average Length of Employment: 5.139\", \"NE<br>Number of Bad Loans: 1008<br>Percentage of all Bad Loans: 0.339%<br>Average Debt-to-Income Ratio: 19.95<br>Average Length of Employment: 5.774\", \"NH<br>Number of Bad Loans: 1066<br>Percentage of all Bad Loans: 0.359%<br>Average Debt-to-Income Ratio: 20.964<br>Average Length of Employment: 6.101\", \"NJ<br>Number of Bad Loans: 11317<br>Percentage of all Bad Loans: 3.81%<br>Average Debt-to-Income Ratio: 19.343<br>Average Length of Employment: 6.057\", \"NM<br>Number of Bad Loans: 1726<br>Percentage of all Bad Loans: 0.581%<br>Average Debt-to-Income Ratio: 20.031<br>Average Length of Employment: 6.145\", \"NV<br>Number of Bad Loans: 4796<br>Percentage of all Bad Loans: 1.615%<br>Average Debt-to-Income Ratio: 20.527<br>Average Length of Employment: 5.907\", \"NY<br>Number of Bad Loans: 26918<br>Percentage of all Bad Loans: 9.062%<br>Average Debt-to-Income Ratio: 19.055<br>Average Length of Employment: 6.001\", \"OH<br>Number of Bad Loans: 9779<br>Percentage of all Bad Loans: 3.292%<br>Average Debt-to-Income Ratio: 21.031<br>Average Length of Employment: 6.247\", \"OK<br>Number of Bad Loans: 3150<br>Percentage of all Bad Loans: 1.06%<br>Average Debt-to-Income Ratio: 19.12<br>Average Length of Employment: 5.985\", \"OR<br>Number of Bad Loans: 2634<br>Percentage of all Bad Loans: 0.887%<br>Average Debt-to-Income Ratio: 20.958<br>Average Length of Employment: 5.713\", \"PA<br>Number of Bad Loans: 10447<br>Percentage of all Bad Loans: 3.517%<br>Average Debt-to-Income Ratio: 20.621<br>Average Length of Employment: 6.111\", \"RI<br>Number of Bad Loans: 1164<br>Percentage of all Bad Loans: 0.392%<br>Average Debt-to-Income Ratio: 19.894<br>Average Length of Employment: 6.285\", \"SC<br>Number of Bad Loans: 2938<br>Percentage of all Bad Loans: 0.989%<br>Average Debt-to-Income Ratio: 19.293<br>Average Length of Employment: 6.063\", \"SD<br>Number of Bad Loans: 641<br>Percentage of all Bad Loans: 0.216%<br>Average Debt-to-Income Ratio: 17.234<br>Average Length of Employment: 5.914\", \"TN<br>Number of Bad Loans: 4831<br>Percentage of all Bad Loans: 1.626%<br>Average Debt-to-Income Ratio: 18.811<br>Average Length of Employment: 6.045\", \"TX<br>Number of Bad Loans: 24278<br>Percentage of all Bad Loans: 8.174%<br>Average Debt-to-Income Ratio: 19.569<br>Average Length of Employment: 5.742\", \"UT<br>Number of Bad Loans: 1864<br>Percentage of all Bad Loans: 0.628%<br>Average Debt-to-Income Ratio: 22.258<br>Average Length of Employment: 5.768\", \"VA<br>Number of Bad Loans: 8395<br>Percentage of all Bad Loans: 2.826%<br>Average Debt-to-Income Ratio: 20.563<br>Average Length of Employment: 6.009\", \"VT<br>Number of Bad Loans: 425<br>Percentage of all Bad Loans: 0.143%<br>Average Debt-to-Income Ratio: 19.105<br>Average Length of Employment: 6.264\", \"WA<br>Number of Bad Loans: 5108<br>Percentage of all Bad Loans: 1.72%<br>Average Debt-to-Income Ratio: 18.565<br>Average Length of Employment: 5.84\", \"WI<br>Number of Bad Loans: 3654<br>Percentage of all Bad Loans: 1.23%<br>Average Debt-to-Income Ratio: 20.158<br>Average Length of Employment: 6.182\", \"WV<br>Number of Bad Loans: 823<br>Percentage of all Bad Loans: 0.277%<br>Average Debt-to-Income Ratio: 18.741<br>Average Length of Employment: 6.439\", \"WY<br>Number of Bad Loans: 544<br>Percentage of all Bad Loans: 0.183%<br>Average Debt-to-Income Ratio: 21.204<br>Average Length of Employment: 6.039\"], \"type\": \"choropleth\", \"z\": [\"0.153\", \"0.188\", \"0.183\", \"0.15\", \"0.155\", \"0.118\", \"0.123\", \"0.108\", \"0.148\", \"0.164\", \"0.137\", \"0.164\", \"0.273\", \"0.095\", \"0.128\", \"0.156\", \"0.12\", \"0.155\", \"0.182\", \"0.145\", \"0.162\", \"0.074\", \"0.154\", \"0.151\", \"0.161\", \"0.185\", \"0.126\", \"0.16\", \"0.119\", \"0.148\", \"0.106\", \"0.158\", \"0.168\", \"0.172\", \"0.169\", \"0.15\", \"0.18\", \"0.109\", \"0.157\", \"0.132\", \"0.117\", \"0.164\", \"0.158\", \"0.15\", \"0.142\", \"0.154\", \"0.094\", \"0.122\", \"0.139\", \"0.109\", \"0.129\"]}],\n",
       "                        {\"geo\": {\"lakecolor\": \"rgb(255, 255, 255)\", \"projection\": {\"type\": \"albers usa\"}, \"scope\": \"usa\", \"showlakes\": true}, \"template\": {\"data\": {\"bar\": [{\"error_x\": {\"color\": \"#2a3f5f\"}, \"error_y\": {\"color\": \"#2a3f5f\"}, \"marker\": {\"line\": {\"color\": \"#E5ECF6\", \"width\": 0.5}}, \"type\": \"bar\"}], \"barpolar\": [{\"marker\": {\"line\": {\"color\": \"#E5ECF6\", \"width\": 0.5}}, \"type\": \"barpolar\"}], \"carpet\": [{\"aaxis\": {\"endlinecolor\": \"#2a3f5f\", \"gridcolor\": \"white\", \"linecolor\": \"white\", \"minorgridcolor\": \"white\", \"startlinecolor\": \"#2a3f5f\"}, \"baxis\": {\"endlinecolor\": \"#2a3f5f\", \"gridcolor\": \"white\", \"linecolor\": \"white\", \"minorgridcolor\": \"white\", \"startlinecolor\": \"#2a3f5f\"}, \"type\": \"carpet\"}], \"choropleth\": [{\"colorbar\": {\"outlinewidth\": 0, \"ticks\": \"\"}, \"type\": \"choropleth\"}], \"contour\": [{\"colorbar\": {\"outlinewidth\": 0, \"ticks\": \"\"}, \"colorscale\": [[0.0, \"#0d0887\"], [0.1111111111111111, \"#46039f\"], [0.2222222222222222, \"#7201a8\"], [0.3333333333333333, \"#9c179e\"], [0.4444444444444444, \"#bd3786\"], [0.5555555555555556, \"#d8576b\"], [0.6666666666666666, \"#ed7953\"], [0.7777777777777778, \"#fb9f3a\"], [0.8888888888888888, \"#fdca26\"], [1.0, \"#f0f921\"]], \"type\": \"contour\"}], \"contourcarpet\": [{\"colorbar\": {\"outlinewidth\": 0, \"ticks\": \"\"}, \"type\": \"contourcarpet\"}], \"heatmap\": [{\"colorbar\": {\"outlinewidth\": 0, \"ticks\": \"\"}, \"colorscale\": [[0.0, \"#0d0887\"], [0.1111111111111111, \"#46039f\"], [0.2222222222222222, \"#7201a8\"], [0.3333333333333333, \"#9c179e\"], [0.4444444444444444, \"#bd3786\"], [0.5555555555555556, \"#d8576b\"], [0.6666666666666666, \"#ed7953\"], [0.7777777777777778, \"#fb9f3a\"], [0.8888888888888888, \"#fdca26\"], [1.0, \"#f0f921\"]], \"type\": \"heatmap\"}], \"heatmapgl\": [{\"colorbar\": {\"outlinewidth\": 0, \"ticks\": \"\"}, \"colorscale\": [[0.0, \"#0d0887\"], [0.1111111111111111, \"#46039f\"], [0.2222222222222222, \"#7201a8\"], [0.3333333333333333, \"#9c179e\"], [0.4444444444444444, \"#bd3786\"], [0.5555555555555556, \"#d8576b\"], [0.6666666666666666, \"#ed7953\"], [0.7777777777777778, \"#fb9f3a\"], [0.8888888888888888, \"#fdca26\"], [1.0, \"#f0f921\"]], \"type\": \"heatmapgl\"}], \"histogram\": [{\"marker\": {\"colorbar\": {\"outlinewidth\": 0, \"ticks\": \"\"}}, \"type\": \"histogram\"}], \"histogram2d\": [{\"colorbar\": {\"outlinewidth\": 0, \"ticks\": \"\"}, \"colorscale\": [[0.0, \"#0d0887\"], [0.1111111111111111, \"#46039f\"], [0.2222222222222222, \"#7201a8\"], [0.3333333333333333, \"#9c179e\"], [0.4444444444444444, \"#bd3786\"], [0.5555555555555556, \"#d8576b\"], [0.6666666666666666, \"#ed7953\"], [0.7777777777777778, \"#fb9f3a\"], [0.8888888888888888, \"#fdca26\"], [1.0, \"#f0f921\"]], \"type\": \"histogram2d\"}], \"histogram2dcontour\": [{\"colorbar\": {\"outlinewidth\": 0, \"ticks\": \"\"}, \"colorscale\": [[0.0, \"#0d0887\"], [0.1111111111111111, \"#46039f\"], [0.2222222222222222, \"#7201a8\"], [0.3333333333333333, \"#9c179e\"], [0.4444444444444444, \"#bd3786\"], [0.5555555555555556, \"#d8576b\"], [0.6666666666666666, \"#ed7953\"], [0.7777777777777778, \"#fb9f3a\"], [0.8888888888888888, \"#fdca26\"], [1.0, \"#f0f921\"]], \"type\": \"histogram2dcontour\"}], \"mesh3d\": [{\"colorbar\": {\"outlinewidth\": 0, \"ticks\": \"\"}, \"type\": \"mesh3d\"}], \"parcoords\": [{\"line\": {\"colorbar\": {\"outlinewidth\": 0, \"ticks\": \"\"}}, \"type\": \"parcoords\"}], \"scatter\": [{\"marker\": {\"colorbar\": {\"outlinewidth\": 0, \"ticks\": \"\"}}, \"type\": \"scatter\"}], \"scatter3d\": [{\"line\": {\"colorbar\": {\"outlinewidth\": 0, \"ticks\": \"\"}}, \"marker\": {\"colorbar\": {\"outlinewidth\": 0, \"ticks\": \"\"}}, \"type\": \"scatter3d\"}], \"scattercarpet\": [{\"marker\": {\"colorbar\": {\"outlinewidth\": 0, \"ticks\": \"\"}}, \"type\": \"scattercarpet\"}], \"scattergeo\": [{\"marker\": {\"colorbar\": {\"outlinewidth\": 0, \"ticks\": \"\"}}, \"type\": \"scattergeo\"}], \"scattergl\": [{\"marker\": {\"colorbar\": {\"outlinewidth\": 0, \"ticks\": \"\"}}, \"type\": \"scattergl\"}], \"scattermapbox\": [{\"marker\": {\"colorbar\": {\"outlinewidth\": 0, \"ticks\": \"\"}}, \"type\": \"scattermapbox\"}], \"scatterpolar\": [{\"marker\": {\"colorbar\": {\"outlinewidth\": 0, \"ticks\": \"\"}}, \"type\": \"scatterpolar\"}], \"scatterpolargl\": [{\"marker\": {\"colorbar\": {\"outlinewidth\": 0, \"ticks\": \"\"}}, \"type\": \"scatterpolargl\"}], \"scatterternary\": [{\"marker\": {\"colorbar\": {\"outlinewidth\": 0, \"ticks\": \"\"}}, \"type\": \"scatterternary\"}], \"surface\": [{\"colorbar\": {\"outlinewidth\": 0, \"ticks\": \"\"}, \"colorscale\": [[0.0, \"#0d0887\"], [0.1111111111111111, \"#46039f\"], [0.2222222222222222, \"#7201a8\"], [0.3333333333333333, \"#9c179e\"], [0.4444444444444444, \"#bd3786\"], [0.5555555555555556, \"#d8576b\"], [0.6666666666666666, \"#ed7953\"], [0.7777777777777778, \"#fb9f3a\"], [0.8888888888888888, \"#fdca26\"], [1.0, \"#f0f921\"]], \"type\": \"surface\"}], \"table\": [{\"cells\": {\"fill\": {\"color\": \"#EBF0F8\"}, \"line\": {\"color\": \"white\"}}, \"header\": {\"fill\": {\"color\": \"#C8D4E3\"}, \"line\": {\"color\": \"white\"}}, \"type\": \"table\"}]}, \"layout\": {\"annotationdefaults\": {\"arrowcolor\": \"#2a3f5f\", \"arrowhead\": 0, \"arrowwidth\": 1}, \"colorscale\": {\"diverging\": [[0, \"#8e0152\"], [0.1, \"#c51b7d\"], [0.2, \"#de77ae\"], [0.3, \"#f1b6da\"], [0.4, \"#fde0ef\"], [0.5, \"#f7f7f7\"], [0.6, \"#e6f5d0\"], [0.7, \"#b8e186\"], [0.8, \"#7fbc41\"], [0.9, \"#4d9221\"], [1, \"#276419\"]], \"sequential\": [[0.0, \"#0d0887\"], [0.1111111111111111, \"#46039f\"], [0.2222222222222222, \"#7201a8\"], [0.3333333333333333, \"#9c179e\"], [0.4444444444444444, \"#bd3786\"], [0.5555555555555556, \"#d8576b\"], [0.6666666666666666, \"#ed7953\"], [0.7777777777777778, \"#fb9f3a\"], [0.8888888888888888, \"#fdca26\"], [1.0, \"#f0f921\"]], \"sequentialminus\": [[0.0, \"#0d0887\"], [0.1111111111111111, \"#46039f\"], [0.2222222222222222, \"#7201a8\"], [0.3333333333333333, \"#9c179e\"], [0.4444444444444444, \"#bd3786\"], [0.5555555555555556, \"#d8576b\"], [0.6666666666666666, \"#ed7953\"], [0.7777777777777778, \"#fb9f3a\"], [0.8888888888888888, \"#fdca26\"], [1.0, \"#f0f921\"]]}, \"colorway\": [\"#636efa\", \"#EF553B\", \"#00cc96\", \"#ab63fa\", \"#FFA15A\", \"#19d3f3\", \"#FF6692\", \"#B6E880\", \"#FF97FF\", \"#FECB52\"], \"font\": {\"color\": \"#2a3f5f\"}, \"geo\": {\"bgcolor\": \"white\", \"lakecolor\": \"white\", \"landcolor\": \"#E5ECF6\", \"showlakes\": true, \"showland\": true, \"subunitcolor\": \"white\"}, \"hoverlabel\": {\"align\": \"left\"}, \"hovermode\": \"closest\", \"mapbox\": {\"style\": \"light\"}, \"paper_bgcolor\": \"white\", \"plot_bgcolor\": \"#E5ECF6\", \"polar\": {\"angularaxis\": {\"gridcolor\": \"white\", \"linecolor\": \"white\", \"ticks\": \"\"}, \"bgcolor\": \"#E5ECF6\", \"radialaxis\": {\"gridcolor\": \"white\", \"linecolor\": \"white\", \"ticks\": \"\"}}, \"scene\": {\"xaxis\": {\"backgroundcolor\": \"#E5ECF6\", \"gridcolor\": \"white\", \"gridwidth\": 2, \"linecolor\": \"white\", \"showbackground\": true, \"ticks\": \"\", \"zerolinecolor\": \"white\"}, \"yaxis\": {\"backgroundcolor\": \"#E5ECF6\", \"gridcolor\": \"white\", \"gridwidth\": 2, \"linecolor\": \"white\", \"showbackground\": true, \"ticks\": \"\", \"zerolinecolor\": \"white\"}, \"zaxis\": {\"backgroundcolor\": \"#E5ECF6\", \"gridcolor\": \"white\", \"gridwidth\": 2, \"linecolor\": \"white\", \"showbackground\": true, \"ticks\": \"\", \"zerolinecolor\": \"white\"}}, \"shapedefaults\": {\"line\": {\"color\": \"#2a3f5f\"}}, \"ternary\": {\"aaxis\": {\"gridcolor\": \"white\", \"linecolor\": \"white\", \"ticks\": \"\"}, \"baxis\": {\"gridcolor\": \"white\", \"linecolor\": \"white\", \"ticks\": \"\"}, \"bgcolor\": \"#E5ECF6\", \"caxis\": {\"gridcolor\": \"white\", \"linecolor\": \"white\", \"ticks\": \"\"}}, \"title\": {\"x\": 0.05}, \"xaxis\": {\"automargin\": true, \"gridcolor\": \"white\", \"linecolor\": \"white\", \"ticks\": \"\", \"zerolinecolor\": \"white\", \"zerolinewidth\": 2}, \"yaxis\": {\"automargin\": true, \"gridcolor\": \"white\", \"linecolor\": \"white\", \"ticks\": \"\", \"zerolinecolor\": \"white\", \"zerolinewidth\": 2}}}, \"title\": {\"text\": \"Lending Clubs Default Rates <br> (Analyzing Risks)\"}},\n",
       "                        {\"responsive\": true}\n",
       "                    ).then(function(){\n",
       "                            \n",
       "var gd = document.getElementById('1c56016b-1459-4a09-a079-530955db6bb4');\n",
       "var x = new MutationObserver(function (mutations, observer) {{\n",
       "        var display = window.getComputedStyle(gd).display;\n",
       "        if (!display || display === 'none') {{\n",
       "            console.log([gd, 'removed!']);\n",
       "            Plotly.purge(gd);\n",
       "            observer.disconnect();\n",
       "        }}\n",
       "}});\n",
       "\n",
       "// Listen for the removal of the full notebook cells\n",
       "var notebookContainer = gd.closest('#notebook-container');\n",
       "if (notebookContainer) {{\n",
       "    x.observe(notebookContainer, {childList: true});\n",
       "}}\n",
       "\n",
       "// Listen for the clearing of the current output cell\n",
       "var outputEl = gd.closest('.output');\n",
       "if (outputEl) {{\n",
       "    x.observe(outputEl, {childList: true});\n",
       "}}\n",
       "\n",
       "                        })\n",
       "                };\n",
       "                });\n",
       "            </script>\n",
       "        </div>"
      ]
     },
     "metadata": {},
     "output_type": "display_data"
    }
   ],
   "source": [
    "for col in risk_df.columns:\n",
    "    risk_df[col] = risk_df[col].astype(str)\n",
    "    \n",
    "scl = [[0.0, 'rgb(202, 202, 202)'],[0.2, 'rgb(253, 205, 200)'],[0.4, 'rgb(252, 169, 161)'],\\\n",
    "            [0.6, 'rgb(247, 121, 108  )'],[0.8, 'rgb(232, 70, 54)'],[1.0, 'rgb(212, 31, 13)']]\n",
    "\n",
    "risk_df['text'] = risk_df['state_codes'] + '<br>' +\\\n",
    "'Number of Bad Loans: ' + risk_df['badloans_amount'] + '<br>' + \\\n",
    "'Percentage of all Bad Loans: ' + risk_df['percentage_of_badloans'] + '%' +  '<br>' + \\\n",
    "'Average Debt-to-Income Ratio: ' + risk_df['average_dti'] + '<br>'+\\\n",
    "'Average Length of Employment: ' + risk_df['average_emp_length'] \n",
    "\n",
    "\n",
    "data = [ dict(\n",
    "        type='choropleth',\n",
    "        colorscale = scl,\n",
    "        autocolorscale = False,\n",
    "        locations = risk_df['state_codes'],\n",
    "        z = risk_df['default_ratio'], \n",
    "        locationmode = 'USA-states',\n",
    "        text = risk_df['text'],\n",
    "        marker = dict(\n",
    "            line = dict (\n",
    "                color = 'rgb(255,255,255)',\n",
    "                width = 2\n",
    "            ) ),\n",
    "        colorbar = dict(\n",
    "            title = \"%\")\n",
    "        ) ]\n",
    "\n",
    "\n",
    "layout = dict(\n",
    "    title = 'Lending Clubs Default Rates <br> (Analyzing Risks)',\n",
    "    geo = dict(\n",
    "        scope = 'usa',\n",
    "        projection=dict(type='albers usa'),\n",
    "        showlakes = True,\n",
    "        lakecolor = 'rgb(255, 255, 255)')\n",
    ")\n",
    "\n",
    "fig = dict(data=data, layout=layout)\n",
    "iplot(fig, filename='d3-cloropleth-map')"
   ]
  },
  {
   "cell_type": "markdown",
   "metadata": {},
   "source": [
    "## The Importance of Credit Scores:\n",
    "<a id=\"credit_scores\"></a>\n",
    "Credit scores are important metrics for assesing the overall level of risk. In this section we will analyze the level of risk as a whole and how many loans were bad loans by the type of grade received in the credit score of the customer.\n",
    "\n",
    "<h4> What we need to know: </h4>\n",
    "<ul> \n",
    "<li> The lower the grade of the credit score, the higher the risk for investors. </li>\n",
    "<li> There are different factors that influence on the level of risk of the loan.</li>\n",
    "</ul>\n",
    "\n",
    "<h4> Summary: </h4>\n",
    "<ul>\n",
    "<li> The scores that has a lower grade received a larger amounts of loans (which might had contributed to a higher level of risk). </li>\n",
    "<li> Logically, the <b>lower the grade the higher the interest</b> the customer had to pay back to investors.</li>\n",
    "<li> Interstingly, customers with a <b>grade</b> of \"C\" were more likely to default on the loan </li>\n",
    "<ul>"
   ]
  },
  {
   "cell_type": "code",
   "execution_count": 37,
   "metadata": {},
   "outputs": [
    {
     "data": {
      "text/plain": [
       "<matplotlib.legend.Legend at 0x1c48bb3810>"
      ]
     },
     "execution_count": 37,
     "metadata": {},
     "output_type": "execute_result"
    },
    {
     "data": {
      "image/png": "[encoded data removed]",
      "text/plain": [
       "<Figure size 1008x288 with 2 Axes>"
      ]
     },
     "metadata": {},
     "output_type": "display_data"
    }
   ],
   "source": [
    "# Let's visualize how many loans were issued by creditscore\n",
    "f, ((ax1, ax2)) = plt.subplots(1, 2)\n",
    "cmap = plt.cm.coolwarm\n",
    "\n",
    "by_credit_score = df.groupby(['year', 'grade']).loan_amount.mean()\n",
    "by_credit_score.unstack().plot(legend=False, ax=ax1, figsize=(14, 4), colormap=cmap)\n",
    "ax1.set_title('Loans issued by Credit Score', fontsize=14)\n",
    "    \n",
    "    \n",
    "by_inc = df.groupby(['year', 'grade']).interest_rate.mean()\n",
    "by_inc.unstack().plot(ax=ax2, figsize=(14, 4), colormap=cmap)\n",
    "ax2.set_title('Interest Rates by Credit Score', fontsize=14)\n",
    "\n",
    "ax2.legend(bbox_to_anchor=(-1.0, -0.3, 1.7, 0.1), loc=5, prop={'size':12},\n",
    "           ncol=7, mode=\"expand\", borderaxespad=0.)"
   ]
  },
  {
   "cell_type": "code",
   "execution_count": null,
   "metadata": {},
   "outputs": [],
   "source": [
    "fig = plt.figure(figsize=(16,12))\n",
    "\n",
    "ax1 = fig.add_subplot(221)\n",
    "ax2 = fig.add_subplot(222)\n",
    "ax3 = fig.add_subplot(212)\n",
    "\n",
    "cmap = plt.cm.coolwarm_r\n",
    "\n",
    "loans_by_region = df.groupby(['grade', 'loan_condition']).size()\n",
    "loans_by_region.unstack().plot(kind='bar', stacked=True, colormap=cmap, ax=ax1, grid=False)\n",
    "ax1.set_title('Type of Loans by Grade', fontsize=14)\n",
    "\n",
    "\n",
    "loans_by_grade = df.groupby(['sub_grade', 'loan_condition']).size()\n",
    "loans_by_grade.unstack().plot(kind='bar', stacked=True, colormap=cmap, ax=ax2, grid=False)\n",
    "ax2.set_title('Type of Loans by Sub-Grade', fontsize=14)\n",
    "\n",
    "by_interest = df.groupby(['year', 'loan_condition']).interest_rate.mean()\n",
    "by_interest.unstack().plot(ax=ax3, colormap=cmap)\n",
    "ax3.set_title('Average Interest rate by Loan Condition', fontsize=14)\n",
    "ax3.set_ylabel('Interest Rate (%)', fontsize=12)"
   ]
  },
  {
   "cell_type": "code",
   "execution_count": null,
   "metadata": {},
   "outputs": [],
   "source": [
    "# Just get me the numeric variables\n",
    "numeric_variables = df.select_dtypes(exclude=[\"object\"])"
   ]
  },
  {
   "cell_type": "code",
   "execution_count": null,
   "metadata": {},
   "outputs": [],
   "source": [
    "# We will use df_correlations dataframe to analyze our correlations.\n",
    "\n",
    "\n",
    "df_correlations = df.corr()\n",
    "\n",
    "\n",
    "trace = go.Heatmap(z=df_correlations.values,\n",
    "                   x=df_correlations.columns,\n",
    "                   y=df_correlations.columns,\n",
    "                  colorscale=[[0.0, 'rgb(165,0,38)'], \n",
    "                              [0.1111111111111111, 'rgb(215,48,39)'], \n",
    "                              [0.2222222222222222, 'rgb(244,109,67)'], \n",
    "                              [0.3333333333333333, 'rgb(253,174,97)'], \n",
    "                              [0.4444444444444444, 'rgb(254,224,144)'], \n",
    "                              [0.5555555555555556, 'rgb(224,243,248)'], \n",
    "                              [0.6666666666666666, 'rgb(171,217,233)'], \n",
    "                              [0.7777777777777778, 'rgb(116,173,209)'], \n",
    "                              [0.8888888888888888, 'rgb(69,117,180)'], \n",
    "                              [1.0, 'rgb(49,54,149)']],\n",
    "            colorbar = dict(\n",
    "            title = 'Level of Correlation',\n",
    "            titleside = 'top',\n",
    "            tickmode = 'array',\n",
    "            tickvals = [-0.52,0.2,0.95],\n",
    "            ticktext = ['Negative Correlation','Low Correlation','Positive Correlation'],\n",
    "            ticks = 'outside'\n",
    "        )\n",
    "                  )\n",
    "\n",
    "\n",
    "layout = {\"title\": \"Correlation Heatmap\"}\n",
    "data=[trace]\n",
    "\n",
    "fig = dict(data=data, layout=layout)\n",
    "iplot(fig, filename='labelled-heatmap')"
   ]
  },
  {
   "cell_type": "markdown",
   "metadata": {},
   "source": [
    "This data looks a little but messy maybe if we focus our correlation heatmap into columns that are more worth it we might actually see a trend with the **condition of the loan**."
   ]
  },
  {
   "cell_type": "code",
   "execution_count": null,
   "metadata": {},
   "outputs": [],
   "source": [
    "title = 'Bad Loans: Loan Statuses'\n",
    "\n",
    "labels = bad_loan # All the elements that comprise a bad loan.\n",
    "\n",
    "len(labels)\n",
    "colors = ['rgba(236, 112, 99, 1)', 'rgba(235, 152, 78, 1)', 'rgba(52, 73, 94, 1)', 'rgba(128, 139, 150, 1)',\n",
    "         'rgba(255, 87, 51, 1)', 'rgba(255, 195, 0, 1)']\n",
    "\n",
    "mode_size = [8,8,8,8,8,8]\n",
    "\n",
    "line_size = [2,2,2,2,2,2]\n",
    "\n",
    "x_data = [\n",
    "    sorted(df['year'].unique().tolist()),\n",
    "    sorted(df['year'].unique().tolist()),\n",
    "    sorted(df['year'].unique().tolist()),\n",
    "    sorted(df['year'].unique().tolist()), \n",
    "    sorted(df['year'].unique().tolist()),\n",
    "    sorted(df['year'].unique().tolist()),\n",
    "]\n",
    "\n",
    "# type of loans\n",
    "charged_off = df['loan_amount'].loc[df['loan_status'] == 'Charged Off'].values.tolist()\n",
    "defaults = df['loan_amount'].loc[df['loan_status'] == 'Default'].values.tolist()\n",
    "not_credit_policy = df['loan_amount'].loc[df['loan_status'] == 'Does not meet the credit policy. Status:Charged Off'].values.tolist()\n",
    "grace_period = df['loan_amount'].loc[df['loan_status'] == 'In Grace Period'].values.tolist()\n",
    "short_late = df['loan_amount'].loc[df['loan_status'] == 'Late (16-30 days)'].values.tolist()\n",
    "long_late = df['loan_amount'].loc[df['loan_status'] == 'Late (31-120 days)'].values.tolist()\n",
    "\n",
    "y_data = [\n",
    "    charged_off,\n",
    "    defaults,\n",
    "    not_credit_policy,\n",
    "    grace_period,\n",
    "    short_late,\n",
    "    long_late,\n",
    "]\n",
    "\n",
    "p_charged_off = go.Scatter(\n",
    "    x = x_data[0],\n",
    "    y = y_data[0],\n",
    "    name = 'A. Charged Off',\n",
    "    line = dict(\n",
    "        color = colors[0],\n",
    "        width = 3,\n",
    "        dash='dash')\n",
    ")\n",
    "\n",
    "p_defaults = go.Scatter(\n",
    "    x = x_data[1],\n",
    "    y = y_data[1],\n",
    "    name = 'A. Defaults',\n",
    "    line = dict(\n",
    "        color = colors[1],\n",
    "        width = 3,\n",
    "        dash='dash')\n",
    ")\n",
    "\n",
    "p_credit_policy = go.Scatter(\n",
    "    x = x_data[2],\n",
    "    y = y_data[2],\n",
    "    name = 'Not Meet C.P',\n",
    "    line = dict(\n",
    "        color = colors[2],\n",
    "        width = 3,\n",
    "        dash='dash')\n",
    ")\n",
    "\n",
    "p_graced = go.Scatter(\n",
    "    x = x_data[3],\n",
    "    y = y_data[3],\n",
    "    name = 'A. Graced Period',\n",
    "    line = dict(\n",
    "        color = colors[3],\n",
    "        width = 3,\n",
    "        dash='dash')\n",
    ")\n",
    "\n",
    "p_short_late = go.Scatter(\n",
    "    x = x_data[4],\n",
    "    y = y_data[4],\n",
    "    name = 'Late (16-30 days)',\n",
    "    line = dict(\n",
    "        color = colors[4],\n",
    "        width = 3,\n",
    "        dash='dash')\n",
    ")\n",
    "\n",
    "p_long_late = go.Scatter(\n",
    "    x = x_data[5],\n",
    "    y = y_data[5],\n",
    "    name = 'Late (31-120 days)',\n",
    "    line = dict(\n",
    "        color = colors[5],\n",
    "        width = 3,\n",
    "        dash='dash')\n",
    ")\n",
    "\n",
    "\n",
    "\n",
    "\n",
    "data=[p_charged_off, p_defaults, p_credit_policy, p_graced, p_short_late, p_long_late]\n",
    "\n",
    "layout = dict(title = 'Types of Bad Loans <br> (Amount Borrowed Throughout the Years)',\n",
    "              xaxis = dict(title = 'Year'),\n",
    "              yaxis = dict(title = 'Amount Issued'),\n",
    "              )\n",
    "\n",
    "fig = dict(data=data, layout=layout)\n",
    "\n",
    "iplot(fig, filename='line-mode')"
   ]
  },
  {
   "cell_type": "code",
   "execution_count": null,
   "metadata": {},
   "outputs": [],
   "source": [
    "plt.figure(figsize=(18,18))\n",
    "\n",
    "# Create a dataframe for bad loans\n",
    "bad_df = df.loc[df['loan_condition'] == 'Bad Loan']\n",
    "\n",
    "plt.subplot(211)\n",
    "g = sns.boxplot(x='home_ownership', y='loan_amount', hue='loan_condition',\n",
    "               data=bad_df, color='r')\n",
    "\n",
    "g.set_xticklabels(g.get_xticklabels(),rotation=45)\n",
    "g.set_xlabel(\"Type of Home Ownership\", fontsize=12)\n",
    "g.set_ylabel(\"Loan Amount\", fontsize=12)\n",
    "g.set_title(\"Distribution of Amount Borrowed \\n by Home Ownership\", fontsize=16)\n",
    "\n",
    "\n",
    "\n",
    "plt.subplot(212)\n",
    "g1 = sns.boxplot(x='year', y='loan_amount', hue='home_ownership',\n",
    "               data=bad_df, palette=\"Set3\")\n",
    "g1.set_xticklabels(g1.get_xticklabels(),rotation=45)\n",
    "g1.set_xlabel(\"Type of Home Ownership\", fontsize=12)\n",
    "g1.set_ylabel(\"Loan Amount\", fontsize=12)\n",
    "g1.set_title(\"Distribution of Amount Borrowed \\n through the years\", fontsize=16)\n",
    "\n",
    "\n",
    "plt.subplots_adjust(hspace = 0.6, top = 0.8)\n",
    "\n",
    "plt.show()"
   ]
  },
  {
   "cell_type": "markdown",
   "metadata": {},
   "source": [
    "## Defaulted Loans and Level of Risk:\n",
    "<a id=\"defaulted_loans\"></a>\n",
    "From all the bad loans the one we are most interested about are the loans that are defaulted. Therefore, in this section we will implement an in-depth analysis of these types of Loans and see if we can gain any insight as to which features have a high correlation with the loan being defaulted.\n",
    "\n",
    "## Main Aim:\n",
    "<ul>\n",
    "<li> Determine patters that will allow us to understand somehow factors that contribute to a loan being <b>defaulted</b> </li>\n",
    "</ul>\n",
    "\n",
    "## Summary:\n",
    "<ul>\n",
    "<li>In the last year recorded, the <b>Midwest </b>  and <b> SouthEast </b> regions had the most defaults. </li>\n",
    "<li>Loans that have a <b>high interest rate</b>(above 13.23%) are more likely to become a <b>bad loan </b>. </li>\n",
    "<li>Loans that have a longer <b> maturity date (60 months) </b> are more likely to be a bad loan. </li>\n",
    "</ul>"
   ]
  },
  {
   "cell_type": "code",
   "execution_count": null,
   "metadata": {},
   "outputs": [],
   "source": [
    "\n",
    "# Get the loan amount for loans that were defaulted by each region.\n",
    "northe_defaults = df['loan_amount'].loc[(df['region'] == 'NorthEast') & (df['loan_status'] == 'Default')].values.tolist()\n",
    "southw_defaults = df['loan_amount'].loc[(df['region'] == 'SouthWest') & (df['loan_status'] == 'Default')].values.tolist()\n",
    "southe_defaults = df['loan_amount'].loc[(df['region'] == 'SouthEast') & (df['loan_status'] == 'Default')].values.tolist()\n",
    "west_defaults = df['loan_amount'].loc[(df['region'] == 'West') & (df['loan_status'] == 'Default')].values.tolist()\n",
    "midw_defaults = df['loan_amount'].loc[(df['region'] == 'MidWest') & (df['loan_status'] == 'Default')].values.tolist()\n",
    "\n",
    "# Cumulative Values\n",
    "y0_stck=northe_defaults\n",
    "y1_stck=[y0+y1 for y0, y1 in zip(northe_defaults, southw_defaults)]\n",
    "y2_stck=[y0+y1+y2 for y0, y1, y2 in zip(northe_defaults, southw_defaults, southe_defaults)]\n",
    "y3_stck=[y0+y1+y2+y3 for y0, y1, y2, y3 in zip(northe_defaults, southw_defaults, southe_defaults, west_defaults)]\n",
    "y4_stck=[y0+y1+y2+y3+y4 for y0, y1, y2, y3, y4 in zip(northe_defaults, southw_defaults, southe_defaults, west_defaults, midw_defaults)] \n",
    "\n",
    "# Make original values strings and add % for hover text\n",
    "y0_txt=['$' + str(y0) for y0 in northe_defaults]\n",
    "y1_txt=['$' + str(y1) for y1 in southw_defaults]\n",
    "y2_txt=['$' + str(y2) for y2 in southe_defaults]\n",
    "y3_txt=['$' + str(y3) for y3 in west_defaults]\n",
    "y4_txt=['$'+ str(y4) for y4 in midw_defaults]\n",
    "\n",
    "year = sorted(df[\"year\"].unique().tolist())\n",
    "\n",
    "NorthEast_defaults = go.Scatter(\n",
    "    x= year,\n",
    "    y= y0_stck,\n",
    "    text=y0_txt,\n",
    "    hoverinfo='x+text',\n",
    "    name='NorthEast',\n",
    "    mode= 'lines',\n",
    "    line=dict(width=0.5,\n",
    "             color='rgb(131, 90, 241)'),\n",
    "    fill='tonexty'\n",
    ")\n",
    "SouthWest_defaults = go.Scatter(\n",
    "    x=year,\n",
    "    y=y1_stck,\n",
    "    text=y1_txt,\n",
    "    hoverinfo='x+text',\n",
    "    name='SouthWest',\n",
    "    mode= 'lines',\n",
    "    line=dict(width=0.5,\n",
    "             color='rgb(255, 140, 0)'),\n",
    "    fill='tonexty'\n",
    ")\n",
    "\n",
    "SouthEast_defaults = go.Scatter(\n",
    "    x= year,\n",
    "    y= y2_stck,\n",
    "    text=y2_txt,\n",
    "    hoverinfo='x+text',\n",
    "    name='SouthEast',\n",
    "    mode= 'lines',\n",
    "    line=dict(width=0.5,\n",
    "             color='rgb(240, 128, 128)'),\n",
    "    fill='tonexty'\n",
    ")\n",
    "\n",
    "West_defaults = go.Scatter(\n",
    "    x= year,\n",
    "    y= y3_stck,\n",
    "    text=y3_txt,\n",
    "    hoverinfo='x+text',\n",
    "    name='West',\n",
    "    mode= 'lines',\n",
    "    line=dict(width=0.5,\n",
    "             color='rgb(135, 206, 235)'),\n",
    "    fill='tonexty'\n",
    ")\n",
    "\n",
    "MidWest_defaults = go.Scatter(\n",
    "    x= year,\n",
    "    y= y4_stck,\n",
    "    text=y4_txt,\n",
    "    hoverinfo='x+text',\n",
    "    name='MidWest',\n",
    "    mode= 'lines',\n",
    "    line=dict(width=0.5,\n",
    "             color='rgb(240, 230, 140)'),\n",
    "    fill='tonexty'\n",
    "    )\n",
    "\n",
    "\n",
    "data = [NorthEast_defaults, SouthWest_defaults, SouthEast_defaults, West_defaults, MidWest_defaults]\n",
    "\n",
    "layout = dict(title = 'Amount Defaulted by Region',\n",
    "              xaxis = dict(title = 'Year'),\n",
    "              yaxis = dict(title = 'Amount Defaulted')\n",
    "             )\n",
    "\n",
    "fig = dict(data=data, layout=layout)\n",
    "              \n",
    "iplot(fig, filename='basic-area-no-bound')"
   ]
  },
  {
   "cell_type": "code",
   "execution_count": null,
   "metadata": {},
   "outputs": [],
   "source": [
    "df['interest_rate'].describe()\n",
    "# Average interest is 13.26% Anything above this will be considered of high risk let's see if this is true.\n",
    "df['interest_payments'] = np.nan\n",
    "lst = [df]\n",
    "\n",
    "for col in lst:\n",
    "    col.loc[col['interest_rate'] <= 13.23, 'interest_payments'] = 'Low'\n",
    "    col.loc[col['interest_rate'] > 13.23, 'interest_payments'] = 'High'\n",
    "    \n",
    "df.head()"
   ]
  },
  {
   "cell_type": "code",
   "execution_count": null,
   "metadata": {},
   "outputs": [],
   "source": [
    "df['term'].value_counts()"
   ]
  },
  {
   "cell_type": "code",
   "execution_count": null,
   "metadata": {},
   "outputs": [],
   "source": [
    "from scipy.stats import norm\n",
    "plt.figure(figsize=(20,10))\n",
    "\n",
    "palette = ['#009393', '#930000']\n",
    "plt.subplot(221)\n",
    "ax = sns.countplot(x='interest_payments', data=df, \n",
    "                  palette=palette, hue='loan_condition')\n",
    "\n",
    "ax.set_title('The impact of interest rate \\n on the condition of the loan', fontsize=14)\n",
    "ax.set_xlabel('Level of Interest Payments', fontsize=12)\n",
    "ax.set_ylabel('Count')\n",
    "\n",
    "plt.subplot(222)\n",
    "ax1 = sns.countplot(x='interest_payments', data=df, \n",
    "                   palette=palette, hue='term')\n",
    "\n",
    "ax1.set_title('The impact of maturity date \\n on interest rates', fontsize=14)\n",
    "ax1.set_xlabel('Level of Interest Payments', fontsize=12)\n",
    "ax1.set_ylabel('Count')\n",
    "\n",
    "\n",
    "plt.subplot(212)\n",
    "low = df['loan_amount'].loc[df['interest_payments'] == 'Low'].values\n",
    "high = df['loan_amount'].loc[df['interest_payments'] == 'High'].values\n",
    "\n",
    "\n",
    "ax2= sns.distplot(low, color='#009393', label='Low Interest Payments', fit=norm, fit_kws={\"color\":\"#483d8b\"}) # Dark Blue Norm Color\n",
    "ax3 = sns.distplot(high, color='#930000', label='High Interest Payments', fit=norm, fit_kws={\"color\":\"#c71585\"}) #  Red Norm Color\n",
    "plt.axis([0, 36000, 0, 0.00016])\n",
    "plt.legend()\n",
    "\n",
    "\n",
    "plt.show()"
   ]
  },
  {
   "cell_type": "markdown",
   "metadata": {},
   "source": [
    "## Risk Assesment:\n",
    "The main aim in this section is to compare the average interest rate for the loan status belonging to each type of loans (Good loan or bad loan) and see if there is any significant difference in the average of interest rate for each of the groups.\n",
    "\n",
    "## Summary: \n",
    "<ul>\n",
    "<li> <b> Bad Loans: </b>  Most of the loan statuses belonging to this group pay a interest ranging from 15% - 16%. </li>\n",
    "<li><b>Good Loans:</b> Most of the loan statuses belonging to this group pay interest ranging from 12% - 13%.  </li>\n",
    "<li>There has to be a better assesment of risk since there is not that much of a difference in interest payments from <b>Good Loans</b> and <b>Bad Loans</b>. </li>\n",
    "<li> Remember, most loan statuses are <b>Current</b> so there is a risk that at the end of maturity some of these loans might become bad loans. </li>\n",
    "</ul>\n",
    "\n",
    "<br>\n",
    "\n",
    "*Credits to Zhiwen for providing an important aspect of the analysis (Relationship of interest rates and loan condition).*"
   ]
  },
  {
   "cell_type": "code",
   "execution_count": null,
   "metadata": {},
   "outputs": [],
   "source": [
    "# Interest rate good loans\n",
    "avg_fully_paid = round(np.mean(df['interest_rate'].loc[df['loan_status'] == 'Fully Paid'].values), 2)\n",
    "avg_current = round(np.mean(df['interest_rate'].loc[df['loan_status'] == 'Current'].values), 2) \n",
    "avg_issued = round(np.mean(df['interest_rate'].loc[df['loan_status'] == 'Issued'].values), 2)\n",
    "avg_long_fully_paid = round(np.mean(df['interest_rate'].loc[df['loan_status'] == 'Does not meet the credit policy. Status:Fully Paid'].values), 2)\n",
    "\n",
    "\n",
    "\n",
    "# Interest rate bad loans\n",
    "\n",
    "avg_default_rates = round(np.mean(df['interest_rate'].loc[df['loan_status'] == 'Default'].values), 2)\n",
    "avg_charged_off = round(np.mean(df['interest_rate'].loc[df['loan_status'] == 'Charged Off'].values), 2)\n",
    "avg_long_charged_off = round(np.mean(df['interest_rate'].loc[df['loan_status'] == 'Does not meet the credit policy. Status:Charged Off'].values), 2)\n",
    "avg_grace_period = round(np.mean(df['interest_rate'].loc[df['loan_status'] == 'In Grace Period'].values), 2)\n",
    "avg_short_late = round(np.mean(df['interest_rate'].loc[df['loan_status'] == 'Late (16-30 days)'].values), 2)\n",
    "avg_long_late = round(np.mean(df['interest_rate'].loc[df['loan_status'] == 'Late (31-120 days)'].values), 2)\n",
    "\n",
    "\n",
    "# Take to a dataframe\n",
    "\n",
    "data = [\n",
    "    go.Scatterpolar(\n",
    "        mode='lines+markers',\n",
    "      r = [avg_fully_paid, avg_current, avg_issued, avg_long_fully_paid],\n",
    "      theta = ['Fully Paid', 'Current', 'Issued', 'No C.P. Fully Paid'],\n",
    "      fill = 'toself',\n",
    "      name = 'Good Loans',\n",
    "        line = dict(\n",
    "        color = \"#63AF63\"\n",
    "      ),\n",
    "      marker = dict(\n",
    "        color = \"#B3FFB3\",\n",
    "        symbol = \"square\",\n",
    "        size = 8\n",
    "      ),\n",
    "      subplot = \"polar\",\n",
    "    ),\n",
    "    go.Scatterpolar(\n",
    "        mode='lines+markers',\n",
    "      r = [avg_default_rates, avg_charged_off, avg_long_charged_off, avg_grace_period, avg_short_late, avg_long_late],\n",
    "      theta = ['Default Rate', 'Charged Off', 'C.P. Charged Off', 'In Grace Period', 'Late (16-30 days)', 'Late (31-120 days)'],\n",
    "      fill = 'toself',\n",
    "      name = 'Bad Loans',\n",
    "        line = dict(\n",
    "        color = \"#C31414\"\n",
    "      ),\n",
    "      marker = dict(\n",
    "        color = \"#FF5050\",\n",
    "        symbol = \"square\",\n",
    "        size = 8\n",
    "      ),\n",
    "      subplot = \"polar2\"\n",
    "    )\n",
    "]\n",
    "\n",
    "layout = go.Layout(\n",
    "    title=\"Average Interest Rates <br> Loan Status Distribution\",\n",
    "    showlegend = False,\n",
    "     paper_bgcolor = \"rgb(255, 248, 243)\",\n",
    "    polar = dict(\n",
    "      domain = dict(\n",
    "        x = [0,0.4],\n",
    "        y = [0,1]\n",
    "      ),\n",
    "      radialaxis = dict(\n",
    "        tickfont = dict(\n",
    "          size = 8\n",
    "        )\n",
    "      ),\n",
    "      angularaxis = dict(\n",
    "        tickfont = dict(\n",
    "          size = 8\n",
    "        ),\n",
    "        rotation = 90,\n",
    "        direction = \"counterclockwise\"\n",
    "      )\n",
    "    ),\n",
    "    polar2 = dict(\n",
    "      domain = dict(\n",
    "        x = [0.6,1],\n",
    "        y = [0,1]\n",
    "      ),\n",
    "      radialaxis = dict(\n",
    "        tickfont = dict(\n",
    "          size = 8\n",
    "        )\n",
    "      ),\n",
    "      angularaxis = dict(\n",
    "        tickfont = dict(\n",
    "          size = 8\n",
    "        ),\n",
    "        rotation = 90,\n",
    "        direction = \"clockwise\"\n",
    "      ),\n",
    "    )\n",
    ")\n",
    "\n",
    "fig = go.Figure(data=data, layout=layout)\n",
    "iplot(fig, filename='polar/directions')"
   ]
  },
  {
   "cell_type": "markdown",
   "metadata": {},
   "source": [
    "## Condition of Loans and Purpose:\n",
    "<a id=\"loan_condition\"></a>\n",
    "In this section we will go into depth regarding the <b>reasons for clients to apply for a loan. </b> Our main aim is to see if there are purposes that contribute to a <b> \"higher\" </b> risk whether the loan will be repaid or not.\n",
    "\n",
    "### Summary: \n",
    "<ul>\n",
    "<li> <b>Bad Loans Count: </b> People that apply for educational and small business purposed tend to have a higher risk of being a bad loan. (% wise) </li>\n",
    "<li><b>Most frequent Purpose: </b> The reason that clients applied the most for a loan was to consolidate debt. </li>\n",
    "<li><b>Less frequent purpose:</b> Clients applied less for educational purposes for all three income categories.  </li>\n",
    "<li><b>Interest Rates: </b> In all reasons for application except (medical, small business and credi card), the low income category has a higher interest rate. Something that could possibly explain this is the amount of capital that is needed from other income categories that might explain why the low income categories interest rate for these puposes are lower.  </li>\n",
    "<li><b>Bad/Good Ratio:</b> Except for educational purposes (we see a spike in high income this is due to the reasons that only two loans were issued and one was a bad loan which caused this ratio to spike to 50%.), but we can see that in all other purposed the bad good ratio is lower the higher your income category.  </li>\n",
    "\n",
    "</ul>"
   ]
  },
  {
   "cell_type": "code",
   "execution_count": null,
   "metadata": {},
   "outputs": [],
   "source": [
    "df['purpose'].value_counts()\n",
    "\n",
    "# Education, renewable energy, wedding are the purposed that contains highest bad loans percent wise.\n",
    "\n",
    "purpose_condition = round(pd.crosstab(df['loan_condition'], df['purpose']).apply(lambda x: x/x.sum() * 100), 2)\n",
    "\n",
    "purpose_bad_loans = purpose_condition.values[0].tolist()\n",
    "purpose_good_loans = purpose_condition.values[1].tolist()\n",
    "purpose = purpose_condition.columns\n",
    "\n",
    "\n",
    "bad_plot = go.Bar(\n",
    "    x=purpose,\n",
    "    y=purpose_bad_loans,\n",
    "    name = 'Bad Loans',\n",
    "    text='%',\n",
    "    marker=dict(\n",
    "        color='rgba(219, 64, 82, 0.7)',\n",
    "        line = dict(\n",
    "            color='rgba(219, 64, 82, 1.0)',\n",
    "            width=2\n",
    "        )\n",
    "    )\n",
    ")\n",
    "\n",
    "good_plot = go.Bar(\n",
    "    x=purpose,\n",
    "    y=purpose_good_loans,\n",
    "    name='Good Loans',\n",
    "    text='%',\n",
    "    marker=dict(\n",
    "        color='rgba(50, 171, 96, 0.7)',\n",
    "        line = dict(\n",
    "            color='rgba(50, 171, 96, 1.0)',\n",
    "            width=2\n",
    "        )\n",
    "    )\n",
    ")\n",
    "\n",
    "\n",
    "data = [bad_plot, good_plot]\n",
    "\n",
    "layout = go.Layout(\n",
    "    title='Condition of Loan by Purpose',\n",
    "    xaxis=dict(\n",
    "        title=''\n",
    "    ),\n",
    "    yaxis=dict(\n",
    "        title='% of the Loan',\n",
    "    ),\n",
    "    paper_bgcolor='#FFF8DC',\n",
    "    plot_bgcolor='#FFF8DC',\n",
    "    showlegend=True\n",
    ")\n",
    "\n",
    "fig = dict(data=data, layout=layout)\n",
    "iplot(fig, filename='condition_purposes')"
   ]
  },
  {
   "cell_type": "code",
   "execution_count": null,
   "metadata": {},
   "outputs": [],
   "source": [
    "# Average interest by income category and purposes \n",
    "# Which purpose carries a higher interest rate and does income category have an influence on risk?\n",
    "# Is LendingClub deploying loan amount where there is a high risk (interest_rate)\n",
    "# Remember we learned that interest_rates is a key metric in evaluating risk.\n",
    "\n",
    "\n",
    "\n",
    "group_income_purpose = df.groupby(['income_category', 'purpose'], as_index=False).interest_rate.mean()\n",
    "group_dti_purpose = df.groupby(['income_category', 'purpose'], as_index=False).loan_amount.mean()\n",
    "loan_a = group_dti_purpose['loan_amount'].values\n",
    "\n",
    "\n",
    "\n",
    "# High Car 10.32 15669\n",
    "new_groupby = group_income_purpose.assign(total_loan_amount=loan_a)\n",
    "sort_group_income_purpose = new_groupby.sort_values(by=\"income_category\", ascending=True)"
   ]
  },
  {
   "cell_type": "code",
   "execution_count": null,
   "metadata": {},
   "outputs": [],
   "source": [
    "loan_count = df.groupby(['income_category', 'purpose'])['loan_condition'].apply(lambda x: x.value_counts())\n",
    "d={\"loan_c\": loan_count}\n",
    "loan_c_df = pd.DataFrame(data=d).reset_index()\n",
    "loan_c_df = loan_c_df.rename(columns={\"level_2\": \"loan_condition\"})\n",
    "\n",
    "\n",
    "# Good loans & Bad Loans\n",
    "good_loans = loan_c_df.loc[loan_c_df['loan_condition'] == \"Good Loan\"].sort_values(by=\"income_category\", ascending=True)\n",
    "bad_loans = loan_c_df.loc[loan_c_df['loan_condition'] == \"Bad Loan\"].sort_values(by=\"income_category\", ascending=True)\n",
    "sort_group_income_purpose['good_loans_count'] = good_loans['loan_c'].values\n",
    "sort_group_income_purpose['bad_loans_count'] = bad_loans['loan_c'].values\n",
    "sort_group_income_purpose['total_loans_issued'] = (good_loans['loan_c'].values + bad_loans['loan_c'].values)\n",
    "sort_group_income_purpose['bad/good ratio (%)'] = np.around(bad_loans['loan_c'].values / (bad_loans['loan_c'].values + good_loans['loan_c'].values), 4) * 100\n",
    "final_df = sort_group_income_purpose.sort_values(by='income_category', ascending=True)\n",
    "final_df.style.background_gradient('coolwarm')"
   ]
  },
  {
   "cell_type": "code",
   "execution_count": null,
   "metadata": {},
   "outputs": [],
   "source": [
    "final_df = final_df.sort_values(by=\"purpose\", ascending=False)"
   ]
  },
  {
   "cell_type": "code",
   "execution_count": null,
   "metadata": {},
   "outputs": [],
   "source": [
    "# Work on a plot to explain better the correlations between the different columns in final_df dataframe.\n",
    "# We will do a Subplot in Plotly with \n",
    "\n",
    "\n",
    "# Labels\n",
    "purpose_labels = df['purpose'].unique()\n",
    "\n",
    "# Average Interest Rate Dot Plots # 1st Subplot\n",
    "high_income = final_df['interest_rate'].loc[final_df['income_category'] == 'High'].values.tolist()\n",
    "medium_income = final_df['interest_rate'].loc[final_df['income_category'] == 'Medium'].values.tolist()\n",
    "low_income = final_df['interest_rate'].loc[final_df['income_category'] == 'Low'].values.tolist()\n",
    "\n",
    "high_lst = ['%.2f' % val for val in high_income]\n",
    "med_lst = ['%.2f' % val for val in medium_income]\n",
    "low_lst = ['%.2f' % val for val in low_income]\n",
    "\n",
    "\n",
    "\n",
    "trace1 = {\"x\": high_lst,\n",
    "          \"y\": purpose_labels,\n",
    "          \"marker\": {\"color\": \"#0040FF\", \"size\": 16},\n",
    "          \"mode\": \"markers\",\n",
    "          \"name\": \"High Income\",\n",
    "          \"type\": \"scatter\"\n",
    "}\n",
    "\n",
    "trace2 = {\"x\": med_lst,\n",
    "          \"y\": purpose_labels,\n",
    "          \"marker\": {\"color\": \"#FE9A2E\", \"size\": 16},\n",
    "          \"mode\": \"markers\",\n",
    "          \"name\": \"Medium Income\",\n",
    "          \"type\": \"scatter\",\n",
    "}\n",
    "\n",
    "trace3 = {\"x\": low_lst,\n",
    "          \"y\": purpose_labels,\n",
    "          \"marker\": {\"color\": \"#FE2E2E\", \"size\": 16},\n",
    "          \"mode\": \"markers\",\n",
    "          \"name\": \"Low Income\",\n",
    "          \"type\": \"scatter\",\n",
    "}\n",
    "\n",
    "\n",
    "\n",
    "\n",
    "data = [trace1, trace2, trace3]\n",
    "layout = {\"title\": \"Average Purpose Interest Rate <br> <i> by Income Category </i> \",\n",
    "          \"xaxis\": {\"title\": \"Average Interest Rate\", },\n",
    "          \"yaxis\": {\"title\": \"\"}}\n",
    "\n",
    "fig = go.Figure(data=data, layout=layout)\n",
    "iplot(fig)"
   ]
  },
  {
   "cell_type": "code",
   "execution_count": null,
   "metadata": {},
   "outputs": [],
   "source": [
    "# Labels\n",
    "purpose_labels = final_df['purpose'].unique()\n",
    "\n",
    "# Amount of Good and Bad Loans per Purpose (fill by income category)\n",
    "# Good Loans\n",
    "good_high_cnt = final_df['good_loans_count'].loc[final_df['income_category'] == \"High\"].values.tolist()\n",
    "good_med_cnt = final_df['good_loans_count'].loc[final_df['income_category'] == \"Medium\"].values.tolist()\n",
    "good_low_cnt = final_df['good_loans_count'].loc[final_df['income_category'] == \"Low\"].values.tolist()\n",
    "\n",
    "# Bad Loans\n",
    "bad_high_cnt = final_df['bad_loans_count'].loc[final_df['income_category'] == \"High\"].values.tolist()\n",
    "bad_med_cnt = final_df['bad_loans_count'].loc[final_df['income_category'] == \"Medium\"].values.tolist()\n",
    "bad_low_cnt = final_df['bad_loans_count'].loc[final_df['income_category'] == \"Low\"].values.tolist()\n",
    "\n",
    "\n",
    "# Good Loans\n",
    "trace0 = go.Bar(\n",
    "    y=purpose_labels,\n",
    "    x=good_high_cnt,\n",
    "    legendgroup='a',\n",
    "    name='High Income',\n",
    "    orientation='h', \n",
    "    marker=dict(\n",
    "        color='#0040FF'\n",
    "    )\n",
    ")\n",
    "trace1 = go.Bar(\n",
    "    x=good_med_cnt,\n",
    "    y=purpose_labels,\n",
    "    legendgroup='a',\n",
    "    name='Medium Income',\n",
    "    orientation='h',\n",
    "    marker=dict(\n",
    "        color='#FE9A2E',\n",
    "    )\n",
    ")\n",
    "\n",
    "trace2 = go.Bar(\n",
    "    x=good_low_cnt,\n",
    "    y=purpose_labels,\n",
    "    legendgroup='a',\n",
    "    name='Low Income',\n",
    "    orientation='h',\n",
    "    marker=dict(\n",
    "        color='#FE2E2E',\n",
    "    )\n",
    ")\n",
    "\n",
    "# Bad Loans issued by Income Category\n",
    "trace3 = go.Bar(\n",
    "    y=purpose_labels,\n",
    "    x=bad_high_cnt,\n",
    "    legendgroup='b',\n",
    "    showlegend=False,\n",
    "    name='High Income',\n",
    "    orientation='h', \n",
    "    marker=dict(\n",
    "        color='#0040FF'\n",
    "    )\n",
    ")\n",
    "trace4 = go.Bar(\n",
    "    x=bad_med_cnt,\n",
    "    y=purpose_labels,\n",
    "    legendgroup='b',\n",
    "    showlegend=False,\n",
    "    name='Medium Income',\n",
    "    orientation='h',\n",
    "    marker=dict(\n",
    "        color='#FE9A2E',\n",
    "    )\n",
    ")\n",
    "\n",
    "trace5 = go.Bar(\n",
    "    x=bad_low_cnt,\n",
    "    y=purpose_labels,\n",
    "    legendgroup='b',\n",
    "    showlegend=False,\n",
    "    name='Low Income',\n",
    "    orientation='h',\n",
    "    marker=dict(\n",
    "        color='#FE2E2E',\n",
    "    )\n",
    ")\n",
    "\n",
    "\n",
    "\n",
    "fig = tools.make_subplots(rows=2, cols=1, print_grid=False,\n",
    "                         subplot_titles=(\"Amount of <br> <i>Good Loans Issued</i>\",\n",
    "                                        \"Amount of <br> <i>Bad Loans Issued</i>\")\n",
    "                         )\n",
    "\n",
    "# First Subplot\n",
    "fig.append_trace(trace0, 1, 1)\n",
    "fig.append_trace(trace1, 1, 1)\n",
    "fig.append_trace(trace2, 1, 1)\n",
    "\n",
    "# Second Subplot\n",
    "fig.append_trace(trace3, 2, 1)\n",
    "fig.append_trace(trace4, 2, 1)\n",
    "fig.append_trace(trace5, 2, 1)\n",
    "\n",
    "fig['layout'].update(height=800, width=800, title='Issuance of Loans', showlegend=True, xaxis=dict(title=\"Number of Loans Issued\"))\n",
    "iplot(fig, filename='angled-text-bar')"
   ]
  },
  {
   "cell_type": "code",
   "execution_count": null,
   "metadata": {},
   "outputs": [],
   "source": [
    "# Next task a Radar Chart with the bad/good ratio to see if it justifies the amount of loans issued towards housing\n",
    "high_ratio = final_df.loc[final_df['income_category'] == 'High']\n",
    "medium_ratio = final_df.loc[final_df['income_category'] == 'Medium']\n",
    "low_ratio = final_df.loc[final_df['income_category'] == 'Low']\n",
    "\n",
    "data = [\n",
    "    go.Scatterpolar(\n",
    "        mode='lines+markers',\n",
    "      r = high_ratio['bad/good ratio (%)'].values.tolist(),\n",
    "      theta = high_ratio['purpose'].unique(),\n",
    "      fill = 'toself',\n",
    "      name = 'High Income',\n",
    "        line = dict(\n",
    "        color = \"#63AF63\"\n",
    "      ),\n",
    "      marker = dict(\n",
    "        color = \"#B3FFB3\",\n",
    "        symbol = \"square\",\n",
    "        size = 8\n",
    "      ),\n",
    "      subplot = \"polar\",\n",
    "    ),\n",
    "    go.Scatterpolar(\n",
    "        mode='lines+markers',\n",
    "      r = medium_ratio['bad/good ratio (%)'].values.tolist(),\n",
    "      theta = medium_ratio['purpose'].unique(),\n",
    "      fill = 'toself',\n",
    "      name = 'Medium Income',\n",
    "        line = dict(\n",
    "        color = \"#C31414\"\n",
    "      ),\n",
    "      marker = dict(\n",
    "        color = \"#FF5050\",\n",
    "        symbol = \"square\",\n",
    "        size = 8\n",
    "      ),\n",
    "      subplot = \"polar2\"\n",
    "    ),\n",
    "    go.Scatterpolar(\n",
    "        mode='lines+markers',\n",
    "      r = low_ratio['bad/good ratio (%)'].values.tolist(),\n",
    "      theta = low_ratio['purpose'].unique(),\n",
    "      fill = 'toself',\n",
    "      name = 'Low Income',\n",
    "        line = dict(\n",
    "        color = \"#C9FFC7\"\n",
    "      ),\n",
    "      marker = dict(\n",
    "        color = \"#8CB28B\",\n",
    "        symbol = \"square\",\n",
    "        size = 8\n",
    "      ),\n",
    "      subplot = \"polar3\"\n",
    "    ),\n",
    "]\n",
    "\n",
    "layout = go.Layout(\n",
    "    title=\"Bad/Good Ratio <br> (By Purpose)\",\n",
    "    showlegend = False,\n",
    "     paper_bgcolor = \"rgb(255, 206, 153)\",\n",
    "    polar = dict(\n",
    "      domain = dict(\n",
    "        x = [0,0.3],\n",
    "        y = [0,1]\n",
    "      ),\n",
    "      radialaxis = dict(\n",
    "        tickfont = dict(\n",
    "          size = 6\n",
    "        )\n",
    "      ),\n",
    "      angularaxis = dict(\n",
    "        tickfont = dict(\n",
    "          size = 6\n",
    "        ),\n",
    "        rotation = 90,\n",
    "        direction = \"counterclockwise\"\n",
    "      )\n",
    "    ),\n",
    "    polar2 = dict(\n",
    "      domain = dict(\n",
    "        x = [0.35,0.65],\n",
    "        y = [0,1]\n",
    "      ),\n",
    "      radialaxis = dict(\n",
    "        tickfont = dict(\n",
    "          size = 6\n",
    "        )\n",
    "      ),\n",
    "      angularaxis = dict(\n",
    "        tickfont = dict(\n",
    "          size = 6\n",
    "        ),\n",
    "        rotation = 85,\n",
    "        direction = \"clockwise\"\n",
    "      ),\n",
    "    ),\n",
    "    polar3 = dict(\n",
    "      domain = dict(\n",
    "        x = [0.7, 1],\n",
    "        y = [0,1]\n",
    "      ),\n",
    "      radialaxis = dict(\n",
    "        tickfont = dict(\n",
    "          size = 6\n",
    "        )\n",
    "      ),\n",
    "      angularaxis = dict(\n",
    "        tickfont = dict(\n",
    "          size = 6\n",
    "        ),\n",
    "        rotation = 90,\n",
    "        direction = \"clockwise\"\n",
    "      ),\n",
    "    ))\n",
    "\n",
    "fig = go.Figure(data=data, layout=layout)\n",
    "iplot(fig, filename = \"radar/multiple\")"
   ]
  },
  {
   "cell_type": "markdown",
   "metadata": {},
   "source": [
    "## Feature Engineering and Neural Network:\n",
    "**Steps:**\n",
    "<ul>\n",
    "<li> There are <b> features </b> that are redundant (as show in the beginning of this kernel in the distribution subplots) having no effect towards the \"loan_condition\" label so we need to <b> drop these features</b>.</li><br>\n",
    "<li> Use <b>StrattifiedShuffleSplit</b> to have approximately the same ratio of bad loans compared to good loans in both training and testing data. Remember that over 92% of the loans are considered good loans so it is important to have this same ration across training and testing sets. </li>\n",
    "<li> <b>Scale </b> numeric features and <b>encode</b> categorical features from our dataframe. </li>\n",
    "<li> Run our Neural Network containing the number of inputs, 2 hidden layers (first: 15 nodes, second: 5 nodes) and the number of outputs which is equivalent to 2.</li>\n",
    "</ul>"
   ]
  },
  {
   "cell_type": "code",
   "execution_count": null,
   "metadata": {},
   "outputs": [],
   "source": [
    "# Copy Dataframe\n",
    "complete_df = df.copy()\n",
    "\n",
    "\n",
    "# Handling Missing Numeric Values\n",
    "\n",
    "# Transform Missing Values for numeric dataframe\n",
    "# Nevertheless check what these variables mean tomorrow in the morning.\n",
    "for col in ('dti_joint', 'annual_inc_joint', 'il_util', 'mths_since_rcnt_il', 'open_acc_6m', 'open_il_12m',\n",
    "           'open_il_24m', 'inq_last_12m', 'open_rv_12m', 'open_rv_24m', 'max_bal_bc', 'all_util', 'inq_fi', 'total_cu_tl',\n",
    "           'mths_since_last_record', 'mths_since_last_major_derog', 'mths_since_last_delinq', 'total_bal_il', 'tot_coll_amt',\n",
    "           'tot_cur_bal', 'total_rev_hi_lim', 'revol_util', 'collections_12_mths_ex_med', 'open_acc', 'inq_last_6mths',\n",
    "           'verification_status_joint', 'acc_now_delinq'):\n",
    "    complete_df[col] = complete_df[col].fillna(0)\n",
    "    "
   ]
  },
  {
   "cell_type": "code",
   "execution_count": null,
   "metadata": {},
   "outputs": [],
   "source": [
    "# # Get the mode of next payment date and last payment date and the last date credit amount was pulled   \n",
    "complete_df[\"next_pymnt_d\"] = complete_df.groupby(\"region\")[\"next_pymnt_d\"].transform(lambda x: x.fillna(x.mode))\n",
    "complete_df[\"last_pymnt_d\"] = complete_df.groupby(\"region\")[\"last_pymnt_d\"].transform(lambda x: x.fillna(x.mode))\n",
    "complete_df[\"last_credit_pull_d\"] = complete_df.groupby(\"region\")[\"last_credit_pull_d\"].transform(lambda x: x.fillna(x.mode))\n",
    "complete_df[\"earliest_cr_line\"] = complete_df.groupby(\"region\")[\"earliest_cr_line\"].transform(lambda x: x.fillna(x.mode))\n",
    "\n",
    "# # Get the mode on the number of accounts in which the client is delinquent\n",
    "complete_df[\"pub_rec\"] = complete_df.groupby(\"region\")[\"pub_rec\"].transform(lambda x: x.fillna(x.median()))\n",
    "\n",
    "# # Get the mean of the annual income depending in the region the client is located.\n",
    "complete_df[\"annual_income\"] = complete_df.groupby(\"region\")[\"annual_income\"].transform(lambda x: x.fillna(x.mean()))\n",
    "\n",
    "# Get the mode of the  total number of credit lines the borrower has \n",
    "complete_df[\"total_acc\"] = complete_df.groupby(\"region\")[\"total_acc\"].transform(lambda x: x.fillna(x.median()))\n",
    "\n",
    "# Mode of credit delinquencies in the past two years.\n",
    "complete_df[\"delinq_2yrs\"] = complete_df.groupby(\"region\")[\"delinq_2yrs\"].transform(lambda x: x.fillna(x.mean()))"
   ]
  },
  {
   "cell_type": "code",
   "execution_count": null,
   "metadata": {},
   "outputs": [],
   "source": [
    "# Drop these variables before scaling but don't drop these when we perform feature engineering on missing values.\n",
    "# Columns to delete or fix: earliest_cr_line, last_pymnt_d, next_pymnt_d, last_credit_pull_d, verification_status_joint\n",
    "\n",
    "# ---->>>> Fix the problems shown during scaling with the columns above.\n",
    "\n",
    "complete_df.drop(['issue_d', 'income_category', 'region', 'year', 'emp_length', 'loan_condition',\n",
    "                 'earliest_cr_line', 'last_pymnt_d', 'next_pymnt_d', 'last_credit_pull_d', \n",
    "                 'verification_status_joint', 'emp_length_int', 'total_rec_prncp', 'funded_amount', 'investor_funds', \n",
    "                 'sub_grade', 'complete_date', 'loan_status', 'interest_payments', \n",
    "                 'initial_list_status', 'out_prncp', 'out_prncp_inv', 'total_pymnt',\n",
    "               'total_pymnt_inv', 'total_rec_int', 'total_rec_late_fee', 'recoveries',\n",
    "               'collection_recovery_fee', 'last_pymnt_amnt',\n",
    "               'collections_12_mths_ex_med', 'mths_since_last_major_derog',\n",
    "               'policy_code', 'application_type', 'annual_inc_joint', 'dti_joint',\n",
    "               'acc_now_delinq', 'tot_coll_amt', 'tot_cur_bal', 'open_acc_6m',\n",
    "               'open_il_12m', 'open_il_24m', 'mths_since_rcnt_il',\n",
    "               'total_bal_il', 'il_util', 'open_rv_12m', 'open_rv_24m', 'max_bal_bc',\n",
    "               'all_util', 'total_rev_hi_lim', 'inq_fi', 'total_cu_tl', 'inq_last_12m'], axis=1, inplace=True)"
   ]
  },
  {
   "cell_type": "code",
   "execution_count": null,
   "metadata": {},
   "outputs": [],
   "source": [
    "complete_df.columns"
   ]
  },
  {
   "cell_type": "code",
   "execution_count": null,
   "metadata": {},
   "outputs": [],
   "source": [
    "complete_df.isnull().sum().max() # Maximum number of nulls."
   ]
  },
  {
   "cell_type": "code",
   "execution_count": null,
   "metadata": {},
   "outputs": [],
   "source": [
    "# Let's make a copy of the dataframe to avoid confusion.\n",
    "from imblearn.over_sampling import SMOTE\n",
    "from sklearn.pipeline import make_pipeline\n",
    "from imblearn.pipeline import make_pipeline as imbalanced_make_pipeline\n",
    "from imblearn.over_sampling import SMOTE\n",
    "from imblearn.under_sampling import NearMiss\n",
    "from imblearn.metrics import classification_report_imbalanced\n",
    "from sklearn.metrics import precision_score, recall_score, f1_score, roc_auc_score, accuracy_score, classification_report\n",
    "from collections import Counter\n",
    "from sklearn.model_selection import KFold, StratifiedKFold, StratifiedShuffleSplit\n",
    "from sklearn.linear_model import LogisticRegression\n",
    "\n",
    "\n",
    "len(complete_df['loan_condition_int'])\n",
    "# Loan Ratios (Imbalanced classes)\n",
    "complete_df['loan_condition_int'].value_counts()/len(complete_df['loan_condition_int']) * 100"
   ]
  },
  {
   "cell_type": "markdown",
   "metadata": {},
   "source": [
    "The purpose of the code below is to have the same ratio across our training and test sets."
   ]
  },
  {
   "cell_type": "code",
   "execution_count": null,
   "metadata": {},
   "outputs": [],
   "source": [
    "from sklearn.model_selection import StratifiedShuffleSplit\n",
    "\n",
    "stratified = StratifiedShuffleSplit(n_splits=1, test_size=0.2, random_state=42)\n",
    "\n",
    "for train_set, test_set in stratified.split(complete_df, complete_df[\"loan_condition_int\"]):\n",
    "    stratified_train = complete_df.loc[train_set]\n",
    "    stratified_test = complete_df.loc[test_set]\n",
    "    \n",
    "print('Train set ratio \\n', stratified_train[\"loan_condition_int\"].value_counts()/len(df))\n",
    "print('Test set ratio \\n', stratified_test[\"loan_condition_int\"].value_counts()/len(df))"
   ]
  },
  {
   "cell_type": "code",
   "execution_count": null,
   "metadata": {},
   "outputs": [],
   "source": [
    "train_df = stratified_train\n",
    "test_df = stratified_test\n",
    "\n",
    "\n",
    "# Let's Shuffle the data\n",
    "train_df = train_df.sample(frac=1).reset_index(drop=True)\n",
    "test_df = test_df.sample(frac=1).reset_index(drop=True)\n",
    "\n",
    "\n",
    "# Train set (Normal training dataset)\n",
    "X_train = train_df.drop('loan_condition_int', axis=1)\n",
    "y_train = train_df['loan_condition_int']\n",
    "\n",
    "\n",
    "# Test Dataset\n",
    "X_test = test_df.drop('loan_condition_int', axis=1)\n",
    "y_test = test_df['loan_condition_int']"
   ]
  },
  {
   "cell_type": "code",
   "execution_count": null,
   "metadata": {},
   "outputs": [],
   "source": [
    "from sklearn.base import BaseEstimator, TransformerMixin\n",
    "from sklearn.utils import check_array\n",
    "from sklearn.preprocessing import LabelEncoder\n",
    "from scipy import sparse\n",
    "\n",
    "class CategoricalEncoder(BaseEstimator, TransformerMixin):\n",
    "    \"\"\"Encode categorical features as a numeric array.\n",
    "    The input to this transformer should be a matrix of integers or strings,\n",
    "    denoting the values taken on by categorical (discrete) features.\n",
    "    The features can be encoded using a one-hot aka one-of-K scheme\n",
    "    (``encoding='onehot'``, the default) or converted to ordinal integers\n",
    "    (``encoding='ordinal'``).\n",
    "    This encoding is needed for feeding categorical data to many scikit-learn\n",
    "    estimators, notably linear models and SVMs with the standard kernels.\n",
    "    Read more in the :ref:`User Guide <preprocessing_categorical_features>`.\n",
    "    Parameters\n",
    "    ----------\n",
    "    encoding : str, 'onehot', 'onehot-dense' or 'ordinal'\n",
    "        The type of encoding to use (default is 'onehot'):\n",
    "        - 'onehot': encode the features using a one-hot aka one-of-K scheme\n",
    "          (or also called 'dummy' encoding). This creates a binary column for\n",
    "          each category and returns a sparse matrix.\n",
    "        - 'onehot-dense': the same as 'onehot' but returns a dense array\n",
    "          instead of a sparse matrix.\n",
    "        - 'ordinal': encode the features as ordinal integers. This results in\n",
    "          a single column of integers (0 to n_categories - 1) per feature.\n",
    "    categories : 'auto' or a list of lists/arrays of values.\n",
    "        Categories (unique values) per feature:\n",
    "        - 'auto' : Determine categories automatically from the training data.\n",
    "        - list : ``categories[i]`` holds the categories expected in the ith\n",
    "          column. The passed categories are sorted before encoding the data\n",
    "          (used categories can be found in the ``categories_`` attribute).\n",
    "    dtype : number type, default np.float64\n",
    "        Desired dtype of output.\n",
    "    handle_unknown : 'error' (default) or 'ignore'\n",
    "        Whether to raise an error or ignore if a unknown categorical feature is\n",
    "        present during transform (default is to raise). When this is parameter\n",
    "        is set to 'ignore' and an unknown category is encountered during\n",
    "        transform, the resulting one-hot encoded columns for this feature\n",
    "        will be all zeros.\n",
    "        Ignoring unknown categories is not supported for\n",
    "        ``encoding='ordinal'``.\n",
    "    Attributes\n",
    "    ----------\n",
    "    categories_ : list of arrays\n",
    "        The categories of each feature determined during fitting. When\n",
    "        categories were specified manually, this holds the sorted categories\n",
    "        (in order corresponding with output of `transform`).\n",
    "    Examples\n",
    "    --------\n",
    "    Given a dataset with three features and two samples, we let the encoder\n",
    "    find the maximum value per feature and transform the data to a binary\n",
    "    one-hot encoding.\n",
    "    >>> from sklearn.preprocessing import CategoricalEncoder\n",
    "    >>> enc = CategoricalEncoder(handle_unknown='ignore')\n",
    "    >>> enc.fit([[0, 0, 3], [1, 1, 0], [0, 2, 1], [1, 0, 2]])\n",
    "    ... # doctest: +ELLIPSIS\n",
    "    CategoricalEncoder(categories='auto', dtype=<... 'numpy.float64'>,\n",
    "              encoding='onehot', handle_unknown='ignore')\n",
    "    >>> enc.transform([[0, 1, 1], [1, 0, 4]]).toarray()\n",
    "    array([[ 1.,  0.,  0.,  1.,  0.,  0.,  1.,  0.,  0.],\n",
    "           [ 0.,  1.,  1.,  0.,  0.,  0.,  0.,  0.,  0.]])\n",
    "    See also\n",
    "    --------\n",
    "    sklearn.preprocessing.OneHotEncoder : performs a one-hot encoding of\n",
    "      integer ordinal features. The ``OneHotEncoder assumes`` that input\n",
    "      features take on values in the range ``[0, max(feature)]`` instead of\n",
    "      using the unique values.\n",
    "    sklearn.feature_extraction.DictVectorizer : performs a one-hot encoding of\n",
    "      dictionary items (also handles string-valued features).\n",
    "    sklearn.feature_extraction.FeatureHasher : performs an approximate one-hot\n",
    "      encoding of dictionary items or strings.\n",
    "    \"\"\"\n",
    "\n",
    "    def __init__(self, encoding='onehot', categories='auto', dtype=np.float64,\n",
    "                 handle_unknown='error'):\n",
    "        self.encoding = encoding\n",
    "        self.categories = categories\n",
    "        self.dtype = dtype\n",
    "        self.handle_unknown = handle_unknown\n",
    "\n",
    "    def fit(self, X, y=None):\n",
    "        \"\"\"Fit the CategoricalEncoder to X.\n",
    "        Parameters\n",
    "        ----------\n",
    "        X : array-like, shape [n_samples, n_feature]\n",
    "            The data to determine the categories of each feature.\n",
    "        Returns\n",
    "        -------\n",
    "        self\n",
    "        \"\"\"\n",
    "\n",
    "        if self.encoding not in ['onehot', 'onehot-dense', 'ordinal']:\n",
    "            template = (\"encoding should be either 'onehot', 'onehot-dense' \"\n",
    "                        \"or 'ordinal', got %s\")\n",
    "            raise ValueError(template % self.handle_unknown)\n",
    "\n",
    "        if self.handle_unknown not in ['error', 'ignore']:\n",
    "            template = (\"handle_unknown should be either 'error' or \"\n",
    "                        \"'ignore', got %s\")\n",
    "            raise ValueError(template % self.handle_unknown)\n",
    "\n",
    "        if self.encoding == 'ordinal' and self.handle_unknown == 'ignore':\n",
    "            raise ValueError(\"handle_unknown='ignore' is not supported for\"\n",
    "                             \" encoding='ordinal'\")\n",
    "\n",
    "        X = check_array(X, dtype=np.object, accept_sparse='csc', copy=True)\n",
    "        n_samples, n_features = X.shape\n",
    "\n",
    "        self._label_encoders_ = [LabelEncoder() for _ in range(n_features)]\n",
    "\n",
    "        for i in range(n_features):\n",
    "            le = self._label_encoders_[i]\n",
    "            Xi = X[:, i]\n",
    "            if self.categories == 'auto':\n",
    "                le.fit(Xi)\n",
    "            else:\n",
    "                valid_mask = np.in1d(Xi, self.categories[i])\n",
    "                if not np.all(valid_mask):\n",
    "                    if self.handle_unknown == 'error':\n",
    "                        diff = np.unique(Xi[~valid_mask])\n",
    "                        msg = (\"Found unknown categories {0} in column {1}\"\n",
    "                               \" during fit\".format(diff, i))\n",
    "                        raise ValueError(msg)\n",
    "                le.classes_ = np.array(np.sort(self.categories[i]))\n",
    "\n",
    "        self.categories_ = [le.classes_ for le in self._label_encoders_]\n",
    "\n",
    "        return self\n",
    "\n",
    "    def transform(self, X):\n",
    "        \"\"\"Transform X using one-hot encoding.\n",
    "        Parameters\n",
    "        ----------\n",
    "        X : array-like, shape [n_samples, n_features]\n",
    "            The data to encode.\n",
    "        Returns\n",
    "        -------\n",
    "        X_out : sparse matrix or a 2-d array\n",
    "            Transformed input.\n",
    "        \"\"\"\n",
    "        X = check_array(X, accept_sparse='csc', dtype=np.object, copy=True)\n",
    "        n_samples, n_features = X.shape\n",
    "        X_int = np.zeros_like(X, dtype=np.int)\n",
    "        X_mask = np.ones_like(X, dtype=np.bool)\n",
    "\n",
    "        for i in range(n_features):\n",
    "            valid_mask = np.in1d(X[:, i], self.categories_[i])\n",
    "\n",
    "            if not np.all(valid_mask):\n",
    "                if self.handle_unknown == 'error':\n",
    "                    diff = np.unique(X[~valid_mask, i])\n",
    "                    msg = (\"Found unknown categories {0} in column {1}\"\n",
    "                           \" during transform\".format(diff, i))\n",
    "                    raise ValueError(msg)\n",
    "                else:\n",
    "                    # Set the problematic rows to an acceptable value and\n",
    "                    # continue `The rows are marked `X_mask` and will be\n",
    "                    # removed later.\n",
    "                    X_mask[:, i] = valid_mask\n",
    "                    X[:, i][~valid_mask] = self.categories_[i][0]\n",
    "            X_int[:, i] = self._label_encoders_[i].transform(X[:, i])\n",
    "\n",
    "        if self.encoding == 'ordinal':\n",
    "            return X_int.astype(self.dtype, copy=False)\n",
    "\n",
    "        mask = X_mask.ravel()\n",
    "        n_values = [cats.shape[0] for cats in self.categories_]\n",
    "        n_values = np.array([0] + n_values)\n",
    "        indices = np.cumsum(n_values)\n",
    "\n",
    "        column_indices = (X_int + indices[:-1]).ravel()[mask]\n",
    "        row_indices = np.repeat(np.arange(n_samples, dtype=np.int32),\n",
    "                                n_features)[mask]\n",
    "        data = np.ones(n_samples * n_features)[mask]\n",
    "\n",
    "        out = sparse.csc_matrix((data, (row_indices, column_indices)),\n",
    "                                shape=(n_samples, indices[-1]),\n",
    "                                dtype=self.dtype).tocsr()\n",
    "        if self.encoding == 'onehot-dense':\n",
    "            return out.toarray()\n",
    "        else:\n",
    "            return out"
   ]
  },
  {
   "cell_type": "code",
   "execution_count": null,
   "metadata": {},
   "outputs": [],
   "source": [
    "from sklearn.base import BaseEstimator, TransformerMixin\n",
    "\n",
    "# A class to select numerical or categorical columns \n",
    "# since Scikit-Learn doesn't handle DataFrames yet\n",
    "class DataFrameSelector(BaseEstimator, TransformerMixin):\n",
    "    def __init__(self, attribute_names):\n",
    "        self.attribute_names = attribute_names\n",
    "    def fit(self, X, y=None):\n",
    "        return self\n",
    "    def transform(self, X):\n",
    "        return X[self.attribute_names]"
   ]
  },
  {
   "cell_type": "code",
   "execution_count": null,
   "metadata": {},
   "outputs": [],
   "source": [
    "X_train.head()"
   ]
  },
  {
   "cell_type": "code",
   "execution_count": null,
   "metadata": {},
   "outputs": [],
   "source": [
    "from sklearn.pipeline import Pipeline, FeatureUnion\n",
    "from sklearn.preprocessing import StandardScaler\n",
    "\n",
    "# Columns to delete or fix: earliest_cr_line, last_pymnt_d, next_pymnt_d, last_credit_pull_d, verification_status_joint\n",
    "\n",
    "numeric = X_train.select_dtypes(exclude=[\"object\"])\n",
    "categorical = X_train.select_dtypes([\"object\"])\n",
    "\n",
    "numeric_pipeline = Pipeline([\n",
    "    ('selector', DataFrameSelector(numeric.columns.tolist())),\n",
    "    ('scaler', StandardScaler()),\n",
    "])\n",
    "\n",
    "categorical_pipeline = Pipeline([\n",
    "    ('selector', DataFrameSelector(categorical.columns.tolist())), # We will have to write the categorical columns manually and see if it works.\n",
    "    ('encoder', CategoricalEncoder(encoding=\"onehot-dense\")),\n",
    "])\n",
    "\n",
    "# Combine both Pipelines into one array\n",
    "combined_pipeline = FeatureUnion(transformer_list=[\n",
    "    ('numeric_pipeline', numeric_pipeline),\n",
    "    ('categorical_pipeline', categorical_pipeline)\n",
    "])\n",
    "\n",
    "#X_train = combined_pipeline.fit_transform(X_train)\n",
    "#X_test = combined_pipeline.fit_transform(X_test)"
   ]
  },
  {
   "cell_type": "code",
   "execution_count": null,
   "metadata": {},
   "outputs": [],
   "source": [
    "!jupyter nbconvert \"02 - Loan Prediction Data.ipynb\" --to pdf"
   ]
  },
  {
   "cell_type": "code",
   "execution_count": null,
   "metadata": {},
   "outputs": [],
   "source": []
  }
 ],
 "metadata": {
  "kernelspec": {
   "display_name": "Python 3",
   "language": "python",
   "name": "python3"
  },
  "language_info": {
   "codemirror_mode": {
    "name": "ipython",
    "version": 3
   },
   "file_extension": ".py",
   "mimetype": "text/x-python",
   "name": "python",
   "nbconvert_exporter": "python",
   "pygments_lexer": "ipython3",
   "version": "3.7.4"
  }
 },
 "nbformat": 4,
 "nbformat_minor": 2
}
